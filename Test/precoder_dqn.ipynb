{
 "cells": [
  {
   "cell_type": "code",
   "execution_count": 1,
   "metadata": {
    "pycharm": {
     "is_executing": false
    }
   },
   "outputs": [],
   "source": [
    "%load_ext autoreload\n",
    "%autoreload 2"
   ]
  },
  {
   "cell_type": "code",
   "execution_count": 2,
   "metadata": {
    "pycharm": {}
   },
   "outputs": [],
   "source": [
    "#Import packages\n",
    "import math\n",
    "import random\n",
    "import numpy as np\n",
    "import matplotlib\n",
    "import matplotlib.pyplot as plt\n",
    "\n",
    "from itertools import count\n",
    "from collections import deque\n",
    "\n",
    "import torch\n",
    "import torch.nn as nn\n",
    "import torch.optim as optim\n",
    "import torch.nn.functional as F\n",
    "\n",
    "import tqdm\n",
    "from tqdm import tnrange, tqdm_notebook\n",
    "from time import sleep\n",
    "import os\n",
    "\n",
    "#Import Custom Classes\n",
    "\n",
    "from Source.nn_model_dqn import QNetwork\n",
    "from Source.dqn_rcv_agent import Agent, ReplayBuffer, EpsilonGreedyStrategy\n",
    "from Source.env_manager import EnvManager\n",
    "from Source.misc_fun.utils import plot, get_moving_average"
   ]
  },
  {
   "cell_type": "code",
   "execution_count": 3,
   "metadata": {
    "pycharm": {}
   },
   "outputs": [],
   "source": [
    "#Hyper-parameters\n",
    "BUFFER_SIZE = int(1e5)      #replay buffer size\n",
    "BATCH_SIZE = 60             #minibatch size\n",
    "GAMMA = 0.999                #discount factor\n",
    "TAU = 1e-3                  #for soft update of target parameters\n",
    "LR = 5e-4                   #learning rate\n",
    "UPDATE_EVERY = 50            #how often to update the network\n",
    "eps_start = 1\n",
    "eps_end = 0.01\n",
    "eps_decay = 0.9983 #125e-6\n",
    "train_episodes = 2500\n",
    "test_episodes = 1\n",
    "seed = 0                    #random seed number\n",
    "episode_step_limit = 50\n",
    "#%%\n",
    "device = torch.device(\"cuda:0\" if torch.cuda.is_available() else \"cpu\")"
   ]
  },
  {
   "cell_type": "code",
   "execution_count": 4,
   "metadata": {
    "pycharm": {}
   },
   "outputs": [
    {
     "name": "stdout",
     "output_type": "stream",
     "text": [
      "QNetwork(\n",
      "  (hidden_layers): ModuleList(\n",
      "    (0): Linear(in_features=18, out_features=256, bias=True)\n",
      "    (1): Linear(in_features=256, out_features=256, bias=True)\n",
      "    (2): Linear(in_features=256, out_features=64, bias=True)\n",
      "  )\n",
      "  (output): Linear(in_features=64, out_features=8, bias=True)\n",
      ")\n"
     ]
    }
   ],
   "source": [
    "#Choose the environment\n",
    "em = EnvManager(device, 'combrf-v2', seed)\n",
    "available_actions = em.num_actions_available()\n",
    "random.seed(seed)\n",
    "state_size = em.state_size()\n",
    "\n",
    "#Select the strategy\n",
    "strategy = EpsilonGreedyStrategy(eps_start, eps_end, eps_decay)\n",
    "\n",
    "#Initialize the agent\n",
    "agent = Agent(strategy, state_size, available_actions, seed, device)\n",
    "\n",
    "#Instantiate MemoryBuffer\n",
    "memory = ReplayBuffer(available_actions, BUFFER_SIZE, BATCH_SIZE, seed, device)\n",
    "\n",
    "policy_net = QNetwork(state_size, available_actions, seed).to(device)\n",
    "target_net = QNetwork(state_size, available_actions, seed).to(device)\n",
    "print(policy_net)\n",
    "\n",
    "#Initialize target_net weights to policy_net weights\n",
    "target_net.load_state_dict(policy_net.state_dict())\n",
    "target_net.eval() #Set the target_net in eval mode\n",
    "\n",
    "#Select the optimizer\n",
    "optimizer = optim.Adam(params=policy_net.parameters(), lr=LR)"
   ]
  },
  {
   "cell_type": "markdown",
   "metadata": {
    "pycharm": {}
   },
   "source": [
    "## Test with random untrained actions"
   ]
  },
  {
   "cell_type": "code",
   "execution_count": 5,
   "metadata": {
    "pycharm": {}
   },
   "outputs": [
    {
     "name": "stdout",
     "output_type": "stream",
     "text": [
      "[[ 6.11010277e-09  3.29491542e-08  4.31309047e-08 -2.81945424e-08\n",
      "   1.01850273e-08  8.93463694e-09 -2.70804423e-08  4.22745297e-08\n",
      "  -5.28607717e-08  5.76852877e-08  3.86517752e-08 -5.05895488e-08\n",
      "   5.70131554e-08 -5.72224338e-08  5.11945731e-08 -3.95865988e-08\n",
      "   2.36637587e-08 -5.16161281e-09]]\n",
      "6\n",
      "Episode score: 0.36787944117144233\n"
     ]
    }
   ],
   "source": [
    "obs = em.env.reset()\n",
    "print(obs)\n",
    "ep_rwd=[]\n",
    "while True:\n",
    "    action = random.randrange(em.env.action_space.n)\n",
    "    \n",
    "    obs, rwd, done, _ = em.env.step(action)\n",
    "    print(action)\n",
    "    ep_rwd.append(rwd)\n",
    "    if done:\n",
    "        break\n",
    "        \n",
    "print(\"Episode score: {}\".format(np.sum(ep_rwd)))"
   ]
  },
  {
   "cell_type": "markdown",
   "metadata": {
    "pycharm": {}
   },
   "source": [
    "## Train the DQN agent"
   ]
  },
  {
   "cell_type": "code",
   "execution_count": 6,
   "metadata": {
    "pycharm": {}
   },
   "outputs": [
    {
     "name": "stderr",
     "output_type": "stream",
     "text": [
      "c:\\pycharm_workspace\\precoding_rl\\venv\\lib\\site-packages\\ipykernel_launcher.py:4: TqdmDeprecationWarning: This function will be removed in tqdm==5.0.0\n",
      "Please use `tqdm.notebook.tqdm` instead of `tqdm.tqdm_notebook`\n",
      "  after removing the cwd from sys.path.\n"
     ]
    },
    {
     "data": {
      "application/vnd.jupyter.widget-view+json": {
       "model_id": "504c408d25a54f1cbddb92af4be424b6",
       "version_major": 2,
       "version_minor": 0
      },
      "text/plain": [
       "HBox(children=(FloatProgress(value=0.0, description='training loop: ', max=2500.0, style=ProgressStyle(descrip…"
      ]
     },
     "metadata": {},
     "output_type": "display_data"
    },
    {
     "name": "stdout",
     "output_type": "stream",
     "text": [
      "Episode 2500,\tScore: 0.00, eps: 0.014212739063531082, moving avg_rwd: 0.18553340435028076, ep_loss: 0.023518394678831192\r"
     ]
    },
    {
     "data": {
      "image/png": "[encoded data removed]",
      "text/plain": [
       "<Figure size 432x288 with 1 Axes>"
      ]
     },
     "metadata": {
      "needs_background": "light"
     },
     "output_type": "display_data"
    },
    {
     "name": "stdout",
     "output_type": "stream",
     "text": [
      "Episode 2500 \t 100 episode moving avg: 0.1855334\r"
     ]
    }
   ],
   "source": [
    "ep_rewards = []\n",
    "policy_net.train()\n",
    "\n",
    "outer = tqdm.tqdm_notebook(total=train_episodes, desc='training loop: ', position=0)\n",
    "\n",
    "for episode in range(train_episodes):\n",
    "    obs = em.reset()\n",
    "\n",
    "    ep_loss = 0.0\n",
    "    ep_rwd = 0.0\n",
    "    timestep = 0\n",
    "    agent.current_step +=1\n",
    "    while True:\n",
    "        action = agent.act(obs, policy_net)\n",
    "        next_obs, reward, done, _ = em.step(action)\n",
    "        #agent.step(obs, action, reward, next_obs, done)\n",
    "        ep_rwd += reward.item()\n",
    "        memory.add(obs, action, reward, next_obs, done)\n",
    "        \n",
    "        obs = next_obs\n",
    "        \n",
    "        if memory.can_provide_sample():\n",
    "            experiences = memory.sample()\n",
    "            observations, actions, rewards, next_observations, dones = experiences\n",
    "            \n",
    "            #print(states.shape, states.dtype)\n",
    "            #print(actions.unsqueeze(-1).shape)\n",
    "            current_q_values = policy_net(observations).gather(1,index=actions.unsqueeze(-1))\n",
    "            next_q_values = target_net(next_observations).detach().max(1)[0]\n",
    "            target_q_values = (next_q_values*GAMMA) + rewards\n",
    "            #print(policy_net(observations).type())\n",
    "            #print(target_q_values.unsqueeze(1).type())\n",
    "            loss = F.mse_loss(current_q_values, target_q_values.unsqueeze(1).float())\n",
    "            #print(\"loss: \", loss)\n",
    "            ep_loss += loss.item()\n",
    "            \n",
    "            optimizer.zero_grad()\n",
    "            loss.backward()\n",
    "            optimizer.step()\n",
    "        \n",
    "        if done:\n",
    "            ep_rewards.append(ep_rwd)\n",
    "            moving_avg_rwd = get_moving_average(100, ep_rewards)\n",
    "            print('\\rEpisode {},\\tScore: {:.2f}, eps: {}, moving avg_rwd: {}, ep_loss: {}'.format(episode+1, ep_rwd, agent.strategy.get_exploration_rate(agent.current_step), moving_avg_rwd[-1], ep_loss), end=\"\\r\")\n",
    "            #plot(episode_rewards, 100)\n",
    "            break\n",
    "            \n",
    "        \n",
    "    if episode % UPDATE_EVERY == 0:\n",
    "        target_net.load_state_dict(policy_net.state_dict())\n",
    "    \n",
    "    if (np.mean(ep_rewards[-100:]) >= 20000):\n",
    "        print(\"Goal is reached in {} episodes!\\n\".format(episode))\n",
    "        break\n",
    "        \n",
    "    \n",
    "    \n",
    "    # update tqdm bar\n",
    "    outer.update(1)\n",
    "    \n",
    "torch.save(policy_net.state_dict(), 'checkpoint.pth')    \n",
    "#timer.finish()\n",
    "plot(ep_rewards, 100)"
   ]
  },
  {
   "cell_type": "markdown",
   "metadata": {
    "pycharm": {}
   },
   "source": [
    "## Test the DQN agent"
   ]
  },
  {
   "cell_type": "code",
   "execution_count": 11,
   "metadata": {
    "pycharm": {}
   },
   "outputs": [
    {
     "name": "stdout",
     "output_type": "stream",
     "text": [
      "TX loc: [[450 150   0]]\n",
      "Test episode score: 0.3678794503211975\n",
      "TX dir: [90.0, 90.0, 90.0, 90.0, 90.0, 90.0, 90.0, 90.0]\n",
      "RX dirs: [112.5, 180.0, 180.0, 180.0, 180.0, 180.0, 180.0, 180.0]\n",
      "Individual rwds: [0.3678794503211975, 0.0, 0.0, 0.0, 0.0, 0.0, 0.0, 0.0]\n",
      "Data rates: [3.444000885414936e-08, 3.7701705424050665e-08, 3.7701705424050665e-08, 3.7701705424050665e-08, 3.7701705424050665e-08, 3.7701705424050665e-08, 3.7701705424050665e-08, 3.7701705424050665e-08]\n",
      "[array([[ 6.81587906e-08,  1.04017445e-07, -2.09666542e-08,\n",
      "         1.43614693e-08, -7.38382910e-09,  2.14693721e-10,\n",
      "         6.96000990e-09, -1.39542093e-08,  2.05865156e-08,\n",
      "        -2.66849209e-08,  3.94552409e-08, -4.23091571e-08,\n",
      "         4.40658106e-08, -4.46796449e-08,  4.41347368e-08,\n",
      "        -4.24452189e-08,  3.96549105e-08, -3.58361767e-08]], dtype=float32), array([[ 6.81587906e-08,  1.04017445e-07, -2.09666542e-08,\n",
      "         1.43614693e-08, -7.38382910e-09,  2.14693721e-10,\n",
      "         6.96000990e-09, -1.39542093e-08,  2.05865156e-08,\n",
      "        -2.66849209e-08,  3.94552409e-08, -4.23091571e-08,\n",
      "         4.40658106e-08, -4.46796449e-08,  4.41347368e-08,\n",
      "        -4.24452189e-08,  3.96549105e-08, -3.58361767e-08]], dtype=float32), array([[ 6.81587906e-08,  1.04017445e-07, -2.09666542e-08,\n",
      "         1.43614693e-08, -7.38382910e-09,  2.14693721e-10,\n",
      "         6.96000990e-09, -1.39542093e-08,  2.05865156e-08,\n",
      "        -2.66849209e-08,  3.94552409e-08, -4.23091571e-08,\n",
      "         4.40658106e-08, -4.46796449e-08,  4.41347368e-08,\n",
      "        -4.24452189e-08,  3.96549105e-08, -3.58361767e-08]], dtype=float32), array([[ 6.81587906e-08,  1.04017445e-07, -2.09666542e-08,\n",
      "         1.43614693e-08, -7.38382910e-09,  2.14693721e-10,\n",
      "         6.96000990e-09, -1.39542093e-08,  2.05865156e-08,\n",
      "        -2.66849209e-08,  3.94552409e-08, -4.23091571e-08,\n",
      "         4.40658106e-08, -4.46796449e-08,  4.41347368e-08,\n",
      "        -4.24452189e-08,  3.96549105e-08, -3.58361767e-08]], dtype=float32), array([[ 6.81587906e-08,  1.04017445e-07, -2.09666542e-08,\n",
      "         1.43614693e-08, -7.38382910e-09,  2.14693721e-10,\n",
      "         6.96000990e-09, -1.39542093e-08,  2.05865156e-08,\n",
      "        -2.66849209e-08,  3.94552409e-08, -4.23091571e-08,\n",
      "         4.40658106e-08, -4.46796449e-08,  4.41347368e-08,\n",
      "        -4.24452189e-08,  3.96549105e-08, -3.58361767e-08]], dtype=float32), array([[ 6.81587906e-08,  1.04017445e-07, -2.09666542e-08,\n",
      "         1.43614693e-08, -7.38382910e-09,  2.14693721e-10,\n",
      "         6.96000990e-09, -1.39542093e-08,  2.05865156e-08,\n",
      "        -2.66849209e-08,  3.94552409e-08, -4.23091571e-08,\n",
      "         4.40658106e-08, -4.46796449e-08,  4.41347368e-08,\n",
      "        -4.24452189e-08,  3.96549105e-08, -3.58361767e-08]], dtype=float32), array([[ 6.81587906e-08,  1.04017445e-07, -2.09666542e-08,\n",
      "         1.43614693e-08, -7.38382910e-09,  2.14693721e-10,\n",
      "         6.96000990e-09, -1.39542093e-08,  2.05865156e-08,\n",
      "        -2.66849209e-08,  3.94552409e-08, -4.23091571e-08,\n",
      "         4.40658106e-08, -4.46796449e-08,  4.41347368e-08,\n",
      "        -4.24452189e-08,  3.96549105e-08, -3.58361767e-08]], dtype=float32), array([[ 6.81587906e-08,  1.04017445e-07, -2.09666542e-08,\n",
      "         1.43614693e-08, -7.38382910e-09,  2.14693721e-10,\n",
      "         6.96000990e-09, -1.39542093e-08,  2.05865156e-08,\n",
      "        -2.66849209e-08,  3.94552409e-08, -4.23091571e-08,\n",
      "         4.40658106e-08, -4.46796449e-08,  4.41347368e-08,\n",
      "        -4.24452189e-08,  3.96549105e-08, -3.58361767e-08]], dtype=float32)]\n"
     ]
    }
   ],
   "source": [
    "policy_net.load_state_dict(torch.load('checkpoint.pth'))\n",
    "\n",
    "test_ep_rwds=[]\n",
    "tx_dirs=[]\n",
    "rx_dirs = []\n",
    "data_rates = []\n",
    "test_obs = []\n",
    "policy_net.eval()\n",
    "for i_episode in range(1):\n",
    "    \n",
    "    obs = em.reset()\n",
    "    step = 0\n",
    "    score = 0\n",
    "    while True:\n",
    "        #if(step <=1):\n",
    "        test_obs.append(obs.cpu().data.numpy())\n",
    "        action = policy_net(obs).argmax(dim=1).to(device)#agent.act(state_tensor, policy_net)\n",
    "        tx_dirs.append(em.env.tx_bdir*(180/np.pi))\n",
    "        rx_dirs.append(em.env.rx_bdir*(180/np.pi))\n",
    "        data_rates.append(em.env.rate)\n",
    "        next_obs, reward, done, _ = em.step(action)\n",
    "        \n",
    "        \n",
    "        step+=1\n",
    "        test_ep_rwds.append(reward.item())\n",
    "        if done:\n",
    "            break\n",
    "print(\"TX loc: {}\".format(em.env.tx_loc))\n",
    "print(\"Test episode score: {}\".format(np.sum(test_ep_rwds)))\n",
    "\n",
    "from Source.misc_fun.geometry import cart2sph\n",
    "(az_aod, el_aod, temp) = cart2sph(em.env.rx_loc[0, 0] - em.env.tx_loc[0, 0], em.env.rx_loc[0, 1] -\n",
    "                                                          em.env.tx_loc[0, 1], em.env.rx_loc[0, 2] -em.env.tx_loc[0, 2])\n",
    "print(\"TX dir: {}\".format(tx_dirs))\n",
    "print(\"RX dirs: {}\".format(rx_dirs))\n",
    "print(\"Individual rwds: {}\".format(test_ep_rwds))\n",
    "print(\"Data rates: {}\".format(data_rates))\n",
    "\n",
    "print(test_obs)"
   ]
  },
  {
   "cell_type": "code",
   "execution_count": 8,
   "metadata": {
    "pycharm": {}
   },
   "outputs": [
    {
     "name": "stdout",
     "output_type": "stream",
     "text": [
      "[ 0.35355339+0.j         -0.21414724+0.28132003j -0.09413548-0.34079101j\n",
      "  0.32818294+0.13151411j -0.30342524+0.18147485j  0.03938632-0.3513527j\n",
      "  0.25571266+0.24415371j -0.34915657+0.05558496j]\n",
      "[ 0.35355339+0.j         -0.01609517+0.35318684j -0.35208796-0.03215697j\n",
      "  0.04815209-0.35025901j  0.3477038 +0.06404737j -0.07980984+0.34442763j\n",
      " -0.34043727-0.09540683j  0.11080599-0.33574102j]\n"
     ]
    },
    {
     "ename": "ValueError",
     "evalue": "could not broadcast input array from shape (0) into shape (18)",
     "output_type": "error",
     "traceback": [
      "\u001b[1;31m---------------------------------------------------------------------------\u001b[0m",
      "\u001b[1;31mValueError\u001b[0m                                Traceback (most recent call last)",
      "\u001b[1;32m<ipython-input-8-499a0646da80>\u001b[0m in \u001b[0;36m<module>\u001b[1;34m\u001b[0m\n\u001b[0;32m      8\u001b[0m \u001b[1;33m\u001b[0m\u001b[0m\n\u001b[0;32m      9\u001b[0m \u001b[0mh\u001b[0m \u001b[1;33m=\u001b[0m \u001b[0mnp\u001b[0m\u001b[1;33m.\u001b[0m\u001b[0marray\u001b[0m\u001b[1;33m(\u001b[0m\u001b[0mtest_obs\u001b[0m\u001b[1;33m[\u001b[0m\u001b[1;36m0\u001b[0m\u001b[1;33m]\u001b[0m\u001b[1;33m[\u001b[0m\u001b[1;36m0\u001b[0m\u001b[1;33m]\u001b[0m\u001b[1;33m[\u001b[0m\u001b[1;33m:\u001b[0m\u001b[0mem\u001b[0m\u001b[1;33m.\u001b[0m\u001b[0menv\u001b[0m\u001b[1;33m.\u001b[0m\u001b[0mN_rx\u001b[0m\u001b[1;33m*\u001b[0m\u001b[0mem\u001b[0m\u001b[1;33m.\u001b[0m\u001b[0menv\u001b[0m\u001b[1;33m.\u001b[0m\u001b[0mN_tx\u001b[0m\u001b[1;33m]\u001b[0m\u001b[1;33m,\u001b[0m \u001b[0mdtype\u001b[0m\u001b[1;33m=\u001b[0m\u001b[0mnp\u001b[0m\u001b[1;33m.\u001b[0m\u001b[0mcomplex\u001b[0m\u001b[1;33m)\u001b[0m \u001b[1;31m#pick the real part of eff channel from observations\u001b[0m\u001b[1;33m\u001b[0m\u001b[1;33m\u001b[0m\u001b[0m\n\u001b[1;32m---> 10\u001b[1;33m \u001b[0mh\u001b[0m\u001b[1;33m.\u001b[0m\u001b[0mimag\u001b[0m \u001b[1;33m=\u001b[0m \u001b[0mtest_obs\u001b[0m\u001b[1;33m[\u001b[0m\u001b[1;36m0\u001b[0m\u001b[1;33m]\u001b[0m\u001b[1;33m[\u001b[0m\u001b[1;36m0\u001b[0m\u001b[1;33m]\u001b[0m\u001b[1;33m[\u001b[0m\u001b[0mem\u001b[0m\u001b[1;33m.\u001b[0m\u001b[0menv\u001b[0m\u001b[1;33m.\u001b[0m\u001b[0mN_rx\u001b[0m\u001b[1;33m*\u001b[0m\u001b[0mem\u001b[0m\u001b[1;33m.\u001b[0m\u001b[0menv\u001b[0m\u001b[1;33m.\u001b[0m\u001b[0mN_tx\u001b[0m\u001b[1;33m:\u001b[0m\u001b[1;36m2\u001b[0m\u001b[1;33m*\u001b[0m\u001b[0mem\u001b[0m\u001b[1;33m.\u001b[0m\u001b[0menv\u001b[0m\u001b[1;33m.\u001b[0m\u001b[0mN_rx\u001b[0m\u001b[1;33m*\u001b[0m\u001b[0mem\u001b[0m\u001b[1;33m.\u001b[0m\u001b[0menv\u001b[0m\u001b[1;33m.\u001b[0m\u001b[0mN_tx\u001b[0m\u001b[1;33m]\u001b[0m\u001b[1;33m\u001b[0m\u001b[1;33m\u001b[0m\u001b[0m\n\u001b[0m\u001b[0;32m     11\u001b[0m \u001b[0mh\u001b[0m \u001b[1;33m=\u001b[0m \u001b[0mh\u001b[0m\u001b[1;33m.\u001b[0m\u001b[0mreshape\u001b[0m\u001b[1;33m(\u001b[0m\u001b[0mem\u001b[0m\u001b[1;33m.\u001b[0m\u001b[0menv\u001b[0m\u001b[1;33m.\u001b[0m\u001b[0mN_rx\u001b[0m\u001b[1;33m,\u001b[0m \u001b[0mem\u001b[0m\u001b[1;33m.\u001b[0m\u001b[0menv\u001b[0m\u001b[1;33m.\u001b[0m\u001b[0mN_tx\u001b[0m\u001b[1;33m,\u001b[0m \u001b[1;36m1\u001b[0m\u001b[1;33m)\u001b[0m\u001b[1;33m\u001b[0m\u001b[1;33m\u001b[0m\u001b[0m\n\u001b[0;32m     12\u001b[0m \u001b[0mprint\u001b[0m\u001b[1;33m(\u001b[0m\u001b[0mh\u001b[0m\u001b[1;33m[\u001b[0m\u001b[1;36m0\u001b[0m\u001b[1;33m]\u001b[0m\u001b[1;33m[\u001b[0m\u001b[1;36m0\u001b[0m\u001b[1;33m]\u001b[0m\u001b[1;33m[\u001b[0m\u001b[1;36m0\u001b[0m\u001b[1;33m]\u001b[0m\u001b[1;33m)\u001b[0m\u001b[1;33m\u001b[0m\u001b[1;33m\u001b[0m\u001b[0m\n",
      "\u001b[1;31mValueError\u001b[0m: could not broadcast input array from shape (0) into shape (18)"
     ]
    }
   ],
   "source": [
    "from Source.antenna import ula\n",
    "\n",
    "wRF = ula.steervec(em.env.N_rx, 7*(2*np.pi/em.env.N_rx), 0)\n",
    "print(wRF)\n",
    "\n",
    "fRF = ula.steervec(em.env.N_tx, az_aod, 0)\n",
    "print(fRF)\n",
    "\n",
    "h = np.array(test_obs[0][0][:em.env.N_rx*em.env.N_tx], dtype=np.complex) #pick the real part of eff channel from observations\n",
    "h.imag = test_obs[0][0][em.env.N_rx*em.env.N_tx:2*em.env.N_rx*em.env.N_tx]\n",
    "h = h.reshape(em.env.N_rx, em.env.N_tx, 1)\n",
    "print(h[0][0][0])\n",
    "rssi_val = np.sqrt(em.env.N_rx * em.env.N_tx) * np.array(np.conj(wRF.T).dot(h[:, :, 0])).dot(fRF) + (np.conj(wRF.T).dot(em.env.noise))[0]\n",
    "print(rssi_val, np.abs(rssi_val))"
   ]
  }
 ],
 "metadata": {
  "kernelspec": {
   "display_name": "Python 3",
   "language": "python",
   "name": "python3"
  },
  "language_info": {
   "codemirror_mode": {
    "name": "ipython",
    "version": 3
   },
   "file_extension": ".py",
   "mimetype": "text/x-python",
   "name": "python",
   "nbconvert_exporter": "python",
   "pygments_lexer": "ipython3",
   "version": "3.7.1"
  }
 },
 "nbformat": 4,
 "nbformat_minor": 1
}

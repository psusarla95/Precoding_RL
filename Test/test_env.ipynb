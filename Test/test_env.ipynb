{
 "cells": [
  {
   "cell_type": "code",
   "execution_count": 2,
   "metadata": {
    "pycharm": {
     "is_executing": false
    }
   },
   "outputs": [],
   "source": [
    "%load_ext autoreload\n",
    "%autoreload 2"
   ]
  },
  {
   "cell_type": "code",
   "execution_count": 3,
   "metadata": {
    "pycharm": {
     "is_executing": false
    }
   },
   "outputs": [],
   "source": [
    "import gym\n",
    "import gym_combrf\n",
    "\n",
    "import numpy as np"
   ]
  },
  {
   "cell_type": "code",
   "execution_count": 4,
   "metadata": {
    "pycharm": {}
   },
   "outputs": [],
   "source": [
    "env = gym.make('combrf-v0')"
   ]
  },
  {
   "cell_type": "code",
   "execution_count": 5,
   "metadata": {},
   "outputs": [
    {
     "name": "stdout",
     "output_type": "stream",
     "text": [
      "[-4.90896424e-07  2.97712579e-07 -2.35526870e-08 -2.57013395e-07\n",
      "  4.67673366e-07 -5.51128970e-07  4.84680780e-07 -2.86402307e-07\n",
      "  2.97712579e-07 -2.35526870e-08 -2.57013395e-07  4.67673366e-07\n",
      " -5.51128970e-07  4.84680780e-07 -2.86402307e-07  1.02241146e-08\n",
      " -2.35526870e-08 -2.57013395e-07  4.67673366e-07 -5.51128970e-07\n",
      "  4.84680780e-07 -2.86402307e-07  1.02241146e-08  2.68734976e-07\n",
      " -2.57013395e-07  4.67673366e-07 -5.51128970e-07  4.84680780e-07\n",
      " -2.86402307e-07  1.02241146e-08  2.68734976e-07 -4.74599756e-07\n",
      "  4.67673366e-07 -5.51128970e-07  4.84680780e-07 -2.86402307e-07\n",
      "  1.02241146e-08  2.68734976e-07 -4.74599756e-07  5.51376231e-07\n",
      " -5.51128970e-07  4.84680780e-07 -2.86402307e-07  1.02241146e-08\n",
      "  2.68734976e-07 -4.74599756e-07  5.51376231e-07 -4.78181659e-07\n",
      "  4.84680780e-07 -2.86402307e-07  1.02241146e-08  2.68734976e-07\n",
      " -4.74599756e-07  5.51376231e-07 -4.78181659e-07  2.74924527e-07\n",
      " -2.86402307e-07  1.02241146e-08  2.68734976e-07 -4.74599756e-07\n",
      "  5.51376231e-07 -4.78181659e-07  2.74924527e-07  3.11043759e-09\n",
      "  2.51095803e-07 -4.64107339e-07  5.50884445e-07 -4.87824267e-07\n",
      "  2.92078797e-07 -1.68896356e-08 -2.62893406e-07  4.71171009e-07\n",
      " -4.64107339e-07  5.50884445e-07 -4.87824267e-07  2.92078797e-07\n",
      " -1.68896356e-08 -2.62893406e-07  4.71171009e-07 -5.51292906e-07\n",
      "  5.50884445e-07 -4.87824267e-07  2.92078797e-07 -1.68896356e-08\n",
      " -2.62893406e-07  4.71171009e-07 -5.51292906e-07  4.81466420e-07\n",
      " -4.87824267e-07  2.92078797e-07 -1.68896356e-08 -2.62893406e-07\n",
      "  4.71171009e-07 -5.51292906e-07  4.81466420e-07 -2.80683938e-07\n",
      "  2.92078797e-07 -1.68896356e-08 -2.62893406e-07  4.71171009e-07\n",
      " -5.51292906e-07  4.81466420e-07 -2.80683938e-07  3.55709857e-09\n",
      " -1.68896356e-08 -2.62893406e-07  4.71171009e-07 -5.51292906e-07\n",
      "  4.81466420e-07 -2.80683938e-07  3.55709857e-09  2.74537251e-07\n",
      " -2.62893406e-07  4.71171009e-07 -5.51292906e-07  4.81466420e-07\n",
      " -2.80683938e-07  3.55709857e-09  2.74537251e-07 -4.77959105e-07\n",
      "  4.71171009e-07 -5.51292906e-07  4.81466420e-07 -2.80683938e-07\n",
      "  3.55709857e-09  2.74537251e-07 -4.77959105e-07  5.51378932e-07\n",
      " -1.59287602e-06 -2.15427564e-06]\n",
      "(130,)\n"
     ]
    }
   ],
   "source": [
    "obs = env.reset()\n",
    "print(obs)\n",
    "print(obs.shape)"
   ]
  },
  {
   "cell_type": "code",
   "execution_count": 87,
   "metadata": {},
   "outputs": [
    {
     "name": "stdout",
     "output_type": "stream",
     "text": [
      "4.0472260760510556e-10\n",
      "[[100 300   0]]\n"
     ]
    }
   ],
   "source": [
    "#testing the norm\n",
    "ch = env.h#*np.sqrt(env.N_tx*env.N_rx)\n",
    "print(np.square(np.linalg.norm(ch))*env.N_tx*env.N_rx)\n",
    "print(env.tx_loc)\n",
    "\n"
   ]
  },
  {
   "cell_type": "code",
   "execution_count": 118,
   "metadata": {},
   "outputs": [
    {
     "name": "stdout",
     "output_type": "stream",
     "text": [
      "(4.076889888864096e-06+5.886309145453286e-06j)\n",
      "(3.977705924787578e-12-4.8558165228438384e-11j)\n",
      "Max rwd:  0.9681581791971499\n",
      "cap: 4.4982333286305424e-08, rate: 4.35500138905088e-08\n"
     ]
    }
   ],
   "source": [
    "#Testing the max possible reward\n",
    "from Source.antenna import ula\n",
    "from Source.misc_fun.geometry import cart2sph\n",
    "obs = env.reset()\n",
    "\n",
    "tx = env.tx_loc\n",
    "rx = env.rx_loc\n",
    "(az_aoa, el_aoa, temp) = cart2sph(tx[0, 0] - rx[0, 0], tx[0, 1] -rx[0, 1], tx[0, 2] - rx[0, 2])\n",
    "\n",
    "wRF = ula.steervec(env.N_rx, az_aoa, el_aoa)\n",
    "rssi_val = np.sqrt(env.N_rx * env.N_tx) * np.array(np.conj(wRF.T).dot(env.h[:, :, 0])).dot(env.tx_beam) + (np.conj(wRF.T).dot(env.noise))[0]\n",
    "\n",
    "print(rssi_val)\n",
    "print((np.conj(wRF.T).dot(env.noise))[0])\n",
    "\n",
    "print(\"Max rwd: \", env.get_reward(rssi_val))\n",
    "print(\"cap: {0}, rate: {1}\".format(env.get_capacity(), env.rate))\n",
    "\n",
    "#As the max reward is close to 1, calculation of reward based on reward seems to be good, \n",
    "#especially with random tx_beam and additional noise"
   ]
  },
  {
   "cell_type": "code",
   "execution_count": 65,
   "metadata": {
    "pycharm": {}
   },
   "outputs": [
    {
     "name": "stdout",
     "output_type": "stream",
     "text": [
      "cap:  4.463352948540706e-08\n",
      "TX loc:  [[-500 -350    0]]\n",
      "2.4103030936150933e-09 4.463352948540706e-08\n",
      "[3.9226663] 0.05400207246444945 2.4103030936150933e-09\n",
      "2.1046968592910787e-11 4.463352948540706e-08\n",
      "[1.9823393] 0.00047155062204507257 2.1046968592910787e-11\n",
      "1.0540120358045763e-11 4.463352948540706e-08\n",
      "[5.8039203] 0.00023614803667928295 1.0540120358045763e-11\n",
      "2.724746975030659e-09 4.463352948540706e-08\n",
      "[3.550446] 0.061047087390243594 2.724746975030659e-09\n",
      "2.25792289288396e-12 4.463352948540706e-08\n",
      "[1.7021279] 5.058804264229627e-05 2.25792289288396e-12\n",
      "1.9138074780571493e-12 4.463352948540706e-08\n",
      "[0.43971637] 4.28782464690109e-05 1.9138074780571493e-12\n",
      "4.092573120603679e-09 4.463352948540706e-08\n",
      "[2.5464685] 0.09169279615096866 4.092573120603679e-09\n",
      "9.382991024337825e-12 4.463352948540706e-08\n",
      "[5.3439584] 0.00021022292282320168 9.382991024337825e-12\n"
     ]
    }
   ],
   "source": [
    "obs = env.reset()\n",
    "#print(obs)\n",
    "print(\"cap: \", env.get_capacity())\n",
    "print(\"TX loc: \", env.tx_loc)\n",
    "i=0\n",
    "while True:\n",
    "    action = env.action_space.sample()\n",
    "    obs, rwd, done, _ = env.step(action)\n",
    "    #if (i==0):\n",
    "    #    print(obs)\n",
    "    #    i+=1\n",
    "    print(action, rwd, env.rate)\n",
    "    \n",
    "    if done:\n",
    "        break"
   ]
  },
  {
   "cell_type": "code",
   "execution_count": 51,
   "metadata": {},
   "outputs": [
    {
     "data": {
      "text/plain": [
       "4.6759384142555e-10"
      ]
     },
     "execution_count": 51,
     "metadata": {},
     "output_type": "execute_result"
    }
   ],
   "source": [
    "7.198145261279652e-13/0.0015394012118155188"
   ]
  }
 ],
 "metadata": {
  "kernelspec": {
   "display_name": "Python 3",
   "language": "python",
   "name": "python3"
  },
  "language_info": {
   "codemirror_mode": {
    "name": "ipython",
    "version": 3
   },
   "file_extension": ".py",
   "mimetype": "text/x-python",
   "name": "python",
   "nbconvert_exporter": "python",
   "pygments_lexer": "ipython3",
   "version": "3.7.1"
  },
  "stem_cell": {
   "cell_type": "raw",
   "metadata": {
    "pycharm": {
     "metadata": false
    }
   },
   "source": "print('Hello World')"
  }
 },
 "nbformat": 4,
 "nbformat_minor": 1
}

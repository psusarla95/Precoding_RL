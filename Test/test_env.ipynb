{
 "cells": [
  {
   "cell_type": "code",
   "execution_count": 14,
   "metadata": {},
   "outputs": [],
   "source": [
    "%load_ext autoreload\n",
    "%autoreload 2"
   ]
  },
  {
   "cell_type": "code",
   "execution_count": 33,
   "metadata": {
    "pycharm": {
     "is_executing": false
    }
   },
   "outputs": [],
   "source": [
    "import gym\n",
    "import gym_combrf\n",
    "\n",
    "import numpy as np"
   ]
  },
  {
   "cell_type": "code",
   "execution_count": 41,
   "metadata": {},
   "outputs": [],
   "source": [
    "env = gym.make('combrf-v0')"
   ]
  },
  {
   "cell_type": "code",
   "execution_count": 42,
   "metadata": {},
   "outputs": [
    {
     "name": "stdout",
     "output_type": "stream",
     "text": [
      "cap:  52.76523516461883\n",
      "[2.5725791] 1.8883272711462178e-16\n",
      "[4.5540547] 2.6389657103352733e-16\n",
      "[4.379775] 7.962823734112472e-16\n",
      "[0.66187924] 5.595847849212519e-18\n",
      "[1.747725] 2.2901522757139314e-16\n",
      "[2.830975] 3.583462649142091e-17\n",
      "[3.4580524] 3.971114080010793e-17\n",
      "[0.5251882] 4.964502744845963e-17\n"
     ]
    }
   ],
   "source": [
    "obs = env.reset()\n",
    "print(\"cap: \", env.get_capacity())\n",
    "\n",
    "while True:\n",
    "    action = env.action_space.sample()\n",
    "    obs, rwd, done, _ = env.step(action)\n",
    "    print(action, rwd)\n",
    "    if done:\n",
    "        break"
   ]
  }
 ],
 "metadata": {
  "kernelspec": {
   "display_name": "Python 3",
   "language": "python",
   "name": "python3"
  },
  "language_info": {
   "codemirror_mode": {
    "name": "ipython",
    "version": 3
   },
   "file_extension": ".py",
   "mimetype": "text/x-python",
   "name": "python",
   "nbconvert_exporter": "python",
   "pygments_lexer": "ipython3",
   "version": "3.7.1"
  },
  "stem_cell": {
   "cell_type": "raw",
   "metadata": {
    "pycharm": {
     "metadata": false
    }
   },
   "source": "print('Hello World')"
  }
 },
 "nbformat": 4,
 "nbformat_minor": 1
}

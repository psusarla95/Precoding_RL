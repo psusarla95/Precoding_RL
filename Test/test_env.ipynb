{
 "cells": [
  {
   "cell_type": "code",
   "execution_count": 1,
   "metadata": {
    "pycharm": {
     "is_executing": false
    }
   },
   "outputs": [],
   "source": [
    "%load_ext autoreload\n",
    "%autoreload 2"
   ]
  },
  {
   "cell_type": "code",
   "execution_count": 29,
   "metadata": {
    "pycharm": {
     "is_executing": false
    }
   },
   "outputs": [],
   "source": [
    "import gym\n",
    "import gym_combrf\n",
    "\n",
    "import numpy as np"
   ]
  },
  {
   "cell_type": "code",
   "execution_count": 30,
   "metadata": {
    "pycharm": {}
   },
   "outputs": [],
   "source": [
    "env = gym.make('combrf-v0')"
   ]
  },
  {
   "cell_type": "code",
   "execution_count": 31,
   "metadata": {},
   "outputs": [
    {
     "name": "stdout",
     "output_type": "stream",
     "text": [
      "[ 5.40374171e-07 -4.11675207e-07  1.71003040e-07  1.16180934e-07\n",
      " -3.71764386e-07  5.26230142e-07 -5.37564437e-07  4.02684410e-07\n",
      " -4.11675207e-07  1.71003040e-07  1.16180934e-07 -3.71764386e-07\n",
      "  5.26230142e-07 -5.37564437e-07  4.02684410e-07 -1.58276624e-07\n",
      "  1.71003040e-07  1.16180934e-07 -3.71764386e-07  5.26230142e-07\n",
      " -5.37564437e-07  4.02684410e-07 -1.58276624e-07 -1.29181460e-07\n",
      "  1.16180934e-07 -3.71764386e-07  5.26230142e-07 -5.37564437e-07\n",
      "  4.02684410e-07 -1.58276624e-07 -1.29181460e-07  3.81502957e-07\n",
      " -3.71764386e-07  5.26230142e-07 -5.37564437e-07  4.02684410e-07\n",
      " -1.58276624e-07 -1.29181460e-07  3.81502957e-07 -5.30057924e-07\n",
      "  5.26230142e-07 -5.37564437e-07  4.02684410e-07 -1.58276624e-07\n",
      " -1.29181460e-07  3.81502957e-07 -5.30057924e-07  5.34440296e-07\n",
      " -5.37564437e-07  4.02684410e-07 -1.58276624e-07 -1.29181460e-07\n",
      "  3.81502957e-07 -5.30057924e-07  5.34440296e-07 -3.93458094e-07\n",
      "  4.02684410e-07 -1.58276624e-07 -1.29181460e-07  3.81502957e-07\n",
      " -5.30057924e-07  5.34440296e-07 -3.93458094e-07  1.45457637e-07\n",
      " -1.09654712e-07  3.66813202e-07 -5.24200688e-07  5.39008712e-07\n",
      " -4.07209580e-07  1.64651870e-07  1.22690167e-07 -3.76661210e-07\n",
      "  3.66813202e-07 -5.24200688e-07  5.39008712e-07 -4.07209580e-07\n",
      "  1.64651870e-07  1.22690167e-07 -3.76661210e-07  5.28182650e-07\n",
      " -5.24200688e-07  5.39008712e-07 -4.07209580e-07  1.64651870e-07\n",
      "  1.22690167e-07 -3.76661210e-07  5.28182650e-07 -5.36041558e-07\n",
      "  5.39008712e-07 -4.07209580e-07  1.64651870e-07  1.22690167e-07\n",
      " -3.76661210e-07  5.28182650e-07 -5.36041558e-07  3.98100358e-07\n",
      " -4.07209580e-07  1.64651870e-07  1.22690167e-07 -3.76661210e-07\n",
      "  5.28182650e-07 -5.36041558e-07  3.98100358e-07 -1.51878234e-07\n",
      "  1.64651870e-07  1.22690167e-07 -3.76661210e-07  5.28182650e-07\n",
      " -5.36041558e-07  3.98100358e-07 -1.51878234e-07 -1.35653863e-07\n",
      "  1.22690167e-07 -3.76661210e-07  5.28182650e-07 -5.36041558e-07\n",
      "  3.98100358e-07 -1.51878234e-07 -1.35653863e-07  3.86288919e-07\n",
      " -3.76661210e-07  5.28182650e-07 -5.36041558e-07  3.98100358e-07\n",
      " -1.51878234e-07 -1.35653863e-07  3.86288919e-07 -5.31855692e-07\n",
      " -2.99541871e-07  4.62981143e-07]\n",
      "(130,)\n"
     ]
    }
   ],
   "source": [
    "obs = env.reset()\n",
    "print(obs)\n",
    "print(obs.shape)"
   ]
  },
  {
   "cell_type": "code",
   "execution_count": 66,
   "metadata": {},
   "outputs": [
    {
     "name": "stdout",
     "output_type": "stream",
     "text": [
      "1.0423548554007233e-05\n",
      "[[-500 -350    0]]\n"
     ]
    }
   ],
   "source": [
    "#testing the norm\n",
    "ch = env.h*np.sqrt(env.N_tx*env.N_rx)\n",
    "print(np.linalg.norm(ch))\n",
    "print(env.tx_loc)"
   ]
  },
  {
   "cell_type": "code",
   "execution_count": 72,
   "metadata": {},
   "outputs": [
    {
     "name": "stdout",
     "output_type": "stream",
     "text": [
      "(1.5861689594554825e-06-2.3479223609691287e-06j)\n",
      "4.087514154585782e-08 4.463352948540706e-08\n",
      "Max rwd:  0.915794516300172\n",
      "cap:  4.463352948540706e-08\n"
     ]
    }
   ],
   "source": [
    "#Testing the max possible reward\n",
    "from Source.antenna import ula\n",
    "from Source.misc_fun.geometry import cart2sph\n",
    "\n",
    "tx = env.tx_loc\n",
    "rx = env.rx_loc\n",
    "(az_aoa, el_aoa, temp) = cart2sph(tx[0, 0] - rx[0, 0], tx[0, 1] -rx[0, 1], tx[0, 2] - rx[0, 2])\n",
    "\n",
    "wRF = ula.steervec(env.N_rx, az_aoa, el_aoa)\n",
    "rssi_val = np.sqrt(env.N_rx * env.N_tx) * np.array(np.conj(wRF.T).dot(env.h[:, :, 0])).dot(env.tx_beam) #+ (np.conj(wRF.T).dot(self.noise))[0]\n",
    "\n",
    "print(rssi_val)\n",
    "print(\"Max rwd: \", env.get_reward(rssi_val))\n",
    "print(\"cap: \", env.get_capacity())\n",
    "\n",
    "#As the max reward is close to 1, calculation of reward based on reward seems to be good, \n",
    "#especially with random tx_beam and additional noise"
   ]
  },
  {
   "cell_type": "code",
   "execution_count": 65,
   "metadata": {
    "pycharm": {}
   },
   "outputs": [
    {
     "name": "stdout",
     "output_type": "stream",
     "text": [
      "cap:  4.463352948540706e-08\n",
      "TX loc:  [[-500 -350    0]]\n",
      "2.4103030936150933e-09 4.463352948540706e-08\n",
      "[3.9226663] 0.05400207246444945 2.4103030936150933e-09\n",
      "2.1046968592910787e-11 4.463352948540706e-08\n",
      "[1.9823393] 0.00047155062204507257 2.1046968592910787e-11\n",
      "1.0540120358045763e-11 4.463352948540706e-08\n",
      "[5.8039203] 0.00023614803667928295 1.0540120358045763e-11\n",
      "2.724746975030659e-09 4.463352948540706e-08\n",
      "[3.550446] 0.061047087390243594 2.724746975030659e-09\n",
      "2.25792289288396e-12 4.463352948540706e-08\n",
      "[1.7021279] 5.058804264229627e-05 2.25792289288396e-12\n",
      "1.9138074780571493e-12 4.463352948540706e-08\n",
      "[0.43971637] 4.28782464690109e-05 1.9138074780571493e-12\n",
      "4.092573120603679e-09 4.463352948540706e-08\n",
      "[2.5464685] 0.09169279615096866 4.092573120603679e-09\n",
      "9.382991024337825e-12 4.463352948540706e-08\n",
      "[5.3439584] 0.00021022292282320168 9.382991024337825e-12\n"
     ]
    }
   ],
   "source": [
    "obs = env.reset()\n",
    "#print(obs)\n",
    "print(\"cap: \", env.get_capacity())\n",
    "print(\"TX loc: \", env.tx_loc)\n",
    "i=0\n",
    "while True:\n",
    "    action = env.action_space.sample()\n",
    "    obs, rwd, done, _ = env.step(action)\n",
    "    #if (i==0):\n",
    "    #    print(obs)\n",
    "    #    i+=1\n",
    "    print(action, rwd, env.rate)\n",
    "    \n",
    "    if done:\n",
    "        break"
   ]
  },
  {
   "cell_type": "code",
   "execution_count": 51,
   "metadata": {},
   "outputs": [
    {
     "data": {
      "text/plain": [
       "4.6759384142555e-10"
      ]
     },
     "execution_count": 51,
     "metadata": {},
     "output_type": "execute_result"
    }
   ],
   "source": [
    "7.198145261279652e-13/0.0015394012118155188"
   ]
  }
 ],
 "metadata": {
  "kernelspec": {
   "display_name": "Python 3",
   "language": "python",
   "name": "python3"
  },
  "language_info": {
   "codemirror_mode": {
    "name": "ipython",
    "version": 3
   },
   "file_extension": ".py",
   "mimetype": "text/x-python",
   "name": "python",
   "nbconvert_exporter": "python",
   "pygments_lexer": "ipython3",
   "version": "3.7.1"
  },
  "stem_cell": {
   "cell_type": "raw",
   "metadata": {
    "pycharm": {
     "metadata": false
    }
   },
   "source": "print('Hello World')"
  }
 },
 "nbformat": 4,
 "nbformat_minor": 1
}

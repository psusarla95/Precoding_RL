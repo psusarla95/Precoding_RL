{
 "cells": [
  {
   "cell_type": "code",
   "execution_count": 1,
   "metadata": {},
   "outputs": [],
   "source": [
    "%load_ext autoreload\n",
    "%autoreload 2"
   ]
  },
  {
   "cell_type": "code",
   "execution_count": 2,
   "metadata": {},
   "outputs": [],
   "source": [
    "import gym\n",
    "import gym_combrf\n",
    "\n",
    "import numpy as np"
   ]
  },
  {
   "cell_type": "code",
   "execution_count": 3,
   "metadata": {},
   "outputs": [],
   "source": [
    "env = gym.make('combrf-v2')"
   ]
  },
  {
   "cell_type": "code",
   "execution_count": 4,
   "metadata": {},
   "outputs": [
    {
     "name": "stdout",
     "output_type": "stream",
     "text": [
      "[[-2.48786977e-07 -2.60210733e-07  2.35619449e+00]]\n",
      "(1, 3)\n"
     ]
    }
   ],
   "source": [
    "obs = env.reset()\n",
    "print(obs)\n",
    "print(obs.shape)"
   ]
  },
  {
   "cell_type": "code",
   "execution_count": 9,
   "metadata": {},
   "outputs": [
    {
     "name": "stdout",
     "output_type": "stream",
     "text": [
      "(3.2320278438121694e-07-1.602220935889844e-05j)\n",
      "(-1.2447367895324485e-10-7.541740423348933e-11j)\n",
      "Max rwd:  1.0\n",
      "cap: 4.620884181610404e-08, rate: 4.587456960814161e-08\n",
      "[ 1.42891810e-08-7.08084972e-07j  8.07172404e-09+7.08183137e-07j\n",
      " -3.04245827e-08-7.07575334e-07j  5.27471118e-08+7.06262169e-07j\n",
      " -7.50170589e-08-7.04244950e-07j  9.72122235e-08+7.01525689e-07j\n",
      " -1.19310480e-07-6.98107097e-07j  1.41289799e-07+6.93992580e-07j]\n",
      "[ 1.42891810e-08  8.07172404e-09 -3.04245827e-08  5.27471118e-08\n",
      " -7.50170589e-08  9.72122235e-08 -1.19310480e-07  1.41289799e-07]\n",
      "[-7.08084972e-07  7.08183137e-07 -7.07575334e-07  7.06262169e-07\n",
      " -7.04244950e-07  7.01525689e-07 -6.98107097e-07  6.93992580e-07]\n"
     ]
    }
   ],
   "source": [
    "#Testing the max possible reward\n",
    "from Source.antenna import ula\n",
    "from Source.misc_fun.geometry import cart2sph\n",
    "obs = env.reset()\n",
    "\n",
    "tx = env.tx_loc\n",
    "rx = env.rx_loc\n",
    "(az_aoa, el_aoa, temp) = cart2sph(tx[0, 0] - rx[0, 0], tx[0, 1] -rx[0, 1], tx[0, 2] - rx[0, 2])\n",
    "\n",
    "wRF = ula.steervec(env.N_rx, az_aoa, el_aoa)\n",
    "rssi_val = np.sqrt(env.N_rx * env.N_tx) * np.array(np.conj(wRF.T).dot(env.h[:, :, 0])).dot(env.tx_beam) + (np.conj(wRF.T).dot(env.noise))[0]\n",
    "\n",
    "print(rssi_val)\n",
    "print((np.conj(wRF.T).dot(env.noise))[0])\n",
    "\n",
    "print(\"Max rwd: \", env.get_reward(rssi_val))\n",
    "print(\"cap: {0}, rate: {1}\".format(env.get_capacity(), env.rate))\n",
    "\n",
    "eff_ch = np.array(env.h[: , :,0]).dot(env.tx_beam)\n",
    "print(eff_ch)\n",
    "print(eff_ch.real.ravel())\n",
    "print(eff_ch.imag.ravel())\n",
    "\n",
    "#As the max reward is close to 1, calculation of reward based on reward seems to be good, \n",
    "#especially with random tx_beam and additional noise"
   ]
  },
  {
   "cell_type": "code",
   "execution_count": 19,
   "metadata": {},
   "outputs": [
    {
     "name": "stdout",
     "output_type": "stream",
     "text": [
      "cap:  4.685269800587232e-08\n",
      "TX loc:  [[200 200   0]]\n",
      "2 0.9458102843085208 4.431376362155536e-08\n",
      "1 0.9458102843085208 4.431376362155536e-08\n",
      "1 0.9458102843085208 4.431376362155536e-08\n",
      "1 0.9458102843085208 4.431376362155536e-08\n",
      "1 0.9458102843085208 4.431376362155536e-08\n",
      "4 0.9458102843085208 4.431376362155536e-08\n",
      "5 0.9458102843085208 4.431376362155536e-08\n",
      "1 0.9458102843085208 4.431376362155536e-08\n"
     ]
    }
   ],
   "source": [
    "obs = env.reset()\n",
    "#print(obs)\n",
    "print(\"cap: \", env.get_capacity())\n",
    "print(\"TX loc: \", env.tx_loc)\n",
    "i=0\n",
    "while True:\n",
    "    action = env.action_space.sample()\n",
    "    obs, rwd, done, _ = env.step(action)\n",
    "    #if (i==0):\n",
    "    #    print(obs)\n",
    "    #    i+=1\n",
    "    print(action, rwd, env.rate)\n",
    "    \n",
    "    if done:\n",
    "        break"
   ]
  }
 ],
 "metadata": {
  "kernelspec": {
   "display_name": "Python 3",
   "language": "python",
   "name": "python3"
  },
  "language_info": {
   "codemirror_mode": {
    "name": "ipython",
    "version": 3
   },
   "file_extension": ".py",
   "mimetype": "text/x-python",
   "name": "python",
   "nbconvert_exporter": "python",
   "pygments_lexer": "ipython3",
   "version": "3.7.1"
  }
 },
 "nbformat": 4,
 "nbformat_minor": 1
}

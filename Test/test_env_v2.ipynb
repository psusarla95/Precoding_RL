{
 "cells": [
  {
   "cell_type": "code",
   "execution_count": 1,
   "metadata": {},
   "outputs": [],
   "source": [
    "%load_ext autoreload\n",
    "%autoreload 2"
   ]
  },
  {
   "cell_type": "code",
   "execution_count": 14,
   "metadata": {},
   "outputs": [],
   "source": [
    "import gym\n",
    "import gym_combrf\n",
    "\n",
    "import numpy as np"
   ]
  },
  {
   "cell_type": "code",
   "execution_count": 15,
   "metadata": {},
   "outputs": [],
   "source": [
    "env = gym.make('combrf-v2')"
   ]
  },
  {
   "cell_type": "code",
   "execution_count": 16,
   "metadata": {},
   "outputs": [
    {
     "name": "stdout",
     "output_type": "stream",
     "text": [
      "[[ 8.81415264e-08 -1.40525407e-07  8.20909147e-08  4.10804951e-08\n",
      "  -1.31855816e-07  1.18649605e-07 -1.18762842e-08 -1.04262677e-07\n",
      "  -1.40525407e-07  8.20909147e-08  4.10804951e-08 -1.31855816e-07\n",
      "   1.18649605e-07 -1.18762842e-08 -1.04262677e-07  1.38180064e-07\n",
      "   8.20909147e-08  4.10804951e-08 -1.31855816e-07  1.18649605e-07\n",
      "  -1.18762842e-08 -1.04262677e-07  1.38180064e-07 -6.31286152e-08\n",
      "   4.10804951e-08 -1.31855816e-07  1.18649605e-07 -1.18762842e-08\n",
      "  -1.04262677e-07  1.38180064e-07 -6.31286152e-08 -6.17060761e-08\n",
      "  -1.31855816e-07  1.18649605e-07 -1.18762842e-08 -1.04262677e-07\n",
      "   1.38180064e-07 -6.31286152e-08 -6.17060761e-08  1.37879339e-07\n",
      "   1.18649605e-07 -1.18762842e-08 -1.04262677e-07  1.38180064e-07\n",
      "  -6.31286152e-08 -6.17060761e-08  1.37879339e-07 -1.05320919e-07\n",
      "  -1.18762842e-08 -1.04262677e-07  1.38180064e-07 -6.31286152e-08\n",
      "  -6.17060761e-08  1.37879339e-07 -1.05320919e-07 -1.02936061e-08\n",
      "  -1.04262677e-07  1.38180064e-07 -6.31286152e-08 -6.17060761e-08\n",
      "   1.37879339e-07 -1.05320919e-07 -1.02936061e-08  1.17790591e-07\n",
      "   1.09512179e-07  3.80210090e-09 -1.14118043e-07  1.34440466e-07\n",
      "  -4.87431020e-08 -7.53930856e-08  1.40074266e-07 -9.42928428e-08\n",
      "   3.80210090e-09 -1.14118043e-07  1.34440466e-07 -4.87431020e-08\n",
      "  -7.53930856e-08  1.40074266e-07 -9.42928428e-08 -2.58479412e-08\n",
      "  -1.14118043e-07  1.34440466e-07 -4.87431020e-08 -7.53930856e-08\n",
      "   1.40074266e-07 -9.42928428e-08 -2.58479412e-08  1.25605032e-07\n",
      "   1.34440466e-07 -4.87431020e-08 -7.53930856e-08  1.40074266e-07\n",
      "  -9.42928428e-08 -2.58479412e-08  1.25605032e-07 -1.26309961e-07\n",
      "  -4.87431020e-08 -7.53930856e-08  1.40074266e-07 -9.42928428e-08\n",
      "  -2.58479412e-08  1.25605032e-07 -1.26309961e-07  2.74068214e-08\n",
      "  -7.53930856e-08  1.40074266e-07 -9.42928428e-08 -2.58479412e-08\n",
      "   1.25605032e-07 -1.26309961e-07  2.74068214e-08  9.31093449e-08\n",
      "   1.40074266e-07 -9.42928428e-08 -2.58479412e-08  1.25605032e-07\n",
      "  -1.26309961e-07  2.74068214e-08  9.31093449e-08 -1.40199457e-07\n",
      "  -9.42928428e-08 -2.58479412e-08  1.25605032e-07 -1.26309961e-07\n",
      "   2.74068214e-08  9.31093449e-08 -1.40199457e-07  7.67282401e-08\n",
      "   3.50180054e-08  1.06179295e-07]]\n",
      "(1, 130)\n"
     ]
    }
   ],
   "source": [
    "obs = env.reset()\n",
    "print(obs)\n",
    "print(obs.shape)"
   ]
  },
  {
   "cell_type": "code",
   "execution_count": 17,
   "metadata": {},
   "outputs": [
    {
     "name": "stdout",
     "output_type": "stream",
     "text": [
      "(1.024777263504655e-05+6.907097811717408e-06j)\n",
      "(-1.062834481608818e-11-3.259753139234158e-11j)\n",
      "Max rwd:  0.3\n",
      "cap: 4.5124777551316415e-08, rate: 4.5124771239789924e-08\n"
     ]
    }
   ],
   "source": [
    "#Testing the max possible reward\n",
    "from Source.antenna import ula\n",
    "from Source.misc_fun.geometry import cart2sph\n",
    "obs = env.reset()\n",
    "\n",
    "tx = env.tx_loc\n",
    "rx = env.rx_loc\n",
    "(az_aoa, el_aoa, temp) = cart2sph(tx[0, 0] - rx[0, 0], tx[0, 1] -rx[0, 1], tx[0, 2] - rx[0, 2])\n",
    "\n",
    "wRF = ula.steervec(env.N_rx, az_aoa, el_aoa)\n",
    "rssi_val = np.sqrt(env.N_rx * env.N_tx) * np.array(np.conj(wRF.T).dot(env.h[:, :, 0])).dot(env.tx_beam) + (np.conj(wRF.T).dot(env.noise))[0]\n",
    "\n",
    "print(rssi_val)\n",
    "print((np.conj(wRF.T).dot(env.noise))[0])\n",
    "\n",
    "print(\"Max rwd: \", env.get_reward(rssi_val))\n",
    "print(\"cap: {0}, rate: {1}\".format(env.get_capacity(), env.rate))\n",
    "\n",
    "#As the max reward is close to 1, calculation of reward based on reward seems to be good, \n",
    "#especially with random tx_beam and additional noise"
   ]
  },
  {
   "cell_type": "code",
   "execution_count": 19,
   "metadata": {},
   "outputs": [
    {
     "name": "stdout",
     "output_type": "stream",
     "text": [
      "cap:  4.685269800587232e-08\n",
      "TX loc:  [[200 200   0]]\n",
      "2 0.9458102843085208 4.431376362155536e-08\n",
      "1 0.9458102843085208 4.431376362155536e-08\n",
      "1 0.9458102843085208 4.431376362155536e-08\n",
      "1 0.9458102843085208 4.431376362155536e-08\n",
      "1 0.9458102843085208 4.431376362155536e-08\n",
      "4 0.9458102843085208 4.431376362155536e-08\n",
      "5 0.9458102843085208 4.431376362155536e-08\n",
      "1 0.9458102843085208 4.431376362155536e-08\n"
     ]
    }
   ],
   "source": [
    "obs = env.reset()\n",
    "#print(obs)\n",
    "print(\"cap: \", env.get_capacity())\n",
    "print(\"TX loc: \", env.tx_loc)\n",
    "i=0\n",
    "while True:\n",
    "    action = env.action_space.sample()\n",
    "    obs, rwd, done, _ = env.step(action)\n",
    "    #if (i==0):\n",
    "    #    print(obs)\n",
    "    #    i+=1\n",
    "    print(action, rwd, env.rate)\n",
    "    \n",
    "    if done:\n",
    "        break"
   ]
  }
 ],
 "metadata": {
  "kernelspec": {
   "display_name": "Python 3",
   "language": "python",
   "name": "python3"
  },
  "language_info": {
   "codemirror_mode": {
    "name": "ipython",
    "version": 3
   },
   "file_extension": ".py",
   "mimetype": "text/x-python",
   "name": "python",
   "nbconvert_exporter": "python",
   "pygments_lexer": "ipython3",
   "version": "3.7.1"
  }
 },
 "nbformat": 4,
 "nbformat_minor": 1
}

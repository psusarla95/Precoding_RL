{
 "cells": [
  {
   "cell_type": "code",
   "execution_count": 44,
   "metadata": {
    "pycharm": {
     "is_executing": true
    }
   },
   "outputs": [
    {
     "name": "stdout",
     "output_type": "stream",
     "text": [
      "The autoreload extension is already loaded. To reload it, use:\n",
      "  %reload_ext autoreload\n"
     ]
    }
   ],
   "source": [
    "%load_ext autoreload\n",
    "%autoreload 2\n",
    "%matplotlib qt"
   ]
  },
  {
   "cell_type": "code",
   "execution_count": 45,
   "metadata": {},
   "outputs": [],
   "source": [
    "import gym\n",
    "import gym_combrf\n",
    "import matplotlib.pyplot as plt\n",
    "from Source.antenna import upa\n",
    "from Source.misc_fun.utils import *\n",
    "import mpl_toolkits.mplot3d.axes3d as axes3d\n",
    "\n",
    "import numpy as np"
   ]
  },
  {
   "cell_type": "code",
   "execution_count": 49,
   "metadata": {},
   "outputs": [],
   "source": [
    "env = gym.make('combrf-v12')"
   ]
  },
  {
   "cell_type": "code",
   "execution_count": 55,
   "metadata": {},
   "outputs": [
    {
     "name": "stdout",
     "output_type": "stream",
     "text": [
      "[(0.78539816, 4, 0.78539816, 1) (0.78539816, 4, 1.57079633, 1)\n",
      " (0.78539816, 4, 2.35619449, 1) (0.78539816, 4, 3.14159265, 1)\n",
      " (1.57079633, 4, 0.78539816, 1) (1.57079633, 4, 1.57079633, 1)\n",
      " (1.57079633, 4, 2.35619449, 1) (1.57079633, 4, 3.14159265, 1)\n",
      " (2.35619449, 4, 0.78539816, 1) (2.35619449, 4, 1.57079633, 1)\n",
      " (2.35619449, 4, 2.35619449, 1) (2.35619449, 4, 3.14159265, 1)\n",
      " (3.14159265, 4, 0.78539816, 1) (3.14159265, 4, 1.57079633, 1)\n",
      " (3.14159265, 4, 2.35619449, 1) (3.14159265, 4, 3.14159265, 1)]\n",
      "16\n"
     ]
    }
   ],
   "source": [
    "beams = Generate_UPABeams(4,1,np.array([np.pi/4]))\n",
    "print(beams)\n",
    "print(len(beams))\n",
    "#print(beams[2])\n",
    "#print(beams[58:63])"
   ]
  },
  {
   "cell_type": "code",
   "execution_count": 4,
   "metadata": {},
   "outputs": [
    {
     "name": "stdout",
     "output_type": "stream",
     "text": [
      "[ 0.25+0.00000000e+00j -0.25+3.06161700e-17j  0.25-6.12323400e-17j\n",
      " -0.25+9.18485099e-17j  0.25+0.00000000e+00j -0.25+3.06161700e-17j\n",
      "  0.25-6.12323400e-17j -0.25+9.18485099e-17j  0.25+0.00000000e+00j\n",
      " -0.25+3.06161700e-17j  0.25-6.12323400e-17j -0.25+9.18485099e-17j\n",
      "  0.25+0.00000000e+00j -0.25+3.06161700e-17j  0.25-6.12323400e-17j\n",
      " -0.25+9.18485099e-17j]\n",
      "[ 0.25+0.00000000e+00j  0.25+4.80917673e-17j  0.25+9.61835347e-17j\n",
      "  0.25+1.44275302e-16j -0.25+3.06161700e-17j -0.25-1.74755974e-17j\n",
      " -0.25-6.55673647e-17j -0.25-1.13659132e-16j  0.25-6.12323400e-17j\n",
      "  0.25-1.31405726e-17j  0.25+3.49511947e-17j  0.25+8.30429621e-17j\n",
      " -0.25+9.18485099e-17j -0.25+4.37567426e-17j -0.25-4.33502475e-18j\n",
      " -0.25-5.24267921e-17j]\n"
     ]
    }
   ],
   "source": [
    "#Create a UPA steering vector and plot the 3D beam\n",
    "\n",
    "beamset = Generate_BeamDir(4)\n",
    "\n",
    "bs_steer = upa.steervec(4,4, beamset[1],0)\n",
    "print(bs_steer)\n",
    "\n",
    "bs_steer2 = upa.steervec(4,4, beamset[1],beamset[1])\n",
    "print(bs_steer2)\n",
    "\n",
    "X,Y,Z = upa_plotbeam(beamset[1], 0, 4,4)\n",
    "\n",
    "#fig = plt.figure()\n",
    "ax = plt.subplot(111, projection='3d')#fig.add_subplot(1, 1, 1, projection='3d')\n",
    "ax.plot_surface(\n",
    "    X, Y, Z, rstride=1, cstride=1, cmap=plt.get_cmap('jet'),\n",
    "    linewidth=0, antialiased=False, alpha=0.5)\n",
    "\n",
    "plt.show()\n",
    "#ax = plt.subplot(111, projection='polar')\n",
    "##print(theta.shape, gr.shape)\n",
    "#ax.plot(theta2, gr2)\n",
    "#plt.show()\n",
    "    "
   ]
  },
  {
   "cell_type": "code",
   "execution_count": 32,
   "metadata": {},
   "outputs": [
    {
     "name": "stdout",
     "output_type": "stream",
     "text": [
      "rate: 21.87511764982132, xaction: 0, yaction: 0\n",
      "rate: 11.205900733977389, xaction: 0, yaction: 1\n",
      "rate: 14.446495104998945, xaction: 0, yaction: 2\n",
      "rate: 0.0, xaction: 0, yaction: 3\n",
      "rate: 14.44649510499894, xaction: 0, yaction: 4\n",
      "rate: 11.205900733977401, xaction: 0, yaction: 5\n",
      "rate: 21.87511764982132, xaction: 0, yaction: 6\n",
      "rate: 24.162994857830327, xaction: 0, yaction: 7\n",
      "rate: 16.339587114649852, xaction: 1, yaction: 0\n",
      "rate: 0.0, xaction: 1, yaction: 1\n",
      "rate: 12.97053686443371, xaction: 1, yaction: 2\n",
      "rate: 0.0, xaction: 1, yaction: 3\n",
      "rate: 12.970536864433704, xaction: 1, yaction: 4\n",
      "rate: 0.0, xaction: 1, yaction: 5\n",
      "rate: 16.339587114649852, xaction: 1, yaction: 6\n",
      "rate: 24.162994857830327, xaction: 1, yaction: 7\n",
      "rate: 19.45639632393806, xaction: 2, yaction: 0\n",
      "rate: 12.846237010026549, xaction: 2, yaction: 1\n",
      "rate: 12.676793149064185, xaction: 2, yaction: 2\n",
      "rate: 0.0, xaction: 2, yaction: 3\n",
      "rate: 12.676793149064181, xaction: 2, yaction: 4\n",
      "rate: 12.84623701002656, xaction: 2, yaction: 5\n",
      "rate: 19.45639632393806, xaction: 2, yaction: 6\n",
      "rate: 24.162994857830327, xaction: 2, yaction: 7\n",
      "rate: 19.346595835567335, xaction: 3, yaction: 0\n",
      "rate: 10.974509817831684, xaction: 3, yaction: 1\n",
      "rate: 12.144188955191048, xaction: 3, yaction: 2\n",
      "rate: 0.0, xaction: 3, yaction: 3\n",
      "rate: 12.144188955191042, xaction: 3, yaction: 4\n",
      "rate: 10.9745098178317, xaction: 3, yaction: 5\n",
      "rate: 19.346595835567335, xaction: 3, yaction: 6\n",
      "rate: 24.162994857830327, xaction: 3, yaction: 7\n",
      "rate: 19.45639632393806, xaction: 4, yaction: 0\n",
      "rate: 12.846237010026549, xaction: 4, yaction: 1\n",
      "rate: 12.676793149064185, xaction: 4, yaction: 2\n",
      "rate: 0.0, xaction: 4, yaction: 3\n",
      "rate: 12.676793149064181, xaction: 4, yaction: 4\n",
      "rate: 12.84623701002656, xaction: 4, yaction: 5\n",
      "rate: 19.45639632393806, xaction: 4, yaction: 6\n",
      "rate: 24.162994857830327, xaction: 4, yaction: 7\n",
      "rate: 16.339587114649852, xaction: 5, yaction: 0\n",
      "rate: 0.0, xaction: 5, yaction: 1\n",
      "rate: 12.97053686443371, xaction: 5, yaction: 2\n",
      "rate: 0.0, xaction: 5, yaction: 3\n",
      "rate: 12.970536864433704, xaction: 5, yaction: 4\n",
      "rate: 0.0, xaction: 5, yaction: 5\n",
      "rate: 16.339587114649852, xaction: 5, yaction: 6\n",
      "rate: 24.162994857830327, xaction: 5, yaction: 7\n",
      "rate: 21.87511764982132, xaction: 6, yaction: 0\n",
      "rate: 11.205900733977392, xaction: 6, yaction: 1\n",
      "rate: 14.446495104998949, xaction: 6, yaction: 2\n",
      "rate: 0.0, xaction: 6, yaction: 3\n",
      "rate: 14.446495104998942, xaction: 6, yaction: 4\n",
      "rate: 11.205900733977407, xaction: 6, yaction: 5\n",
      "rate: 21.87511764982132, xaction: 6, yaction: 6\n",
      "rate: 24.162994857830327, xaction: 6, yaction: 7\n",
      "rate: 23.71559175334305, xaction: 7, yaction: 0\n",
      "rate: 18.58131546542823, xaction: 7, yaction: 1\n",
      "rate: 18.705631191361014, xaction: 7, yaction: 2\n",
      "rate: 0.0, xaction: 7, yaction: 3\n",
      "rate: 18.705631191361007, xaction: 7, yaction: 4\n",
      "rate: 18.581315465428244, xaction: 7, yaction: 5\n",
      "rate: 23.71559175334305, xaction: 7, yaction: 6\n",
      "rate: 24.162994857830327, xaction: 7, yaction: 7\n",
      "best_rate: 24.162994857830327, best_xaction: 7, best_yaction: 7\n"
     ]
    }
   ],
   "source": [
    "ue_loc = np.array([[100,0,25]])\n",
    "bs_loc = np.array([[0,0,25]])\n",
    "\n",
    "#channel parameters\n",
    "from Source.misc_fun.upa_channel_mmW import *\n",
    "ch_model = 'uma-los'\n",
    "freq = 30e9\n",
    "tx_loc = ue_loc\n",
    "rx_loc = bs_loc\n",
    "sc_xyz = np.array([])\n",
    "N_rx = 8\n",
    "N_tx = 1\n",
    "nFFT = 1\n",
    "P_tx = 0 #in dB\n",
    "df = 60 * 1e3  # 75e3  # carrier spacing frequency\n",
    "B = nFFT * df #bandwidth\n",
    "\n",
    "ch_randval = np.exp(1j * 2 * np.pi * 0.3)\n",
    "channel = Channel(freq, tx_loc, rx_loc, sc_xyz, 'model', ch_model, 'nrx', N_rx,'ntx', N_tx, 'nFFT', nFFT, 'df', df)\n",
    "channel.generate_paths(ch_randval, 0)\n",
    "h = channel.get_h()\n",
    "\n",
    "#noise\n",
    "N0dBm = -174  # mW/Hz\n",
    "N0 = db2lin(N0dBm) * (10 ** -3)  # in WHz-1\n",
    "\n",
    "#Codebook\n",
    "beamwidth_vec = np.array([np.pi / N_rx])\n",
    "BeamSet = Generate_Beams(N_rx, beamwidth_vec)\n",
    "\n",
    "#tx_beam\n",
    "tx_dir_ndx = 0\n",
    "tx_bdir = BeamSet[tx_dir_ndx] \n",
    "tx_beam = upa.var_steervec(N_tx, N_tx, tx_bdir, tx_bdir)\n",
    "\n",
    "max_rate = 0.0\n",
    "for rbdir_ndx1 in range(N_rx):\n",
    "    rx_bdir1 = BeamSet[rbdir_ndx1]\n",
    "    for rbdir_ndx2 in range(N_rx):\n",
    "        rx_bdir2 = BeamSet[rbdir_ndx2]\n",
    "    \n",
    "        #print(\"reset: \", rbdir_ndx)\n",
    "        wRF = upa.var_steervec(N_rx, N_rx, rx_bdir1 , rx_bdir2)\n",
    "\n",
    "        eff_ch = np.array(h[:, :, 0]).dot(tx_beam)\n",
    "        #print(wRF.shape)\n",
    "        #print(eff_ch.shape)\n",
    "        #print(tx_beam.shape)\n",
    "        #print(h.shape)\n",
    "        rssi_val = np.sqrt(N_rx*N_rx*N_tx*N_tx)*np.array(np.conj(wRF.T).dot(eff_ch)) #+ (np.conj(wRF.T).dot(self.noise))[0]\n",
    "        Es = db2lin(P_tx)  # * (1e-3 / self.B)\n",
    "        SNR = Es * np.abs(rssi_val) ** 2 / (N0 * B)\n",
    "        rate = np.log2(1 + SNR)\n",
    "        \n",
    "        print(\"rate: {}, xaction: {}, yaction: {}\".format(rate, rbdir_ndx1, rbdir_ndx2))\n",
    "        if rate >= max_rate:\n",
    "            max_rate = rate\n",
    "            max_xaction_ndx = rbdir_ndx1\n",
    "            max_yaction_ndx = rbdir_ndx2\n",
    "            max_rssi_val = rssi_val\n",
    "\n",
    "print(\"best_rate: {}, best_xaction: {}, best_yaction: {}\".format(max_rate, max_xaction_ndx, max_yaction_ndx))\n"
   ]
  },
  {
   "cell_type": "code",
   "execution_count": 33,
   "metadata": {},
   "outputs": [],
   "source": [
    "#plot the best RX beam\n",
    "\n",
    "\n",
    "#fig = plt.figure()\n",
    "ax = plt.subplot(111, projection='3d')#fig.add_subplot(1, 1, 1, projection='3d')\n",
    "\n",
    "#for action_ndx1 in range(N_rx):\n",
    "#    for action_ndx2 in range(N_rx):\n",
    "X,Y,Z = upa_varplotbeam(BeamSet[max_xaction_ndx], BeamSet[max_yaction_ndx], N_rx,N_rx)\n",
    "ax.plot_surface(\n",
    "    X, Y, Z, rstride=1, cstride=1, cmap=plt.get_cmap('jet'),\n",
    "    linewidth=0, antialiased=False, alpha=0.5)\n",
    "\n",
    "#theta =\n",
    "ax.scatter(1*np.sin(45*np.pi/180)*np.cos(45*np.pi/180), 1*np.sin(45*np.pi/180)*np.sin(45*np.pi/180),1*np.cos(45*np.pi/180), c='blue')\n",
    "\n",
    "# Tweak the limits and add latex math labels.\n",
    "ax.set_zlim(-1, 1)\n",
    "ax.set_xlabel(r'r$\\cos(\\theta)_\\sin(\\phi)$')\n",
    "ax.set_ylabel(r'r$\\sin(\\theta)_\\sin(\\phi)$')\n",
    "ax.set_zlabel(r'$r\\cos(\\theta)$')\n",
    "ax.view_init(elev=31,azim=-117)\n",
    "\n",
    "plt.show()"
   ]
  },
  {
   "cell_type": "code",
   "execution_count": 7,
   "metadata": {},
   "outputs": [
    {
     "name": "stdout",
     "output_type": "stream",
     "text": [
      "[(0.78539816, 4) (1.57079633, 4) (2.35619449, 4) (3.14159265, 4)]\n",
      "[(45.0, 4), (90.0, 4), (135.0, 4), (180.0, 4)]\n"
     ]
    }
   ],
   "source": [
    "print(BeamSet)\n",
    "print([(x[0]*180/np.pi,x[1]) for x in BeamSet])"
   ]
  }
 ],
 "metadata": {
  "kernelspec": {
   "display_name": "Python 3",
   "language": "python",
   "name": "python3"
  },
  "language_info": {
   "codemirror_mode": {
    "name": "ipython",
    "version": 3
   },
   "file_extension": ".py",
   "mimetype": "text/x-python",
   "name": "python",
   "nbconvert_exporter": "python",
   "pygments_lexer": "ipython3",
   "version": "3.6.9"
  }
 },
 "nbformat": 4,
 "nbformat_minor": 1
}

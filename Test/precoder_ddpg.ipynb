{
 "cells": [
  {
   "cell_type": "code",
   "execution_count": 11,
   "metadata": {
    "pycharm": {
     "is_executing": false
    }
   },
   "outputs": [
    {
     "name": "stdout",
     "output_type": "stream",
     "text": [
      "The autoreload extension is already loaded. To reload it, use:\n",
      "  %reload_ext autoreload\n"
     ]
    }
   ],
   "source": [
    "%load_ext autoreload\n",
    "%autoreload 2"
   ]
  },
  {
   "cell_type": "code",
   "execution_count": 12,
   "metadata": {
    "pycharm": {}
   },
   "outputs": [],
   "source": [
    "import gym\n",
    "import gym_combrf\n",
    "\n",
    "import numpy as np\n",
    "import random\n",
    "import math\n",
    "import matplotlib.pyplot as plt\n",
    "import tqdm\n",
    "import os\n",
    "\n",
    "import torch\n",
    "import torch.optim as optim\n",
    "import torch.nn.functional as F\n",
    "\n",
    "import tqdm\n",
    "from tqdm import tnrange, tqdm_notebook\n",
    "from time import sleep\n",
    "import os\n"
   ]
  },
  {
   "cell_type": "code",
   "execution_count": 13,
   "metadata": {
    "pycharm": {
     "is_executing": false
    }
   },
   "outputs": [],
   "source": [
    "#initialize gym environment\n",
    "env = gym.make('combrf-v0')"
   ]
  },
  {
   "cell_type": "code",
   "execution_count": 14,
   "metadata": {
    "pycharm": {}
   },
   "outputs": [],
   "source": [
    "#hyper-parameters\n",
    "UPDATE_EVERY = 50 #how often to update the network\n",
    "EPS_START = 1\n",
    "EPS_END = 0.01\n",
    "EPS_DECAY = 0.9983\n",
    "EPS_STEP_LIMIT = 50\n",
    "\n",
    "TRAIN_EPISODES = 20\n",
    "TEST_EPISODES = 1\n",
    "seed = 0\n",
    "\n",
    "#initialize GPU device\n",
    "device = torch.device(\"cuda:0\" if torch.cuda.is_available() else \"cpu\")\n"
   ]
  },
  {
   "cell_type": "markdown",
   "metadata": {
    "pycharm": {}
   },
   "source": [
    "## Examine state and action spaces"
   ]
  },
  {
   "cell_type": "code",
   "execution_count": 15,
   "metadata": {
    "pycharm": {}
   },
   "outputs": [
    {
     "name": "stdout",
     "output_type": "stream",
     "text": [
      "Size of each action:  (1,)\n",
      "Size of each observation:  (1, 4)\n",
      "Observation looks like:\n",
      "[[-1.48197136e-07 -8.24293780e-07  1.26666667e+00  8.00000000e-01]]\n",
      "<class 'numpy.ndarray'>\n"
     ]
    }
   ],
   "source": [
    "#reset the environment\n",
    "obs = env.reset()\n",
    "\n",
    "#size of each action\n",
    "action_size = env.action_space.shape\n",
    "print(\"Size of each action: \", action_size)\n",
    "\n",
    "#size of observation\n",
    "print(\"Size of each observation: \", obs.shape)\n",
    "print(\"Observation looks like:\")\n",
    "print(obs)\n",
    "print(type(env.action_space.sample()))"
   ]
  },
  {
   "cell_type": "markdown",
   "metadata": {
    "pycharm": {}
   },
   "source": [
    "## Perform random actions in the environment"
   ]
  },
  {
   "cell_type": "code",
   "execution_count": 16,
   "metadata": {
    "pycharm": {}
   },
   "outputs": [
    {
     "name": "stdout",
     "output_type": "stream",
     "text": [
      "Random TX location: [[ 50 400   0]]\n",
      "Capacity: 4.58303301928599e-08\n",
      "Episodic score: 3.0 with episode length: 9 \n",
      "[1.0, 0.0, 0.0, 0.0, 0.0, 1.0, 1.0, 0.0, 0.0]\n",
      "[array([[0.52985943]]), array([[0.73979658]]), array([[0.30822571]]), array([[0.72348285]]), array([[0.84490128]]), array([[0.8473643]]), array([[0.57362247]]), array([[0.10171311]]), array([[0.10259758]])]\n"
     ]
    }
   ],
   "source": [
    "obs = env.reset()\n",
    "count = 0\n",
    "ep_rwd=0\n",
    "rewards =[]\n",
    "actions =[]\n",
    "while True:\n",
    "    action = np.array([[np.random.uniform(0,1)]])\n",
    "    obs, rwd, done, _ = env.step(action)\n",
    "    ep_rwd += rwd\n",
    "    rewards.append(rwd)\n",
    "    actions.append(action)\n",
    "    count +=1\n",
    "    if done:\n",
    "        break\n",
    "print(\"Random TX location: {0}\".format(env.tx_loc))\n",
    "print(\"Capacity: {0}\".format(env.cap))\n",
    "print(\"Episodic score: {0} with episode length: {1} \".format(ep_rwd, count))\n",
    "print(rewards)\n",
    "print(actions)"
   ]
  },
  {
   "cell_type": "markdown",
   "metadata": {
    "pycharm": {}
   },
   "source": [
    "## Instantiate DDPG agent"
   ]
  },
  {
   "cell_type": "code",
   "execution_count": 17,
   "metadata": {
    "pycharm": {}
   },
   "outputs": [
    {
     "name": "stdout",
     "output_type": "stream",
     "text": [
      "(1,)\n",
      "4\n",
      "Actor Local Network: Actor(\n",
      "  (fc1): Linear(in_features=4, out_features=400, bias=True)\n",
      "  (fc2): Linear(in_features=400, out_features=300, bias=True)\n",
      "  (fc3): Linear(in_features=300, out_features=1, bias=True)\n",
      ")\n",
      "Actor Target Network: Actor(\n",
      "  (fc1): Linear(in_features=4, out_features=400, bias=True)\n",
      "  (fc2): Linear(in_features=400, out_features=300, bias=True)\n",
      "  (fc3): Linear(in_features=300, out_features=1, bias=True)\n",
      ")\n",
      "Critic Local Network: Critic(\n",
      "  (fcs1): Linear(in_features=4, out_features=400, bias=True)\n",
      "  (fc2): Linear(in_features=401, out_features=300, bias=True)\n",
      "  (fc3): Linear(in_features=300, out_features=1, bias=True)\n",
      ")\n",
      "Critic Target Network: Critic(\n",
      "  (fcs1): Linear(in_features=4, out_features=400, bias=True)\n",
      "  (fc2): Linear(in_features=401, out_features=300, bias=True)\n",
      "  (fc3): Linear(in_features=300, out_features=1, bias=True)\n",
      ")\n",
      "<class 'numpy.ndarray'>\n",
      "tensor([[-1.1029e-07, -1.9018e-07,  8.6667e-01,  6.0000e-01]], device='cuda:0')\n"
     ]
    }
   ],
   "source": [
    "#import custom classes\n",
    "from Source.ddpg_rcv_agent import Agent\n",
    "from Source.nn_model import Actor, Critic\n",
    "from Source.ddpg_rcv_agent import Agent, ReplayBuffer, OUNoise\n",
    "from Source.misc_fun.utils import get_moving_average, plot\n",
    "from collections import deque\n",
    "\n",
    "#reset the environment\n",
    "obs = env.reset()\n",
    "\n",
    "state_size = obs.shape[1]\n",
    "action_size = env.action_space.shape[0]\n",
    "print(env.action_space.shape)\n",
    "print(state_size)\n",
    "#instantiate the agent\n",
    "agent = Agent(state_size=state_size, action_size=action_size, seed=0)\n",
    "print(\"Actor Local Network: {}\".format(agent.actor_local))\n",
    "print(\"Actor Target Network: {}\".format(agent.actor_target))\n",
    "print(\"Critic Local Network: {}\".format(agent.critic_local))\n",
    "print(\"Critic Target Network: {}\".format(agent.critic_target))\n",
    "\n",
    "print(type(obs))\n",
    "obs_tensor = torch.from_numpy(obs).float().to(device)\n",
    "print(obs_tensor)"
   ]
  },
  {
   "cell_type": "code",
   "execution_count": 18,
   "metadata": {
    "pycharm": {}
   },
   "outputs": [],
   "source": [
    "agent.reset()"
   ]
  },
  {
   "cell_type": "code",
   "execution_count": 19,
   "metadata": {
    "pycharm": {}
   },
   "outputs": [
    {
     "name": "stdout",
     "output_type": "stream",
     "text": [
      "[3.7338183]\n",
      "[[0.21403219]]\n"
     ]
    }
   ],
   "source": [
    "obs = env.reset()\n",
    "\n",
    "print(env.action_space.sample())\n",
    "action = agent.act(obs)\n",
    "print(action)"
   ]
  },
  {
   "cell_type": "markdown",
   "metadata": {
    "pycharm": {}
   },
   "source": [
    "## DDPG Training"
   ]
  },
  {
   "cell_type": "code",
   "execution_count": 20,
   "metadata": {
    "pycharm": {},
    "scrolled": false
   },
   "outputs": [
    {
     "name": "stderr",
     "output_type": "stream",
     "text": [
      "c:\\pycharm_workspace\\precoding_rl\\venv\\lib\\site-packages\\ipykernel_launcher.py:4: TqdmDeprecationWarning: This function will be removed in tqdm==5.0.0\n",
      "Please use `tqdm.notebook.tqdm` instead of `tqdm.tqdm_notebook`\n",
      "  after removing the cwd from sys.path.\n"
     ]
    },
    {
     "data": {
      "application/vnd.jupyter.widget-view+json": {
       "model_id": "1124104fcdb74607914ffabed02d66d2",
       "version_major": 2,
       "version_minor": 0
      },
      "text/plain": [
       "HBox(children=(FloatProgress(value=0.0, description='training loop: ', max=800.0, style=ProgressStyle(descript…"
      ]
     },
     "metadata": {},
     "output_type": "display_data"
    },
    {
     "name": "stdout",
     "output_type": "stream",
     "text": [
      "Episode 800,\tScore: 3.00, moving avg_rwd: 0.00\r"
     ]
    },
    {
     "data": {
      "image/png": "[encoded data removed]",
      "text/plain": [
       "<Figure size 432x288 with 1 Axes>"
      ]
     },
     "metadata": {
      "needs_background": "light"
     },
     "output_type": "display_data"
    },
    {
     "name": "stdout",
     "output_type": "stream",
     "text": [
      "Episode 800 \t 200 episode moving avg: 0.0\r"
     ]
    }
   ],
   "source": [
    "train_episodes = 800\n",
    "print_every= 100\n",
    "\n",
    "outer = tqdm.tqdm_notebook(total=train_episodes, desc='training loop: ', position=0)\n",
    "\n",
    "scores_deque = deque(maxlen=print_every)\n",
    "scores = []\n",
    "ep_qvals =[]\n",
    "ep_rwds = []\n",
    "timestep = 0\n",
    "\n",
    "for i_episode in range(1,train_episodes+1):\n",
    "    \n",
    "    # reset the environment\n",
    "    obs = env.reset()\n",
    "    agent.reset()\n",
    "    \n",
    "    ep_actions =[]\n",
    "    ep_env_actions =[]\n",
    "    score = 0\n",
    "    ep_qval = 0\n",
    "    while True:\n",
    "        action = agent.act(obs)\n",
    "        next_obs, reward, done, _ = env.step(action)\n",
    "        agent.step(obs, action, reward, next_obs, done)\n",
    "        obs = next_obs\n",
    "        score+= reward\n",
    "        timestep+=1\n",
    "        \n",
    "        agent.critic_local.eval()\n",
    "        obs_tensor = torch.from_numpy(obs).float().to(device)\n",
    "        action_tensor = torch.from_numpy(action).float().to(device)\n",
    "        #print(agent.critic_local(obs_tensor, action_tensor).cpu().data.item())\n",
    "        ep_qval += agent.critic_local(obs_tensor, action_tensor).cpu().data.item()\n",
    "        agent.critic_local.train()\n",
    "        \n",
    "       \n",
    "        ep_actions.append(action)\n",
    "        ep_env_actions.append(env.action)\n",
    "        #ep_old_actions.append(agent.old_action)\n",
    "        if done:\n",
    "            ep_rwds.append(reward)\n",
    "            moving_avg_rwd = get_moving_average(50, ep_rwds)\n",
    "            print('\\rEpisode {},\\tScore: {:.2f}, moving avg_rwd: {}'.format(i_episode, score, moving_avg_rwd[-1]), end=\"\\r\")\n",
    "            break\n",
    "            \n",
    "    scores_deque.append(score)\n",
    "    scores.append(score)\n",
    "    ep_qvals.append(ep_qval)\n",
    "    #print('\\rEpisode {}\\t, TX loc: {}\\t, Score: {:.2f}\\n'.format(i_episode, env.tx_loc, score), end=\"\")\n",
    "    \n",
    "    #print(ep_rwds)\n",
    "    #if i_episode % print_every == 0:\n",
    "    #    print('\\rEpisode {}\\tAverage Score: {:.2f}'.format(i_episode, np.mean(scores_deque)))\n",
    "    #    #print(\"Episode old_actions: {}\".format(ep_old_actions))\n",
    "    #    print(\"Episode actions: {}\".format(ep_actions))\n",
    "    #    print(\"Episode env actions: {}\".format(ep_env_actions))\n",
    "    \n",
    "    # update tqdm bar\n",
    "    outer.update(1)\n",
    "        \n",
    "#torch.save(agent.actor_local.state_dict(), 'checkpoint_actor.pth')\n",
    "#torch.save(agent.critic_local.state_dict(), 'checkpoint_critic.pth')    \n",
    "agent.save_checkpoint(timestep)\n",
    "#plot(ep_rwds, 200)\n",
    "\n",
    "#fig = plt.figure()\n",
    "#ax = fig.add_subplot(111)\n",
    "#plt.plot(np.arange(1, len(scores)+1), scores)\n",
    "#plt.ylabel('Score')\n",
    "#plt.xlabel('Episode #')\n",
    "\n",
    "#ax2 = fig.add_subplot(122)\n",
    "#plt.plot(scores, ep_qvals)\n",
    "#plt.ylabel('Episode Qvals')\n",
    "#plt.xlabel('Episode Rewards')\n",
    "#plt.show() "
   ]
  },
  {
   "cell_type": "code",
   "execution_count": 24,
   "metadata": {},
   "outputs": [
    {
     "data": {
      "image/png": "[encoded data removed]",
      "text/plain": [
       "<Figure size 432x288 with 1 Axes>"
      ]
     },
     "metadata": {
      "needs_background": "light"
     },
     "output_type": "display_data"
    }
   ],
   "source": [
    "fig = plt.figure()\n",
    "ax = fig.add_subplot(111)\n",
    "plt.plot(np.arange(1, len(scores)+1), scores)\n",
    "plt.ylabel('Score')\n",
    "plt.xlabel('Episode #')\n",
    "plt.show()\n"
   ]
  },
  {
   "cell_type": "code",
   "execution_count": 25,
   "metadata": {},
   "outputs": [
    {
     "data": {
      "image/png": "[encoded data removed]",
      "text/plain": [
       "<Figure size 432x288 with 1 Axes>"
      ]
     },
     "metadata": {
      "needs_background": "light"
     },
     "output_type": "display_data"
    },
    {
     "name": "stdout",
     "output_type": "stream",
     "text": [
      "Episode 800 \t 20 episode moving avg: 0.0\r"
     ]
    }
   ],
   "source": [
    "plot(ep_rwds, 20)"
   ]
  },
  {
   "cell_type": "markdown",
   "metadata": {
    "pycharm": {}
   },
   "source": [
    "## Testing the DDPG agent"
   ]
  },
  {
   "cell_type": "code",
   "execution_count": 21,
   "metadata": {
    "pycharm": {}
   },
   "outputs": [
    {
     "name": "stdout",
     "output_type": "stream",
     "text": [
      "TX loc: [[400  50   0]]\n",
      "TX dir: [112.5, 112.5, 112.5, 112.5, 112.5, 112.5, 112.5, 112.5, 112.5, 112.5]\n",
      "RX dirs: [259.6544497512104, 0.0, 0.0, 0.0, 0.0, 0.0, 0.0, 0.0, 0.0, 0.0]\n",
      "eps rwds: [1.0, 0.0, 0.0, 0.0, 0.0, 0.0, 0.0, 0.0, 0.0]\n",
      "\n"
     ]
    }
   ],
   "source": [
    "#instantiate the agent\n",
    "agent = Agent(state_size=state_size, action_size=action_size, seed=0)\n",
    "#agent.actor_local.load_state_dict(torch.load('checkpoint_actor.pth'))\n",
    "#agent.critic_local.load_state_dict(torch.load('checkpoint_critic.pth'))\n",
    "\n",
    "agent.load_checkpoint(timestep)\n",
    "\n",
    "score = 0.0\n",
    "eps_rwd =[]\n",
    "test_obs =[]\n",
    "obs = env.reset()\n",
    "\n",
    "agent.actor_local.eval()\n",
    "agent.critic_local.eval()\n",
    "agent.actor_target.eval()\n",
    "agent.critic_target.eval()\n",
    "\n",
    "ep_actions =[]\n",
    "ep_old_actions =[]\n",
    "tx_dirs =[]\n",
    "rx_dirs=[]\n",
    "data_rates =[]\n",
    "done = False\n",
    "while True:\n",
    "    #obs_tensor = torch.from_numpy(obs).float().to(device)\n",
    "    \n",
    "    #with torch.no_grad():\n",
    "    #    action =agent.actor_local(obs_tensor).cpu().data.numpy()\n",
    "        #print(\"old_action: {}\", action)\n",
    "    #    best_action = agent.critic_local(obs_tensor)\n",
    "    test_obs.append(obs)\n",
    "    action =  agent.act(obs,add_noise=False)#.cpu().data.numpy()\n",
    "    #action == np.clip(action, 0, 2*np.pi)\n",
    "    \n",
    "    #action_tensor = agent.actor_local(obs_tensor).to(device)\n",
    "    #print(obs, action)\n",
    "    #q_val = agent.critic_local(obs_tensor, action_tensor).cpu().data.numpy()\n",
    "    tx_dirs.append(env.tx_bdir)\n",
    "    rx_dirs.append(env.rx_bdir)\n",
    "    data_rates.append(env.rate)\n",
    "    \n",
    "    if done:\n",
    "        break\n",
    "    obs, rwd, done, _ = env.step(action)\n",
    "    \n",
    "    score +=rwd\n",
    "    eps_rwd.append(rwd)\n",
    "    \n",
    "    \n",
    "print(\"TX loc: {0}\".format(env.tx_loc))\n",
    "print(\"TX dir: {}\".format([x*(180/np.pi) for x in tx_dirs]))\n",
    "print(\"RX dirs: {}\".format([x*(180/np.pi) for x in rx_dirs]))\n",
    "print(\"eps rwds: {}\\n\".format(eps_rwd))"
   ]
  },
  {
   "cell_type": "code",
   "execution_count": 22,
   "metadata": {
    "pycharm": {}
   },
   "outputs": [
    {
     "name": "stdout",
     "output_type": "stream",
     "text": [
      "[array([[ 2.04142301e-07, -1.53428754e-07,  1.20000000e+00,\n",
      "         7.33333333e-01]]), array([[ 1.17981347e-06, -2.04806654e-06,  1.20000000e+00,\n",
      "         7.33333333e-01]]), array([[ 1.17981347e-06, -2.04806654e-06,  1.20000000e+00,\n",
      "         7.33333333e-01]]), array([[ 1.17981347e-06, -2.04806654e-06,  1.20000000e+00,\n",
      "         7.33333333e-01]]), array([[ 1.17981347e-06, -2.04806654e-06,  1.20000000e+00,\n",
      "         7.33333333e-01]]), array([[ 1.17981347e-06, -2.04806654e-06,  1.20000000e+00,\n",
      "         7.33333333e-01]]), array([[ 1.17981347e-06, -2.04806654e-06,  1.20000000e+00,\n",
      "         7.33333333e-01]]), array([[ 1.17981347e-06, -2.04806654e-06,  1.20000000e+00,\n",
      "         7.33333333e-01]]), array([[ 1.17981347e-06, -2.04806654e-06,  1.20000000e+00,\n",
      "         7.33333333e-01]]), array([[ 1.17981347e-06, -2.04806654e-06,  1.20000000e+00,\n",
      "         7.33333333e-01]])]\n"
     ]
    }
   ],
   "source": [
    "print(test_obs)"
   ]
  },
  {
   "cell_type": "code",
   "execution_count": 23,
   "metadata": {
    "pycharm": {}
   },
   "outputs": [
    {
     "name": "stdout",
     "output_type": "stream",
     "text": [
      "3.2659476481365544\n",
      "0.0\n"
     ]
    },
    {
     "data": {
      "image/png": "[encoded data removed]",
      "text/plain": [
       "<Figure size 432x288 with 2 Axes>"
      ]
     },
     "metadata": {
      "needs_background": "light"
     },
     "output_type": "display_data"
    }
   ],
   "source": [
    "from Source.misc_fun.utils import plotbeam\n",
    "print(env.channel.az_aod[0])\n",
    "print(rx_dirs[-1])\n",
    "tx_theta, tx_gr = plotbeam(env.channel.az_aod[0], env.N_tx)\n",
    "rx_theta, rx_gr = plotbeam(rx_dirs[-1], env.N_rx)\n",
    "ax1 = plt.subplot(121, projection='polar')\n",
    "ax1.plot(tx_theta, tx_gr)\n",
    "\n",
    "ax2 = plt.subplot(122, projection='polar')\n",
    "ax2.plot(rx_theta, rx_gr)\n",
    "\n",
    "plt.show()\n"
   ]
  }
 ],
 "metadata": {
  "kernelspec": {
   "display_name": "Python 3",
   "language": "python",
   "name": "python3"
  },
  "language_info": {
   "codemirror_mode": {
    "name": "ipython",
    "version": 3
   },
   "file_extension": ".py",
   "mimetype": "text/x-python",
   "name": "python",
   "nbconvert_exporter": "python",
   "pygments_lexer": "ipython3",
   "version": "3.7.1"
  }
 },
 "nbformat": 4,
 "nbformat_minor": 1
}

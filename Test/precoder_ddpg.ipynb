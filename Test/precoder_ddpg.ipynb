{
 "cells": [
  {
   "cell_type": "code",
   "execution_count": 1,
   "metadata": {
    "pycharm": {
     "is_executing": false
    }
   },
   "outputs": [],
   "source": [
    "%load_ext autoreload\n",
    "%autoreload 2"
   ]
  },
  {
   "cell_type": "code",
   "execution_count": 2,
   "metadata": {
    "pycharm": {}
   },
   "outputs": [],
   "source": [
    "import gym\n",
    "import gym_combrf\n",
    "\n",
    "import numpy as np\n",
    "import random\n",
    "import math\n",
    "import matplotlib.pyplot as plt\n",
    "import tqdm\n",
    "import os\n",
    "\n",
    "import torch\n",
    "import torch.optim as optim\n",
    "import torch.nn.functional as F\n",
    "\n",
    "\n"
   ]
  },
  {
   "cell_type": "code",
   "execution_count": 3,
   "metadata": {
    "pycharm": {
     "is_executing": false
    }
   },
   "outputs": [],
   "source": [
    "#initialize gym environment\n",
    "env = gym.make('combrf-v0')"
   ]
  },
  {
   "cell_type": "code",
   "execution_count": 4,
   "metadata": {
    "pycharm": {}
   },
   "outputs": [],
   "source": [
    "#hyper-parameters\n",
    "UPDATE_EVERY = 50 #how often to update the network\n",
    "EPS_START = 1\n",
    "EPS_END = 0.01\n",
    "EPS_DECAY = 0.9983\n",
    "EPS_STEP_LIMIT = 50\n",
    "\n",
    "TRAIN_EPISODES = 20\n",
    "TEST_EPISODES = 1\n",
    "seed = 0\n",
    "\n",
    "#initialize GPU device\n",
    "device = torch.device(\"cuda:0\" if torch.cuda.is_available() else \"cpu\")\n"
   ]
  },
  {
   "cell_type": "markdown",
   "metadata": {
    "pycharm": {}
   },
   "source": [
    "## Examine state and action spaces"
   ]
  },
  {
   "cell_type": "code",
   "execution_count": 5,
   "metadata": {
    "pycharm": {}
   },
   "outputs": [
    {
     "name": "stdout",
     "output_type": "stream",
     "text": [
      "Size of each action:  (1,)\n",
      "Size of each observation:  (1, 18)\n",
      "Observation looks like:\n",
      "[[-1.35685054e-06  5.40642849e-06 -5.80356396e-07 -5.80356396e-07\n",
      "  -5.80356396e-07 -5.80356396e-07 -5.80356396e-07 -5.80356396e-07\n",
      "  -5.80356396e-07 -5.80356396e-07  1.78224677e-06  1.78224677e-06\n",
      "   1.78224677e-06  1.78224677e-06  1.78224677e-06  1.78224677e-06\n",
      "   1.78224677e-06  1.78224677e-06]]\n",
      "<class 'numpy.ndarray'>\n"
     ]
    }
   ],
   "source": [
    "#reset the environment\n",
    "obs = env.reset()\n",
    "\n",
    "#size of each action\n",
    "action_size = env.action_space.shape\n",
    "print(\"Size of each action: \", action_size)\n",
    "\n",
    "#size of observation\n",
    "print(\"Size of each observation: \", obs.shape)\n",
    "print(\"Observation looks like:\")\n",
    "print(obs)\n",
    "print(type(env.action_space.sample()))"
   ]
  },
  {
   "cell_type": "markdown",
   "metadata": {
    "pycharm": {}
   },
   "source": [
    "## Perform random actions in the environment"
   ]
  },
  {
   "cell_type": "code",
   "execution_count": 6,
   "metadata": {
    "pycharm": {}
   },
   "outputs": [
    {
     "name": "stdout",
     "output_type": "stream",
     "text": [
      "Random TX location: [[-250  300    0]]\n",
      "Capacity: 4.5921960668321e-08\n",
      "Episodic score: 1.2 with episode length: 7 \n",
      "[0.3, 0.0, 0.3, 0.0, 0.3, 0.0, 0.3]\n",
      "[array([[0.47388085]]), array([[0.69500497]]), array([[0.90756846]]), array([[0.8517405]]), array([[0.39976107]]), array([[0.54191176]]), array([[0.03678335]])]\n"
     ]
    }
   ],
   "source": [
    "obs = env.reset()\n",
    "count = 0\n",
    "ep_rwd=0\n",
    "rewards =[]\n",
    "actions =[]\n",
    "while True:\n",
    "    action = np.array([[np.random.uniform(0,1)]])\n",
    "    obs, rwd, done, _ = env.step(action)\n",
    "    ep_rwd += rwd\n",
    "    rewards.append(rwd)\n",
    "    actions.append(action)\n",
    "    count +=1\n",
    "    if done:\n",
    "        break\n",
    "print(\"Random TX location: {0}\".format(env.tx_loc))\n",
    "print(\"Capacity: {0}\".format(env.cap))\n",
    "print(\"Episodic score: {0} with episode length: {1} \".format(ep_rwd, count))\n",
    "print(rewards)\n",
    "print(actions)"
   ]
  },
  {
   "cell_type": "markdown",
   "metadata": {
    "pycharm": {}
   },
   "source": [
    "## Instantiate DDPG agent"
   ]
  },
  {
   "cell_type": "code",
   "execution_count": 7,
   "metadata": {
    "pycharm": {}
   },
   "outputs": [
    {
     "name": "stdout",
     "output_type": "stream",
     "text": [
      "(1,)\n",
      "18\n",
      "Actor Local Network: Actor(\n",
      "  (fc1): Linear(in_features=18, out_features=400, bias=True)\n",
      "  (fc2): Linear(in_features=400, out_features=300, bias=True)\n",
      "  (fc3): Linear(in_features=300, out_features=1, bias=True)\n",
      ")\n",
      "Actor Target Network: Actor(\n",
      "  (fc1): Linear(in_features=18, out_features=400, bias=True)\n",
      "  (fc2): Linear(in_features=400, out_features=300, bias=True)\n",
      "  (fc3): Linear(in_features=300, out_features=1, bias=True)\n",
      ")\n",
      "Critic Local Network: Critic(\n",
      "  (fcs1): Linear(in_features=18, out_features=400, bias=True)\n",
      "  (fc2): Linear(in_features=401, out_features=300, bias=True)\n",
      "  (fc3): Linear(in_features=300, out_features=1, bias=True)\n",
      ")\n",
      "Critic Target Network: Critic(\n",
      "  (fcs1): Linear(in_features=18, out_features=400, bias=True)\n",
      "  (fc2): Linear(in_features=401, out_features=300, bias=True)\n",
      "  (fc3): Linear(in_features=300, out_features=1, bias=True)\n",
      ")\n",
      "<class 'numpy.ndarray'>\n",
      "tensor([[-5.5723e-08, -4.2122e-08, -5.9707e-08, -1.3780e-07,  1.0684e-07,\n",
      "          1.0126e-07, -1.4147e-07, -5.2882e-08,  1.5955e-07, -1.6857e-09,\n",
      "          1.5023e-07, -8.4516e-08, -1.2132e-07,  1.2601e-07,  7.8226e-08,\n",
      "         -1.5276e-07, -2.5981e-08,  1.6165e-07]], device='cuda:0')\n"
     ]
    }
   ],
   "source": [
    "#import custom classes\n",
    "from Source.ddpg_rcv_agent import Agent\n",
    "from Source.nn_model import Actor, Critic\n",
    "from Source.ddpg_rcv_agent import Agent, ReplayBuffer, OUNoise\n",
    "from collections import deque\n",
    "\n",
    "#reset the environment\n",
    "obs = env.reset()\n",
    "\n",
    "state_size = obs.shape[1]\n",
    "action_size = env.action_space.shape[0]\n",
    "print(env.action_space.shape)\n",
    "print(state_size)\n",
    "#instantiate the agent\n",
    "agent = Agent(state_size=state_size, action_size=action_size, seed=0)\n",
    "print(\"Actor Local Network: {}\".format(agent.actor_local))\n",
    "print(\"Actor Target Network: {}\".format(agent.actor_target))\n",
    "print(\"Critic Local Network: {}\".format(agent.critic_local))\n",
    "print(\"Critic Target Network: {}\".format(agent.critic_target))\n",
    "\n",
    "print(type(obs))\n",
    "obs_tensor = torch.from_numpy(obs).float().to(device)\n",
    "print(obs_tensor)"
   ]
  },
  {
   "cell_type": "code",
   "execution_count": 8,
   "metadata": {
    "pycharm": {}
   },
   "outputs": [],
   "source": [
    "agent.reset()"
   ]
  },
  {
   "cell_type": "code",
   "execution_count": 9,
   "metadata": {
    "pycharm": {}
   },
   "outputs": [
    {
     "name": "stdout",
     "output_type": "stream",
     "text": [
      "[5.8951707]\n",
      "[[0.2014815]]\n"
     ]
    }
   ],
   "source": [
    "obs = env.reset()\n",
    "\n",
    "print(env.action_space.sample())\n",
    "action = agent.act(obs)\n",
    "print(action)"
   ]
  },
  {
   "cell_type": "code",
   "execution_count": null,
   "metadata": {
    "pycharm": {}
   },
   "outputs": [],
   "source": []
  },
  {
   "cell_type": "markdown",
   "metadata": {
    "pycharm": {}
   },
   "source": [
    "## DDPG Training"
   ]
  },
  {
   "cell_type": "code",
   "execution_count": 10,
   "metadata": {
    "pycharm": {},
    "scrolled": false
   },
   "outputs": [
    {
     "name": "stdout",
     "output_type": "stream",
     "text": [
      "Episode 100\tAverage Score: 0.83\n",
      "Episode actions: [array([[-0.82054627]], dtype=float32), array([[-0.7190709]], dtype=float32), array([[-0.6652782]], dtype=float32), array([[-0.65009564]], dtype=float32), array([[-0.6154922]], dtype=float32), array([[-0.66425693]], dtype=float32), array([[-0.60846835]], dtype=float32)]\n",
      "Episode env actions: [array([0.56377052]), array([0.88256476]), array([1.05155956]), array([1.09925696]), array([1.2079668]), array([1.05476796]), array([1.23003294])]\n",
      "Episode 200\tAverage Score: 1.06\n",
      "Episode actions: [array([[-0.83940727]], dtype=float32), array([[-0.79719096]], dtype=float32), array([[-0.80600667]], dtype=float32), array([[-0.77360535]], dtype=float32), array([[-0.65108913]], dtype=float32), array([[-0.5381761]], dtype=float32), array([[-0.60490334]], dtype=float32)]\n",
      "Episode env actions: [array([0.50451696]), array([0.63714338]), array([0.60944802]), array([0.71123978]), array([1.09613582]), array([1.45086251]), array([1.24123276])]\n",
      "Episode 300\tAverage Score: 1.02\n",
      "Episode actions: [array([[-0.9935617]], dtype=float32), array([[-0.96617764]], dtype=float32), array([[-0.7883265]], dtype=float32), array([[-0.7573696]], dtype=float32), array([[-0.7553433]], dtype=float32), array([[-0.66395044]], dtype=float32), array([[-0.63898677]], dtype=float32)]\n",
      "Episode env actions: [array([0.02022656]), array([0.10625607]), array([0.66499191]), array([0.76224595]), array([0.76861163]), array([1.05573082]), array([1.13415652])]\n",
      "Episode 400\tAverage Score: 1.06\n",
      "Episode actions: [array([[-0.9985115]], dtype=float32), array([[-0.9234807]], dtype=float32), array([[-0.83082926]], dtype=float32), array([[-0.8046108]], dtype=float32), array([[-0.7179708]], dtype=float32), array([[-0.5890391]], dtype=float32), array([[-0.46964517]], dtype=float32)]\n",
      "Episode env actions: [array([0.00467628]), array([0.2403925]), array([0.53146555]), array([0.61383331]), array([0.8860209]), array([1.29107178]), array([1.66615883])]\n",
      "Episode 500\tAverage Score: 1.03\n",
      "Episode actions: [array([[-0.84511375]], dtype=float32), array([[-0.8459256]], dtype=float32), array([[-0.81008196]], dtype=float32), array([[-0.64414084]], dtype=float32), array([[-0.5561046]], dtype=float32), array([[-0.5501345]], dtype=float32), array([[-0.5568292]], dtype=float32)]\n",
      "Episode env actions: [array([0.48658949]), array([0.48403891]), array([0.59664512]), array([1.11796452]), array([1.39453853]), array([1.41329421]), array([1.39226209])]\n",
      "Episode 600\tAverage Score: 1.02\n",
      "Episode actions: [array([[-0.8099288]], dtype=float32), array([[-0.7923614]], dtype=float32), array([[-0.63820475]], dtype=float32), array([[-0.57677644]], dtype=float32), array([[-0.45594814]], dtype=float32), array([[-0.42725176]], dtype=float32), array([[-0.3784864]], dtype=float32)]\n",
      "Episode env actions: [array([0.59712636]), array([0.65231597]), array([1.13661329]), array([1.32959601]), array([1.70918931]), array([1.79934168]), array([1.95254258])]\n",
      "Episode 700\tAverage Score: 1.01\n",
      "Episode actions: [array([[-0.9806122]], dtype=float32), array([[-0.89228195]], dtype=float32), array([[-0.76476854]], dtype=float32), array([[-0.61508983]], dtype=float32), array([[-0.5944048]], dtype=float32), array([[-0.4736612]], dtype=float32), array([[-0.38396862]], dtype=float32)]\n",
      "Episode env actions: [array([0.06090851]), array([0.33840624]), array([0.73900142]), array([1.20923095]), array([1.27421485]), array([1.65354206]), array([1.93531965])]\n",
      "Episode 800\tAverage Score: 1.00\n",
      "Episode actions: [array([[-0.81384206]], dtype=float32), array([[-0.73748827]], dtype=float32), array([[-0.62726516]], dtype=float32), array([[-0.54045284]], dtype=float32), array([[-0.60604936]], dtype=float32), array([[-0.5250618]], dtype=float32), array([[-0.5254704]], dtype=float32)]\n",
      "Episode env actions: [array([0.58483242]), array([0.82470492]), array([1.17098105]), array([1.44370999]), array([1.23763244]), array([1.4920624]), array([1.49077878])]\n"
     ]
    },
    {
     "data": {
      "image/png": "[encoded data removed]",
      "text/plain": [
       "<Figure size 432x288 with 2 Axes>"
      ]
     },
     "metadata": {
      "needs_background": "light"
     },
     "output_type": "display_data"
    }
   ],
   "source": [
    "train_episodes = 800\n",
    "print_every= 100\n",
    "\n",
    "scores_deque = deque(maxlen=print_every)\n",
    "scores = []\n",
    "ep_qvals =[]\n",
    "timestep = 0\n",
    "for i_episode in range(1,train_episodes+1):\n",
    "    \n",
    "    # reset the environment\n",
    "    obs = env.reset()\n",
    "    agent.reset()\n",
    "    ep_rwds = []\n",
    "    ep_actions =[]\n",
    "    ep_env_actions =[]\n",
    "    score = 0\n",
    "    ep_qval = 0\n",
    "    while True:\n",
    "        action = agent.act(obs)\n",
    "        next_obs, reward, done, _ = env.step(action)\n",
    "        agent.step(obs, action, reward, next_obs, done)\n",
    "        obs = next_obs\n",
    "        score+= reward\n",
    "        timestep+=1\n",
    "        \n",
    "        agent.critic_local.eval()\n",
    "        obs_tensor = torch.from_numpy(obs).float().to(device)\n",
    "        action_tensor = torch.from_numpy(action).float().to(device)\n",
    "        #print(agent.critic_local(obs_tensor, action_tensor).cpu().data.item())\n",
    "        ep_qval += agent.critic_local(obs_tensor, action_tensor).cpu().data.item()\n",
    "        agent.critic_local.train()\n",
    "        \n",
    "        ep_rwds.append(reward)\n",
    "        ep_actions.append(action)\n",
    "        ep_env_actions.append(env.action)\n",
    "        #ep_old_actions.append(agent.old_action)\n",
    "        if done:\n",
    "            break\n",
    "            \n",
    "    scores_deque.append(score)\n",
    "    scores.append(score)\n",
    "    ep_qvals.append(ep_qval)\n",
    "    #print('\\rEpisode {}\\t, TX loc: {}\\t, Score: {:.2f}\\n'.format(i_episode, env.tx_loc, score), end=\"\")\n",
    "    \n",
    "    #print(ep_rwds)\n",
    "    if i_episode % print_every == 0:\n",
    "        print('\\rEpisode {}\\tAverage Score: {:.2f}'.format(i_episode, np.mean(scores_deque)))\n",
    "        #print(\"Episode old_actions: {}\".format(ep_old_actions))\n",
    "        print(\"Episode actions: {}\".format(ep_actions))\n",
    "        print(\"Episode env actions: {}\".format(ep_env_actions))\n",
    "        \n",
    "#torch.save(agent.actor_local.state_dict(), 'checkpoint_actor.pth')\n",
    "#torch.save(agent.critic_local.state_dict(), 'checkpoint_critic.pth')    \n",
    "agent.save_checkpoint(timestep)\n",
    "\n",
    "fig = plt.figure()\n",
    "ax = fig.add_subplot(121)\n",
    "plt.plot(np.arange(1, len(scores)+1), scores)\n",
    "plt.ylabel('Score')\n",
    "plt.xlabel('Episode #')\n",
    "\n",
    "ax2 = fig.add_subplot(122)\n",
    "plt.plot(scores, ep_qvals)\n",
    "plt.ylabel('Episode Qvals')\n",
    "plt.xlabel('Episode Rewards')\n",
    "plt.show() "
   ]
  },
  {
   "cell_type": "code",
   "execution_count": 11,
   "metadata": {},
   "outputs": [
    {
     "name": "stdout",
     "output_type": "stream",
     "text": [
      "0.29940303042531013\n",
      "6.954927682876587\n"
     ]
    }
   ],
   "source": [
    "print(ep_qvals[0])\n",
    "print(ep_qval)"
   ]
  },
  {
   "cell_type": "markdown",
   "metadata": {
    "pycharm": {}
   },
   "source": [
    "## Testing the DDPG agent"
   ]
  },
  {
   "cell_type": "code",
   "execution_count": 23,
   "metadata": {
    "pycharm": {}
   },
   "outputs": [
    {
     "name": "stdout",
     "output_type": "stream",
     "text": [
      "TX loc: [[-250  100    0]]\n",
      "TX_ dirs: [3.141592653589793, 3.141592653589793, 3.141592653589793, 3.141592653589793, 3.141592653589793, 3.141592653589793, 3.141592653589793]\n",
      "RX_dirs: [5.9900875, 3.7450702829239286e-07, 3.7450702829239286e-07, 3.7450702829239286e-07, 3.7450702829239286e-07, 3.7450702829239286e-07, 3.7450702829239286e-07]\n",
      "eps rwds: [0.3, 0.0, 0.0, 0.0, 0.0, 0.0, 0.0]\n",
      "\n"
     ]
    }
   ],
   "source": [
    "#instantiate the agent\n",
    "agent = Agent(state_size=state_size, action_size=action_size, seed=0)\n",
    "#agent.actor_local.load_state_dict(torch.load('checkpoint_actor.pth'))\n",
    "#agent.critic_local.load_state_dict(torch.load('checkpoint_critic.pth'))\n",
    "\n",
    "agent.load_checkpoint(timestep)\n",
    "\n",
    "score = 0.0\n",
    "eps_rwd =[]\n",
    "test_obs =[]\n",
    "obs = env.reset()\n",
    "#agent.reset()\n",
    "agent.actor_local.eval()\n",
    "agent.critic_local.eval()\n",
    "agent.actor_target.eval()\n",
    "agent.critic_target.eval()\n",
    "ep_actions =[]\n",
    "ep_old_actions =[]\n",
    "tx_dirs =[]\n",
    "rx_dirs=[]\n",
    "data_rates =[]\n",
    "while True:\n",
    "    #obs_tensor = torch.from_numpy(obs).float().to(device)\n",
    "    \n",
    "    #with torch.no_grad():\n",
    "    #    action =agent.actor_local(obs_tensor).cpu().data.numpy()\n",
    "        #print(\"old_action: {}\", action)\n",
    "    #    best_action = agent.critic_local(obs_tensor)\n",
    "    test_obs.append(obs)\n",
    "    action =  agent.act(obs,add_noise=False)#.cpu().data.numpy()\n",
    "    #action == np.clip(action, 0, 2*np.pi)\n",
    "    \n",
    "    #action_tensor = agent.actor_local(obs_tensor).to(device)\n",
    "    #print(obs, action)\n",
    "    #q_val = agent.critic_local(obs_tensor, action_tensor).cpu().data.numpy()\n",
    "    tx_dirs.append(env.tx_bdir)\n",
    "    rx_dirs.append(env.rx_bdir)\n",
    "    data_rates.append(env.rate)\n",
    "    \n",
    "    obs, rwd, done, _ = env.step(action)\n",
    "    \n",
    "    score +=rwd\n",
    "    eps_rwd.append(rwd)\n",
    "    if done:\n",
    "        break\n",
    "print(\"TX loc: {0}\".format(env.tx_loc))\n",
    "\n",
    "print(\"TX_ dirs: {}\".format(tx_dirs))\n",
    "print(\"RX_dirs: {}\".format(rx_dirs))\n",
    "\n",
    "print(\"eps rwds: {}\\n\".format(eps_rwd))\n",
    "\n"
   ]
  },
  {
   "cell_type": "code",
   "execution_count": 13,
   "metadata": {},
   "outputs": [
    {
     "name": "stdout",
     "output_type": "stream",
     "text": [
      "[array([[-8.84120467e-07, -3.91539456e-07, -3.92929823e-07,\n",
      "        -3.92929823e-07, -3.92929823e-07, -3.92929823e-07,\n",
      "        -3.92929823e-07, -3.92929823e-07, -3.92929823e-07,\n",
      "        -3.92929823e-07,  1.25013278e-07,  1.25013278e-07,\n",
      "         1.25013278e-07,  1.25013278e-07,  1.25013278e-07,\n",
      "         1.25013278e-07,  1.25013278e-07,  1.25013278e-07]]), array([[-6.52858066e-11, -6.01379739e-11, -3.92929823e-07,\n",
      "        -3.92929823e-07, -3.92929823e-07, -3.92929823e-07,\n",
      "        -3.92929823e-07, -3.92929823e-07, -3.92929823e-07,\n",
      "        -3.92929823e-07,  1.25013278e-07,  1.25013278e-07,\n",
      "         1.25013278e-07,  1.25013278e-07,  1.25013278e-07,\n",
      "         1.25013278e-07,  1.25013278e-07,  1.25013278e-07]]), array([[-6.52858066e-11, -6.01379739e-11, -3.92929823e-07,\n",
      "        -3.92929823e-07, -3.92929823e-07, -3.92929823e-07,\n",
      "        -3.92929823e-07, -3.92929823e-07, -3.92929823e-07,\n",
      "        -3.92929823e-07,  1.25013278e-07,  1.25013278e-07,\n",
      "         1.25013278e-07,  1.25013278e-07,  1.25013278e-07,\n",
      "         1.25013278e-07,  1.25013278e-07,  1.25013278e-07]]), array([[-6.52858066e-11, -6.01379739e-11, -3.92929823e-07,\n",
      "        -3.92929823e-07, -3.92929823e-07, -3.92929823e-07,\n",
      "        -3.92929823e-07, -3.92929823e-07, -3.92929823e-07,\n",
      "        -3.92929823e-07,  1.25013278e-07,  1.25013278e-07,\n",
      "         1.25013278e-07,  1.25013278e-07,  1.25013278e-07,\n",
      "         1.25013278e-07,  1.25013278e-07,  1.25013278e-07]]), array([[-6.52858066e-11, -6.01379739e-11, -3.92929823e-07,\n",
      "        -3.92929823e-07, -3.92929823e-07, -3.92929823e-07,\n",
      "        -3.92929823e-07, -3.92929823e-07, -3.92929823e-07,\n",
      "        -3.92929823e-07,  1.25013278e-07,  1.25013278e-07,\n",
      "         1.25013278e-07,  1.25013278e-07,  1.25013278e-07,\n",
      "         1.25013278e-07,  1.25013278e-07,  1.25013278e-07]]), array([[-6.52858066e-11, -6.01379739e-11, -3.92929823e-07,\n",
      "        -3.92929823e-07, -3.92929823e-07, -3.92929823e-07,\n",
      "        -3.92929823e-07, -3.92929823e-07, -3.92929823e-07,\n",
      "        -3.92929823e-07,  1.25013278e-07,  1.25013278e-07,\n",
      "         1.25013278e-07,  1.25013278e-07,  1.25013278e-07,\n",
      "         1.25013278e-07,  1.25013278e-07,  1.25013278e-07]]), array([[-6.52858066e-11, -6.01379739e-11, -3.92929823e-07,\n",
      "        -3.92929823e-07, -3.92929823e-07, -3.92929823e-07,\n",
      "        -3.92929823e-07, -3.92929823e-07, -3.92929823e-07,\n",
      "        -3.92929823e-07,  1.25013278e-07,  1.25013278e-07,\n",
      "         1.25013278e-07,  1.25013278e-07,  1.25013278e-07,\n",
      "         1.25013278e-07,  1.25013278e-07,  1.25013278e-07]])]\n"
     ]
    }
   ],
   "source": [
    "print(test_obs)"
   ]
  },
  {
   "cell_type": "code",
   "execution_count": 14,
   "metadata": {
    "pycharm": {}
   },
   "outputs": [
    {
     "name": "stdout",
     "output_type": "stream",
     "text": [
      "4.71238898038469\n"
     ]
    },
    {
     "ename": "IndexError",
     "evalue": "list index out of range",
     "output_type": "error",
     "traceback": [
      "\u001b[1;31m---------------------------------------------------------------------------\u001b[0m",
      "\u001b[1;31mIndexError\u001b[0m                                Traceback (most recent call last)",
      "\u001b[1;32m<ipython-input-14-d7bba65071d4>\u001b[0m in \u001b[0;36m<module>\u001b[1;34m\u001b[0m\n\u001b[0;32m      1\u001b[0m \u001b[1;32mfrom\u001b[0m \u001b[0mSource\u001b[0m\u001b[1;33m.\u001b[0m\u001b[0mmisc_fun\u001b[0m\u001b[1;33m.\u001b[0m\u001b[0mutils\u001b[0m \u001b[1;32mimport\u001b[0m \u001b[0mplotbeam\u001b[0m\u001b[1;33m\u001b[0m\u001b[1;33m\u001b[0m\u001b[0m\n\u001b[0;32m      2\u001b[0m \u001b[0mprint\u001b[0m\u001b[1;33m(\u001b[0m\u001b[0menv\u001b[0m\u001b[1;33m.\u001b[0m\u001b[0mchannel\u001b[0m\u001b[1;33m.\u001b[0m\u001b[0maz_aod\u001b[0m\u001b[1;33m[\u001b[0m\u001b[1;36m0\u001b[0m\u001b[1;33m]\u001b[0m\u001b[1;33m)\u001b[0m\u001b[1;33m\u001b[0m\u001b[1;33m\u001b[0m\u001b[0m\n\u001b[1;32m----> 3\u001b[1;33m \u001b[0mprint\u001b[0m\u001b[1;33m(\u001b[0m\u001b[0mep_actions\u001b[0m\u001b[1;33m[\u001b[0m\u001b[1;33m-\u001b[0m\u001b[1;36m1\u001b[0m\u001b[1;33m]\u001b[0m\u001b[1;33m[\u001b[0m\u001b[1;36m0\u001b[0m\u001b[1;33m]\u001b[0m\u001b[1;33m)\u001b[0m\u001b[1;33m\u001b[0m\u001b[1;33m\u001b[0m\u001b[0m\n\u001b[0m\u001b[0;32m      4\u001b[0m \u001b[0mtx_theta\u001b[0m\u001b[1;33m,\u001b[0m \u001b[0mtx_gr\u001b[0m \u001b[1;33m=\u001b[0m \u001b[0mplotbeam\u001b[0m\u001b[1;33m(\u001b[0m\u001b[0menv\u001b[0m\u001b[1;33m.\u001b[0m\u001b[0mchannel\u001b[0m\u001b[1;33m.\u001b[0m\u001b[0maz_aod\u001b[0m\u001b[1;33m[\u001b[0m\u001b[1;36m0\u001b[0m\u001b[1;33m]\u001b[0m\u001b[1;33m,\u001b[0m \u001b[0menv\u001b[0m\u001b[1;33m.\u001b[0m\u001b[0mN_tx\u001b[0m\u001b[1;33m)\u001b[0m\u001b[1;33m\u001b[0m\u001b[1;33m\u001b[0m\u001b[0m\n\u001b[0;32m      5\u001b[0m \u001b[0mrx_theta\u001b[0m\u001b[1;33m,\u001b[0m \u001b[0mrx_gr\u001b[0m \u001b[1;33m=\u001b[0m \u001b[0mplotbeam\u001b[0m\u001b[1;33m(\u001b[0m\u001b[0mep_actions\u001b[0m\u001b[1;33m[\u001b[0m\u001b[1;33m-\u001b[0m\u001b[1;36m1\u001b[0m\u001b[1;33m]\u001b[0m\u001b[1;33m[\u001b[0m\u001b[1;36m0\u001b[0m\u001b[1;33m]\u001b[0m\u001b[1;33m,\u001b[0m \u001b[0menv\u001b[0m\u001b[1;33m.\u001b[0m\u001b[0mN_rx\u001b[0m\u001b[1;33m)\u001b[0m\u001b[1;33m\u001b[0m\u001b[1;33m\u001b[0m\u001b[0m\n",
      "\u001b[1;31mIndexError\u001b[0m: list index out of range"
     ]
    }
   ],
   "source": [
    "from Source.misc_fun.utils import plotbeam\n",
    "print(env.channel.az_aod[0])\n",
    "print(ep_actions[-1][0])\n",
    "tx_theta, tx_gr = plotbeam(env.channel.az_aod[0], env.N_tx)\n",
    "rx_theta, rx_gr = plotbeam(ep_actions[-1][0], env.N_rx)\n",
    "ax1 = plt.subplot(121, projection='polar')\n",
    "ax1.plot(tx_theta, tx_gr)\n",
    "\n",
    "ax2 = plt.subplot(122, projection='polar')\n",
    "ax2.plot(rx_theta, rx_gr)\n",
    "\n",
    "plt.show()\n"
   ]
  }
 ],
 "metadata": {
  "kernelspec": {
   "display_name": "Python 3",
   "language": "python",
   "name": "python3"
  },
  "language_info": {
   "codemirror_mode": {
    "name": "ipython",
    "version": 3
   },
   "file_extension": ".py",
   "mimetype": "text/x-python",
   "name": "python",
   "nbconvert_exporter": "python",
   "pygments_lexer": "ipython3",
   "version": "3.7.1"
  }
 },
 "nbformat": 4,
 "nbformat_minor": 1
}

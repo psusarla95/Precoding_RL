{
 "cells": [
  {
   "cell_type": "code",
   "execution_count": 1,
   "metadata": {
    "pycharm": {
     "is_executing": false
    }
   },
   "outputs": [],
   "source": [
    "%load_ext autoreload\n",
    "%autoreload 2"
   ]
  },
  {
   "cell_type": "code",
   "execution_count": 20,
   "metadata": {
    "pycharm": {}
   },
   "outputs": [],
   "source": [
    "import gym\n",
    "import gym_combrf\n",
    "\n",
    "import numpy as np\n",
    "import random\n",
    "import math\n",
    "import matplotlib.pyplot as plt\n",
    "import tqdm\n",
    "import os\n",
    "\n",
    "import torch\n",
    "import torch.optim as optim\n",
    "import torch.nn.functional as F\n",
    "\n",
    "\n"
   ]
  },
  {
   "cell_type": "code",
   "execution_count": 30,
   "metadata": {
    "pycharm": {}
   },
   "outputs": [],
   "source": [
    "#initialize gym environment\n",
    "env = gym.make('combrf-v0')"
   ]
  },
  {
   "cell_type": "code",
   "execution_count": 31,
   "metadata": {
    "pycharm": {}
   },
   "outputs": [],
   "source": [
    "#hyper-parameters\n",
    "UPDATE_EVERY = 50 #how often to update the network\n",
    "EPS_START = 1\n",
    "EPS_END = 0.01\n",
    "EPS_DECAY = 0.9983\n",
    "EPS_STEP_LIMIT = 50\n",
    "\n",
    "TRAIN_EPISODES = 20\n",
    "TEST_EPISODES = 1\n",
    "seed = 0\n",
    "\n",
    "#initialize GPU device\n",
    "device = torch.device(\"cuda:0\" if torch.cuda.is_available() else \"cpu\")\n"
   ]
  },
  {
   "cell_type": "markdown",
   "metadata": {
    "pycharm": {}
   },
   "source": [
    "## Examine state and action spaces"
   ]
  },
  {
   "cell_type": "code",
   "execution_count": 32,
   "metadata": {
    "pycharm": {}
   },
   "outputs": [
    {
     "name": "stdout",
     "output_type": "stream",
     "text": [
      "Size of each action:  (1,)\n",
      "Size of each observation:  (130,)\n",
      "Observation looks like:\n",
      "[ 1.73256983e-07 -1.80579883e-07  1.38786131e-07 -5.92433789e-08\n",
      " -3.64132191e-08  1.22165639e-07 -1.74689733e-07  1.79699261e-07\n",
      " -1.80579883e-07  1.38786131e-07 -5.92433789e-08 -3.64132191e-08\n",
      "  1.22165639e-07 -1.74689733e-07  1.79699261e-07 -1.35831662e-07\n",
      "  1.38786131e-07 -5.92433789e-08 -3.64132191e-08  1.22165639e-07\n",
      " -1.74689733e-07  1.79699261e-07 -1.35831662e-07  5.50186604e-08\n",
      " -5.92433789e-08 -3.64132191e-08  1.22165639e-07 -1.74689733e-07\n",
      "  1.79699261e-07 -1.35831662e-07  5.50186604e-08  4.07590887e-08\n",
      " -3.64132191e-08  1.22165639e-07 -1.74689733e-07  1.79699261e-07\n",
      " -1.35831662e-07  5.50186604e-08  4.07590887e-08 -1.25450609e-07\n",
      "  1.22165639e-07 -1.74689733e-07  1.79699261e-07 -1.35831662e-07\n",
      "  5.50186604e-08  4.07590887e-08 -1.25450609e-07  1.76020311e-07\n",
      " -1.74689733e-07  1.79699261e-07 -1.35831662e-07  5.50186604e-08\n",
      "  4.07590887e-08 -1.25450609e-07  1.76020311e-07 -1.78713538e-07\n",
      "  1.79699261e-07 -1.35831662e-07  5.50186604e-08  4.07590887e-08\n",
      " -1.25450609e-07  1.76020311e-07 -1.78713538e-07  1.32797749e-07\n",
      "  6.13428981e-08  3.42321386e-08 -1.20496238e-07  1.73986079e-07\n",
      " -1.80152743e-07  1.37318936e-07 -5.71351969e-08 -3.85889752e-08\n",
      "  3.42321386e-08 -1.20496238e-07  1.73986079e-07 -1.80152743e-07\n",
      "  1.37318936e-07 -5.71351969e-08 -3.85889752e-08  1.23817176e-07\n",
      " -1.20496238e-07  1.73986079e-07 -1.80152743e-07  1.37318936e-07\n",
      " -5.71351969e-08 -3.85889752e-08  1.23817176e-07 -1.75367843e-07\n",
      "  1.73986079e-07 -1.80152743e-07  1.37318936e-07 -5.71351969e-08\n",
      " -3.85889752e-08  1.23817176e-07 -1.75367843e-07  1.79219503e-07\n",
      " -1.80152743e-07  1.37318936e-07 -5.71351969e-08 -3.85889752e-08\n",
      "  1.23817176e-07 -1.75367843e-07  1.79219503e-07 -1.34324526e-07\n",
      "  1.37318936e-07 -5.71351969e-08 -3.85889752e-08  1.23817176e-07\n",
      " -1.75367843e-07  1.79219503e-07 -1.34324526e-07  5.28940789e-08\n",
      " -5.71351969e-08 -3.85889752e-08  1.23817176e-07 -1.75367843e-07\n",
      "  1.79219503e-07 -1.34324526e-07  5.28940789e-08  4.29232422e-08\n",
      " -3.85889752e-08  1.23817176e-07 -1.75367843e-07  1.79219503e-07\n",
      " -1.34324526e-07  5.28940789e-08  4.29232422e-08 -1.27065697e-07\n",
      "  6.33792084e-07  2.34216098e-07]\n"
     ]
    }
   ],
   "source": [
    "#reset the environment\n",
    "obs = env.reset()\n",
    "\n",
    "#size of each action\n",
    "action_size = env.action_space.shape\n",
    "print(\"Size of each action: \", action_size)\n",
    "\n",
    "#size of observation\n",
    "print(\"Size of each observation: \", obs.shape)\n",
    "print(\"Observation looks like:\")\n",
    "print(obs)"
   ]
  },
  {
   "cell_type": "markdown",
   "metadata": {
    "pycharm": {}
   },
   "source": [
    "## Perform random actions in the environment"
   ]
  },
  {
   "cell_type": "code",
   "execution_count": 33,
   "metadata": {
    "pycharm": {}
   },
   "outputs": [
    {
     "name": "stdout",
     "output_type": "stream",
     "text": [
      "Random TX location: [[300 500   0]]\n",
      "Capacity: 4.4765235164622934e-08\n",
      "Episodic score: 1.5 with episode length: 8 \n",
      "[0.3, 0.3, 0.0, 0.3, 0.0, 0.0, 0.3, 0.3]\n"
     ]
    }
   ],
   "source": [
    "obs = env.reset()\n",
    "count = 0\n",
    "ep_rwd=0\n",
    "rewards =[]\n",
    "while True:\n",
    "    action = np.array([round(np.random.uniform(0,2*math.pi), 2)])\n",
    "    obs, rwd, done, _ = env.step(action)\n",
    "    ep_rwd += rwd\n",
    "    rewards.append(rwd)\n",
    "    count +=1\n",
    "    if done:\n",
    "        break\n",
    "print(\"Random TX location: {0}\".format(env.tx_loc))\n",
    "print(\"Capacity: {0}\".format(env.cap))\n",
    "print(\"Episodic score: {0} with episode length: {1} \".format(ep_rwd, count))\n",
    "print(rewards)"
   ]
  },
  {
   "cell_type": "markdown",
   "metadata": {
    "pycharm": {}
   },
   "source": [
    "## Instantiate DDPG agent"
   ]
  },
  {
   "cell_type": "code",
   "execution_count": 34,
   "metadata": {
    "pycharm": {}
   },
   "outputs": [
    {
     "name": "stdout",
     "output_type": "stream",
     "text": [
      "1\n",
      "<class 'numpy.ndarray'>\n",
      "tensor([-1.7172e-07,  2.0865e-07, -1.9890e-07,  1.4464e-07, -5.8026e-08,\n",
      "        -4.1571e-08,  1.3187e-07, -1.9266e-07,  2.0865e-07, -1.9890e-07,\n",
      "         1.4464e-07, -5.8026e-08, -4.1571e-08,  1.3187e-07, -1.9266e-07,\n",
      "         2.1035e-07, -1.9890e-07,  1.4464e-07, -5.8026e-08, -4.1571e-08,\n",
      "         1.3187e-07, -1.9266e-07,  2.1035e-07, -1.8098e-07,  1.4464e-07,\n",
      "        -5.8026e-08, -4.1571e-08,  1.3187e-07, -1.9266e-07,  2.1035e-07,\n",
      "        -1.8098e-07,  1.1111e-07, -5.8026e-08, -4.1571e-08,  1.3187e-07,\n",
      "        -1.9266e-07,  2.1035e-07, -1.8098e-07,  1.1111e-07, -1.6391e-08,\n",
      "        -4.1571e-08,  1.3187e-07, -1.9266e-07,  2.1035e-07, -1.8098e-07,\n",
      "         1.1111e-07, -1.6391e-08, -8.1999e-08,  1.3187e-07, -1.9266e-07,\n",
      "         2.1035e-07, -1.8098e-07,  1.1111e-07, -1.6391e-08, -8.1999e-08,\n",
      "         1.6204e-07, -1.9266e-07,  2.1035e-07, -1.8098e-07,  1.1111e-07,\n",
      "        -1.6391e-08, -8.1999e-08,  1.6204e-07, -2.0583e-07, -1.2215e-07,\n",
      "         2.9562e-08,  6.9637e-08, -1.5326e-07,  2.0259e-07, -2.0659e-07,\n",
      "         1.6438e-07, -8.5384e-08,  2.9562e-08,  6.9637e-08, -1.5326e-07,\n",
      "         2.0259e-07, -2.0659e-07,  1.6438e-07, -8.5384e-08, -1.2711e-08,\n",
      "         6.9637e-08, -1.5326e-07,  2.0259e-07, -2.0659e-07,  1.6438e-07,\n",
      "        -8.5384e-08, -1.2711e-08,  1.0796e-07, -1.5326e-07,  2.0259e-07,\n",
      "        -2.0659e-07,  1.6438e-07, -8.5384e-08, -1.2711e-08,  1.0796e-07,\n",
      "        -1.7906e-07,  2.0259e-07, -2.0659e-07,  1.6438e-07, -8.5384e-08,\n",
      "        -1.2711e-08,  1.0796e-07, -1.7906e-07,  2.1010e-07, -2.0659e-07,\n",
      "         1.6438e-07, -8.5384e-08, -1.2711e-08,  1.0796e-07, -1.7906e-07,\n",
      "         2.1010e-07, -1.9413e-07,  1.6438e-07, -8.5384e-08, -1.2711e-08,\n",
      "         1.0796e-07, -1.7906e-07,  2.1010e-07, -1.9413e-07,  1.3472e-07,\n",
      "        -8.5384e-08, -1.2711e-08,  1.0796e-07, -1.7906e-07,  2.1010e-07,\n",
      "        -1.9413e-07,  1.3472e-07, -4.5180e-08,  4.5300e-08, -8.1292e-08],\n",
      "       device='cuda:0')\n"
     ]
    }
   ],
   "source": [
    "#import custom classes\n",
    "from Source.ddpg_rcv_agent import Agent\n",
    "from Source.nn_model import Actor, Critic\n",
    "from Source.ddpg_rcv_agent import Agent, ReplayBuffer, OUNoise\n",
    "from collections import deque\n",
    "\n",
    "#reset the environment\n",
    "obs = env.reset()\n",
    "\n",
    "state_size = obs.shape[0]\n",
    "action_size = env.action_space.shape[0]\n",
    "print(action_size)\n",
    "#instantiate the agent\n",
    "agent = Agent(state_size=state_size, action_size=action_size, seed=0)\n",
    "\n",
    "print(type(obs))\n",
    "obs_tensor = torch.from_numpy(obs).float().to(device)\n",
    "print(obs_tensor)"
   ]
  },
  {
   "cell_type": "code",
   "execution_count": null,
   "metadata": {
    "pycharm": {}
   },
   "outputs": [],
   "source": []
  },
  {
   "cell_type": "markdown",
   "metadata": {
    "pycharm": {}
   },
   "source": [
    "## DDPG Training"
   ]
  },
  {
   "cell_type": "code",
   "execution_count": 35,
   "metadata": {
    "pycharm": {},
    "scrolled": false
   },
   "outputs": [
    {
     "name": "stdout",
     "output_type": "stream",
     "text": [
      "Episode 100\tAverage Score: 2.05\n",
      "Episode 200\tAverage Score: 2.19\n",
      "Episode 300\tAverage Score: 2.21\n",
      "Episode 400\tAverage Score: 2.19\n",
      "Episode 500\tAverage Score: 2.19\n",
      "Episode 600\tAverage Score: 2.25\n",
      "Episode 700\tAverage Score: 2.22\n",
      "Episode 800\tAverage Score: 2.22\n"
     ]
    },
    {
     "data": {
      "image/png": "[encoded data removed]",
      "text/plain": [
       "<Figure size 432x288 with 1 Axes>"
      ]
     },
     "metadata": {
      "needs_background": "light"
     },
     "output_type": "display_data"
    }
   ],
   "source": [
    "train_episodes = 800\n",
    "print_every= 100\n",
    "\n",
    "scores_deque = deque(maxlen=print_every)\n",
    "scores = []\n",
    "\n",
    "for i_episode in range(1,train_episodes+1):\n",
    "    \n",
    "    # reset the environment\n",
    "    obs = env.reset()\n",
    "    agent.reset()\n",
    "    ep_rwds = []\n",
    "    score = 0\n",
    "    while True:\n",
    "        action = agent.act(obs)\n",
    "        next_obs, reward, done, _ = env.step(action)\n",
    "        agent.step(obs, action, reward, next_obs, done)\n",
    "        obs = next_obs\n",
    "        score+= reward\n",
    "        ep_rwds.append(reward)\n",
    "        if done:\n",
    "            break\n",
    "            \n",
    "    scores_deque.append(score)\n",
    "    scores.append(score)\n",
    "    #print('\\rEpisode {}\\t, TX loc: {}\\t, Score: {:.2f}\\n'.format(i_episode, env.tx_loc, score), end=\"\")\n",
    "    \n",
    "    #print(ep_rwds)\n",
    "    if i_episode % print_every == 0:\n",
    "        print('\\rEpisode {}\\tAverage Score: {:.2f}'.format(i_episode, np.mean(scores_deque)))\n",
    "    \n",
    "torch.save(agent.actor_local.state_dict(), 'checkpoint_actor.pth')\n",
    "torch.save(agent.critic_local.state_dict(), 'checkpoint_critic.pth')    \n",
    "fig = plt.figure()\n",
    "ax = fig.add_subplot(111)\n",
    "plt.plot(np.arange(1, len(scores)+1), scores)\n",
    "plt.ylabel('Score')\n",
    "plt.xlabel('Episode #')\n",
    "plt.show() "
   ]
  },
  {
   "cell_type": "markdown",
   "metadata": {},
   "source": [
    "## Testing the DDPG agent"
   ]
  },
  {
   "cell_type": "code",
   "execution_count": 58,
   "metadata": {},
   "outputs": [
    {
     "name": "stdout",
     "output_type": "stream",
     "text": [
      "TX loc: [[300 350   0]], episode score: 2.4\n",
      "\n",
      "TX_beam dir: [ 1.        +0.j         -0.70710678-0.70710678j  0.        +1.j\n",
      "  0.70710678-0.70710678j -1.        +0.j          0.70710678+0.70710678j\n",
      "  0.        -1.j         -0.70710678+0.70710678j]\n",
      "eps rwds: [0.3, 0.3, 0.3, 0.3, 0.3, 0.3, 0.3, 0.3]\n",
      "\n",
      "Applied RX directions: [array([6.2831855], dtype=float32), array([6.2831855], dtype=float32), array([6.2831855], dtype=float32), array([6.2831855], dtype=float32), array([6.2831855], dtype=float32), array([6.2831855], dtype=float32), array([6.2831855], dtype=float32), array([6.2831855], dtype=float32)]\n"
     ]
    }
   ],
   "source": [
    "agent.actor_local.load_state_dict(torch.load('checkpoint_actor.pth'))\n",
    "agent.critic_local.load_state_dict(torch.load('checkpoint_critic.pth'))\n",
    "\n",
    "score = 0.0\n",
    "eps_rwd =[]\n",
    "obs = env.reset()\n",
    "agent.actor_local.eval()\n",
    "agent.critic_local.eval()\n",
    "ep_actions =[]\n",
    "while True:\n",
    "    #obs_tensor = torch.from_numpy(obs).float().to(device)\n",
    "    \n",
    "    action =  agent.act(obs,add_noise=False)#.cpu().data.numpy()\n",
    "    #action == np.clip(action, 0, 2*np.pi)\n",
    "    \n",
    "    #action_tensor = agent.actor_local(obs_tensor).to(device)\n",
    "    #print(obs, action)\n",
    "    #q_val = agent.critic_local(obs_tensor, action_tensor).cpu().data.numpy()\n",
    "    obs, rwd, done, _ = env.step(action)\n",
    "    ep_actions.append(action)\n",
    "    score +=rwd\n",
    "    eps_rwd.append(rwd)\n",
    "    if done:\n",
    "        break\n",
    "print(\"TX loc: {0}, episode score: {1}\\n\".format(env.tx_loc, score))\n",
    "print(\"TX_beam dir: {}\".format(env.tx_beam))\n",
    "print(\"eps rwds: {}\\n\".format(eps_rwd))\n",
    "print(\"Applied RX directions: {}\".format(ep_actions))"
   ]
  }
 ],
 "metadata": {
  "kernelspec": {
   "display_name": "Python 3",
   "language": "python",
   "name": "python3"
  },
  "language_info": {
   "codemirror_mode": {
    "name": "ipython",
    "version": 3
   },
   "file_extension": ".py",
   "mimetype": "text/x-python",
   "name": "python",
   "nbconvert_exporter": "python",
   "pygments_lexer": "ipython3",
   "version": "3.7.1"
  }
 },
 "nbformat": 4,
 "nbformat_minor": 1
}

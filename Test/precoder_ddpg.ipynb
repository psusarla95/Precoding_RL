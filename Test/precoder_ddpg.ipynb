{
 "cells": [
  {
   "cell_type": "code",
   "execution_count": 1,
   "metadata": {
    "pycharm": {
     "is_executing": false
    }
   },
   "outputs": [],
   "source": [
    "%load_ext autoreload\n",
    "%autoreload 2"
   ]
  },
  {
   "cell_type": "code",
   "execution_count": 2,
   "metadata": {},
   "outputs": [],
   "source": [
    "import gym\n",
    "import gym_combrf\n",
    "\n",
    "import numpy as np\n",
    "import random\n",
    "import math\n",
    "import matplotlib.pyplot as plt\n",
    "import tqdm\n",
    "import os\n",
    "\n",
    "import torch\n",
    "import torch.optim as optim\n",
    "import torch.nn.functional as F\n",
    "\n",
    "\n"
   ]
  },
  {
   "cell_type": "code",
   "execution_count": 3,
   "metadata": {},
   "outputs": [],
   "source": [
    "#initialize gym environment\n",
    "env = gym.make('combrf-v0')"
   ]
  },
  {
   "cell_type": "code",
   "execution_count": 4,
   "metadata": {},
   "outputs": [],
   "source": [
    "#hyper-parameters\n",
    "UPDATE_EVERY = 50 #how often to update the network\n",
    "EPS_START = 1\n",
    "EPS_END = 0.01\n",
    "EPS_DECAY = 0.9983\n",
    "EPS_STEP_LIMIT = 50\n",
    "\n",
    "TRAIN_EPISODES = 20\n",
    "TEST_EPISODES = 1\n",
    "seed = 0\n",
    "\n",
    "#initialize GPU device\n",
    "device = torch.device(\"cuda:0\" if torch.cuda.is_available() else \"cpu\")\n"
   ]
  },
  {
   "cell_type": "markdown",
   "metadata": {},
   "source": [
    "## Examine state and action spaces"
   ]
  },
  {
   "cell_type": "code",
   "execution_count": 5,
   "metadata": {},
   "outputs": [
    {
     "name": "stdout",
     "output_type": "stream",
     "text": [
      "Size of each action:  (1,)\n",
      "Size of each observation:  (130,)\n",
      "Observation looks like:\n",
      "[-9.85837812e-08 -1.97193427e-07 -1.60329127e-08  1.87874458e-07\n",
      "  1.25233050e-07 -1.15084008e-07 -1.92124471e-07  3.41359421e-09\n",
      " -1.97193427e-07 -1.60329127e-08  1.87874458e-07  1.25233050e-07\n",
      " -1.15084008e-07 -1.92124471e-07  3.41359421e-09  1.94108588e-07\n",
      " -1.60329127e-08  1.87874458e-07  1.25233050e-07 -1.15084008e-07\n",
      " -1.92124471e-07  3.41359421e-09  1.94108588e-07  1.09410068e-07\n",
      "  1.87874458e-07  1.25233050e-07 -1.15084008e-07 -1.92124471e-07\n",
      "  3.41359421e-09  1.94108588e-07  1.09410068e-07 -1.30515087e-07\n",
      "  1.25233050e-07 -1.15084008e-07 -1.92124471e-07  3.41359421e-09\n",
      "  1.94108588e-07  1.09410068e-07 -1.30515087e-07 -1.85270649e-07\n",
      " -1.15084008e-07 -1.92124471e-07  3.41359421e-09  1.94108588e-07\n",
      "  1.09410068e-07 -1.30515087e-07 -1.85270649e-07  2.28283883e-08\n",
      " -1.92124471e-07  3.41359421e-09  1.94108588e-07  1.09410068e-07\n",
      " -1.30515087e-07 -1.85270649e-07  2.28283883e-08  1.98539420e-07\n",
      "  3.41359421e-09  1.94108588e-07  1.09410068e-07 -1.30515087e-07\n",
      " -1.85270649e-07  2.28283883e-08  1.98539420e-07  9.25706504e-08\n",
      "  1.76145714e-07 -4.31373022e-08 -2.01218836e-07 -7.38191204e-08\n",
      "  1.58312216e-07  1.65836502e-07 -6.19214188e-08 -2.01827703e-07\n",
      " -4.31373022e-08 -2.01218836e-07 -7.38191204e-08  1.58312216e-07\n",
      "  1.65836502e-07 -6.19214188e-08 -2.01827703e-07 -5.53889016e-08\n",
      " -2.01218836e-07 -7.38191204e-08  1.58312216e-07  1.65836502e-07\n",
      " -6.19214188e-08 -2.01827703e-07 -5.53889016e-08  1.69633462e-07\n",
      " -7.38191204e-08  1.58312216e-07  1.65836502e-07 -6.19214188e-08\n",
      " -2.01827703e-07 -5.53889016e-08  1.69633462e-07  1.53986643e-07\n",
      "  1.58312216e-07  1.65836502e-07 -6.19214188e-08 -2.01827703e-07\n",
      " -5.53889016e-08  1.69633462e-07  1.53986643e-07 -8.01302757e-08\n",
      "  1.65836502e-07 -6.19214188e-08 -2.01827703e-07 -5.53889016e-08\n",
      "  1.69633462e-07  1.53986643e-07 -8.01302757e-08 -2.00561559e-07\n",
      " -6.19214188e-08 -2.01827703e-07 -5.53889016e-08  1.69633462e-07\n",
      "  1.53986643e-07 -8.01302757e-08 -2.00561559e-07 -3.64441113e-08\n",
      " -2.01827703e-07 -5.53889016e-08  1.69633462e-07  1.53986643e-07\n",
      " -8.01302757e-08 -2.00561559e-07 -3.64441113e-08  1.79378787e-07\n",
      "  1.56758331e-06  1.03598578e-06]\n"
     ]
    }
   ],
   "source": [
    "#reset the environment\n",
    "obs = env.reset()\n",
    "\n",
    "#size of each action\n",
    "action_size = env.action_space.shape\n",
    "print(\"Size of each action: \", action_size)\n",
    "\n",
    "#size of observation\n",
    "print(\"Size of each observation: \", obs.shape)\n",
    "print(\"Observation looks like:\")\n",
    "print(obs)"
   ]
  },
  {
   "cell_type": "markdown",
   "metadata": {},
   "source": [
    "## Perform random actions in the environment"
   ]
  },
  {
   "cell_type": "code",
   "execution_count": 6,
   "metadata": {},
   "outputs": [
    {
     "name": "stdout",
     "output_type": "stream",
     "text": [
      "Random TX location: [[   0 -400    0]]\n",
      "Capacity: 4.5852698005869194e-08\n",
      "Episodic score: 1.4681791524436894 with episode length: 8 \n"
     ]
    }
   ],
   "source": [
    "obs = env.reset()\n",
    "count = 0\n",
    "ep_rwd=0\n",
    "while True:\n",
    "    action = np.array([round(np.random.uniform(0,2*math.pi), 2)])\n",
    "    obs, rwd, done, _ = env.step(action)\n",
    "    ep_rwd += rwd\n",
    "    count +=1\n",
    "    if done:\n",
    "        break\n",
    "print(\"Random TX location: {0}\".format(env.tx_loc))\n",
    "print(\"Capacity: {0}\".format(env.cap))\n",
    "print(\"Episodic score: {0} with episode length: {1} \".format(ep_rwd, count))"
   ]
  },
  {
   "cell_type": "markdown",
   "metadata": {},
   "source": [
    "## Instantiate DDPG agent"
   ]
  },
  {
   "cell_type": "code",
   "execution_count": 19,
   "metadata": {},
   "outputs": [
    {
     "name": "stdout",
     "output_type": "stream",
     "text": [
      "<class 'numpy.ndarray'>\n",
      "tensor([ 5.2959e-08, -9.1027e-08,  1.2452e-07, -1.5175e-07,  1.7135e-07,\n",
      "        -1.8234e-07,  1.8416e-07, -1.7672e-07, -9.1027e-08,  1.2452e-07,\n",
      "        -1.5175e-07,  1.7135e-07, -1.8234e-07,  1.8416e-07, -1.7672e-07,\n",
      "         1.6039e-07,  1.2452e-07, -1.5175e-07,  1.7135e-07, -1.8234e-07,\n",
      "         1.8416e-07, -1.7672e-07,  1.6039e-07, -1.3600e-07, -1.5175e-07,\n",
      "         1.7135e-07, -1.8234e-07,  1.8416e-07, -1.7672e-07,  1.6039e-07,\n",
      "        -1.3600e-07,  1.0478e-07,  1.7135e-07, -1.8234e-07,  1.8416e-07,\n",
      "        -1.7672e-07,  1.6039e-07, -1.3600e-07,  1.0478e-07, -6.8283e-08,\n",
      "        -1.8234e-07,  1.8416e-07, -1.7672e-07,  1.6039e-07, -1.3600e-07,\n",
      "         1.0478e-07, -6.8283e-08,  2.8356e-08,  1.8416e-07, -1.7672e-07,\n",
      "         1.6039e-07, -1.3600e-07,  1.0478e-07, -6.8283e-08,  2.8356e-08,\n",
      "         1.2996e-08, -1.7672e-07,  1.6039e-07, -1.3600e-07,  1.0478e-07,\n",
      "        -6.8283e-08,  2.8356e-08,  1.2996e-08, -5.3695e-08,  1.7683e-07,\n",
      "        -1.6058e-07,  1.3626e-07, -1.0509e-07,  6.8640e-08, -2.8736e-08,\n",
      "        -1.2613e-08,  5.3327e-08, -1.6058e-07,  1.3626e-07, -1.0509e-07,\n",
      "         6.8640e-08, -2.8736e-08, -1.2613e-08,  5.3327e-08, -9.1361e-08,\n",
      "         1.3626e-07, -1.0509e-07,  6.8640e-08, -2.8736e-08, -1.2613e-08,\n",
      "         5.3327e-08, -9.1361e-08,  1.2480e-07, -1.0509e-07,  6.8640e-08,\n",
      "        -2.8736e-08, -1.2613e-08,  5.3327e-08, -9.1361e-08,  1.2480e-07,\n",
      "        -1.5197e-07,  6.8640e-08, -2.8736e-08, -1.2613e-08,  5.3327e-08,\n",
      "        -9.1361e-08,  1.2480e-07, -1.5197e-07,  1.7149e-07, -2.8736e-08,\n",
      "        -1.2613e-08,  5.3327e-08, -9.1361e-08,  1.2480e-07, -1.5197e-07,\n",
      "         1.7149e-07, -1.8240e-07, -1.2613e-08,  5.3327e-08, -9.1361e-08,\n",
      "         1.2480e-07, -1.5197e-07,  1.7149e-07, -1.8240e-07,  1.8413e-07,\n",
      "         5.3327e-08, -9.1361e-08,  1.2480e-07, -1.5197e-07,  1.7149e-07,\n",
      "        -1.8240e-07,  1.8413e-07, -1.7660e-07, -1.7053e-06,  3.2383e-06],\n",
      "       device='cuda:0')\n"
     ]
    }
   ],
   "source": [
    "#import custom classes\n",
    "from Source.ddpg_rcv_agent import Agent\n",
    "from Source.nn_model import Actor, Critic\n",
    "from Source.ddpg_rcv_agent import Agent, ReplayBuffer, OUNoise\n",
    "from collections import deque\n",
    "\n",
    "#reset the environment\n",
    "obs = env.reset()\n",
    "\n",
    "state_size = obs.shape[0]\n",
    "action_size = env.action_space.shape[0]\n",
    "\n",
    "#instantiate the agent\n",
    "agent = Agent(state_size=state_size, action_size=action_size, seed=0)\n",
    "\n",
    "print(type(obs))\n",
    "obs_tensor = torch.from_numpy(obs).float().to(device)\n",
    "print(obs_tensor)"
   ]
  },
  {
   "cell_type": "markdown",
   "metadata": {},
   "source": [
    "## DDPG Training"
   ]
  },
  {
   "cell_type": "code",
   "execution_count": 21,
   "metadata": {},
   "outputs": [
    {
     "name": "stdout",
     "output_type": "stream",
     "text": [
      "Episode 1\tAverage Score: 6.80\n",
      "Episode 2\tAverage Score: 6.74\n",
      "Episode 3\tAverage Score: 6.67\n",
      "Episode 4\tAverage Score: 6.70\n",
      "Episode 5\tAverage Score: 6.82\n",
      "Episode 6\tAverage Score: 6.66\n",
      "Episode 7\tAverage Score: 6.62\n",
      "Episode 8\tAverage Score: 6.55\n",
      "Episode 9\tAverage Score: 6.39\n",
      "Episode 10\tAverage Score: 6.46\n",
      "Episode 11\tAverage Score: 6.42\n",
      "Episode 12\tAverage Score: 6.46\n",
      "Episode 13\tAverage Score: 6.45\n",
      "Episode 14\tAverage Score: 6.10\n",
      "Episode 15\tAverage Score: 6.10\n",
      "Episode 16\tAverage Score: 6.16\n",
      "Episode 17\tAverage Score: 6.17\n",
      "Episode 18\tAverage Score: 6.23\n",
      "Episode 19\tAverage Score: 6.19\n",
      "Episode 20\tAverage Score: 6.18\n",
      "Episode 21\tAverage Score: 6.17\n",
      "Episode 22\tAverage Score: 6.19\n",
      "Episode 23\tAverage Score: 6.18\n",
      "Episode 24\tAverage Score: 6.19\n",
      "Episode 25\tAverage Score: 6.18\n",
      "Episode 26\tAverage Score: 6.19\n",
      "Episode 27\tAverage Score: 6.26\n",
      "Episode 28\tAverage Score: 6.26\n",
      "Episode 29\tAverage Score: 6.25\n",
      "Episode 30\tAverage Score: 6.27\n",
      "Episode 31\tAverage Score: 6.24\n",
      "Episode 32\tAverage Score: 6.23\n",
      "Episode 33\tAverage Score: 6.25\n",
      "Episode 34\tAverage Score: 6.27\n",
      "Episode 35\tAverage Score: 6.25\n",
      "Episode 36\tAverage Score: 6.27\n",
      "Episode 37\tAverage Score: 6.15\n",
      "Episode 38\tAverage Score: 6.15\n",
      "Episode 39\tAverage Score: 6.13\n",
      "Episode 40\tAverage Score: 6.16\n",
      "Episode 41\tAverage Score: 6.18\n",
      "Episode 42\tAverage Score: 6.19\n",
      "Episode 43\tAverage Score: 6.18\n",
      "Episode 44\tAverage Score: 6.19\n",
      "Episode 45\tAverage Score: 6.21\n",
      "Episode 46\tAverage Score: 6.21\n",
      "Episode 47\tAverage Score: 6.23\n",
      "Episode 48\tAverage Score: 6.24\n",
      "Episode 49\tAverage Score: 6.26\n",
      "Episode 50\tAverage Score: 6.25\n",
      "Episode 51\tAverage Score: 6.24\n",
      "Episode 52\tAverage Score: 6.25\n",
      "Episode 53\tAverage Score: 6.25\n",
      "Episode 54\tAverage Score: 6.26\n",
      "Episode 55\tAverage Score: 6.27\n",
      "Episode 56\tAverage Score: 6.27\n",
      "Episode 57\tAverage Score: 6.29\n",
      "Episode 58\tAverage Score: 6.30\n",
      "Episode 59\tAverage Score: 6.30\n",
      "Episode 60\tAverage Score: 6.30\n",
      "Episode 61\tAverage Score: 6.30\n",
      "Episode 62\tAverage Score: 6.30\n",
      "Episode 63\tAverage Score: 6.30\n",
      "Episode 64\tAverage Score: 6.29\n",
      "Episode 65\tAverage Score: 6.28\n",
      "Episode 66\tAverage Score: 6.28\n",
      "Episode 67\tAverage Score: 6.29\n",
      "Episode 68\tAverage Score: 6.29\n",
      "Episode 69\tAverage Score: 6.31\n",
      "Episode 70\tAverage Score: 6.31\n",
      "Episode 71\tAverage Score: 6.32\n",
      "Episode 72\tAverage Score: 6.32\n",
      "Episode 73\tAverage Score: 6.30\n",
      "Episode 74\tAverage Score: 6.31\n",
      "Episode 75\tAverage Score: 6.25\n",
      "Episode 76\tAverage Score: 6.19\n",
      "Episode 77\tAverage Score: 6.21\n",
      "Episode 78\tAverage Score: 6.22\n",
      "Episode 79\tAverage Score: 6.24\n",
      "Episode 80\tAverage Score: 6.24\n",
      "Episode 81\tAverage Score: 6.25\n",
      "Episode 82\tAverage Score: 6.26\n",
      "Episode 83\tAverage Score: 6.27\n",
      "Episode 84\tAverage Score: 6.27\n",
      "Episode 85\tAverage Score: 6.22\n",
      "Episode 86\tAverage Score: 6.22\n",
      "Episode 87\tAverage Score: 6.22\n",
      "Episode 88\tAverage Score: 6.23\n",
      "Episode 89\tAverage Score: 6.23\n",
      "Episode 90\tAverage Score: 6.25\n",
      "Episode 91\tAverage Score: 6.24\n",
      "Episode 92\tAverage Score: 6.24\n",
      "Episode 93\tAverage Score: 6.24\n",
      "Episode 94\tAverage Score: 6.24\n",
      "Episode 95\tAverage Score: 6.25\n",
      "Episode 96\tAverage Score: 6.27\n",
      "Episode 97\tAverage Score: 6.28\n",
      "Episode 98\tAverage Score: 6.28\n",
      "Episode 99\tAverage Score: 6.28\n",
      "Episode 100\tAverage Score: 6.24\n"
     ]
    },
    {
     "data": {
      "image/png": "[encoded data removed]",
      "text/plain": [
       "<Figure size 432x288 with 1 Axes>"
      ]
     },
     "metadata": {
      "needs_background": "light"
     },
     "output_type": "display_data"
    }
   ],
   "source": [
    "train_episodes = 100\n",
    "print_every= 100\n",
    "\n",
    "scores_deque = deque(maxlen=print_every)\n",
    "scores = []\n",
    "\n",
    "for i_episode in range(1,train_episodes+1):\n",
    "    \n",
    "    # reset the environment\n",
    "    obs = env.reset()\n",
    "    agent.reset()\n",
    "    ep_rwds = []\n",
    "    score = 0\n",
    "    while True:\n",
    "        action = agent.act(obs)\n",
    "        next_obs, reward, done, _ = env.step(action)\n",
    "        agent.step(obs, action, reward, next_obs, done)\n",
    "        obs = next_obs\n",
    "        score+= reward\n",
    "        ep_rwds.append(reward)\n",
    "        if done:\n",
    "            break\n",
    "            \n",
    "    scores_deque.append(score)\n",
    "    scores.append(score)\n",
    "    print('\\rEpisode {}\\tAverage Score: {:.2f}\\n'.format(i_episode, np.mean(scores_deque)), end=\"\")\n",
    "    torch.save(agent.actor_local.state_dict(), 'checkpoint_actor.pth')\n",
    "    torch.save(agent.critic_local.state_dict(), 'checkpoint_critic.pth')\n",
    "    #print(ep_rwds)\n",
    "    #if i_episode % print_every == 0:\n",
    "    #    print('\\rEpisode {}\\tAverage Score: {:.2f}'.format(i_episode, np.mean(scores_deque)))\n",
    "    \n",
    "    \n",
    "fig = plt.figure()\n",
    "ax = fig.add_subplot(111)\n",
    "plt.plot(np.arange(1, len(scores)+1), scores)\n",
    "plt.ylabel('Score')\n",
    "plt.xlabel('Episode #')\n",
    "plt.show() "
   ]
  }
 ],
 "metadata": {
  "kernelspec": {
   "display_name": "Python 3",
   "language": "python",
   "name": "python3"
  },
  "language_info": {
   "codemirror_mode": {
    "name": "ipython",
    "version": 3
   },
   "file_extension": ".py",
   "mimetype": "text/x-python",
   "name": "python",
   "nbconvert_exporter": "python",
   "pygments_lexer": "ipython3",
   "version": "3.7.1"
  }
 },
 "nbformat": 4,
 "nbformat_minor": 1
}

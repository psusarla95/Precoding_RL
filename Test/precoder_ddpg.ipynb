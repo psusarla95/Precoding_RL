{
 "cells": [
  {
   "cell_type": "code",
   "execution_count": 1,
   "metadata": {
    "pycharm": {
     "is_executing": false
    }
   },
   "outputs": [],
   "source": [
    "%load_ext autoreload\n",
    "%autoreload 2"
   ]
  },
  {
   "cell_type": "code",
   "execution_count": 2,
   "metadata": {
    "pycharm": {}
   },
   "outputs": [],
   "source": [
    "import gym\n",
    "import gym_combrf\n",
    "\n",
    "import numpy as np\n",
    "import random\n",
    "import math\n",
    "import matplotlib.pyplot as plt\n",
    "import tqdm\n",
    "import os\n",
    "\n",
    "import torch\n",
    "import torch.optim as optim\n",
    "import torch.nn.functional as F\n",
    "\n",
    "\n"
   ]
  },
  {
   "cell_type": "code",
   "execution_count": 3,
   "metadata": {
    "pycharm": {
     "is_executing": false
    }
   },
   "outputs": [],
   "source": [
    "#initialize gym environment\n",
    "env = gym.make('combrf-v0')"
   ]
  },
  {
   "cell_type": "code",
   "execution_count": 4,
   "metadata": {
    "pycharm": {}
   },
   "outputs": [],
   "source": [
    "#hyper-parameters\n",
    "UPDATE_EVERY = 50 #how often to update the network\n",
    "EPS_START = 1\n",
    "EPS_END = 0.01\n",
    "EPS_DECAY = 0.9983\n",
    "EPS_STEP_LIMIT = 50\n",
    "\n",
    "TRAIN_EPISODES = 20\n",
    "TEST_EPISODES = 1\n",
    "seed = 0\n",
    "\n",
    "#initialize GPU device\n",
    "device = torch.device(\"cuda:0\" if torch.cuda.is_available() else \"cpu\")\n"
   ]
  },
  {
   "cell_type": "markdown",
   "metadata": {
    "pycharm": {}
   },
   "source": [
    "## Examine state and action spaces"
   ]
  },
  {
   "cell_type": "code",
   "execution_count": 5,
   "metadata": {
    "pycharm": {}
   },
   "outputs": [
    {
     "name": "stdout",
     "output_type": "stream",
     "text": [
      "Size of each action:  (1,)\n",
      "Size of each observation:  (1, 130)\n",
      "Observation looks like:\n",
      "[[ 2.01393874e-09  2.08800292e-07  2.69474045e-07  1.41577402e-07\n",
      "  -8.53911447e-08 -2.52605358e-07 -2.43053411e-07 -6.34194888e-08\n",
      "   2.08800292e-07  2.69474045e-07  1.41577402e-07 -8.53911447e-08\n",
      "  -2.52605358e-07 -2.43053411e-07 -6.34194888e-08  1.60593617e-07\n",
      "   2.69474045e-07  1.41577402e-07 -8.53911447e-08 -2.52605358e-07\n",
      "  -2.43053411e-07 -6.34194888e-08  1.60593617e-07  2.72227804e-07\n",
      "   1.41577402e-07 -8.53911447e-08 -2.52605358e-07 -2.43053411e-07\n",
      "  -6.34194888e-08  1.60593617e-07  2.72227804e-07  1.93364592e-07\n",
      "  -8.53911447e-08 -2.52605358e-07 -2.43053411e-07 -6.34194888e-08\n",
      "   1.60593617e-07  2.72227804e-07  1.93364592e-07 -2.08097500e-08\n",
      "  -2.52605358e-07 -2.43053411e-07 -6.34194888e-08  1.60593617e-07\n",
      "   2.72227804e-07  1.93364592e-07 -2.08097500e-08 -2.20422011e-07\n",
      "  -2.43053411e-07 -6.34194888e-08  1.60593617e-07  2.72227804e-07\n",
      "   1.93364592e-07 -2.08097500e-08 -2.20422011e-07 -2.65789117e-07\n",
      "  -6.34194888e-08  1.60593617e-07  2.72227804e-07  1.93364592e-07\n",
      "  -2.08097500e-08 -2.20422011e-07 -2.65789117e-07 -1.25164437e-07\n",
      "  -2.73073155e-07 -1.75998415e-07  4.42350911e-08  2.33514118e-07\n",
      "   2.59386500e-07  1.03747468e-07 -1.24491138e-07 -2.65614330e-07\n",
      "  -1.75998415e-07  4.42350911e-08  2.33514118e-07  2.59386500e-07\n",
      "   1.03747468e-07 -1.24491138e-07 -2.65614330e-07 -2.20868047e-07\n",
      "   4.42350911e-08  2.33514118e-07  2.59386500e-07  1.03747468e-07\n",
      "  -1.24491138e-07 -2.65614330e-07 -2.20868047e-07 -2.15644858e-08\n",
      "   2.33514118e-07  2.59386500e-07  1.03747468e-07 -1.24491138e-07\n",
      "  -2.65614330e-07 -2.20868047e-07 -2.15644858e-08  1.92829299e-07\n",
      "   2.59386500e-07  1.03747468e-07 -1.24491138e-07 -2.65614330e-07\n",
      "  -2.20868047e-07 -2.15644858e-08  1.92829299e-07  2.72286537e-07\n",
      "   1.03747468e-07 -1.24491138e-07 -2.65614330e-07 -2.20868047e-07\n",
      "  -2.15644858e-08  1.92829299e-07  2.72286537e-07  1.61205276e-07\n",
      "  -1.24491138e-07 -2.65614330e-07 -2.20868047e-07 -2.15644858e-08\n",
      "   1.92829299e-07  2.72286537e-07  1.61205276e-07 -6.26829256e-08\n",
      "  -2.65614330e-07 -2.20868047e-07 -2.15644858e-08  1.92829299e-07\n",
      "   2.72286537e-07  1.61205276e-07 -6.26829256e-08 -2.42707370e-07\n",
      "  -6.99150713e-07  8.77702552e-08]]\n"
     ]
    }
   ],
   "source": [
    "#reset the environment\n",
    "obs = env.reset()\n",
    "\n",
    "#size of each action\n",
    "action_size = env.action_space.shape\n",
    "print(\"Size of each action: \", action_size)\n",
    "\n",
    "#size of observation\n",
    "print(\"Size of each observation: \", obs.shape)\n",
    "print(\"Observation looks like:\")\n",
    "print(obs)"
   ]
  },
  {
   "cell_type": "markdown",
   "metadata": {
    "pycharm": {}
   },
   "source": [
    "## Perform random actions in the environment"
   ]
  },
  {
   "cell_type": "code",
   "execution_count": 6,
   "metadata": {
    "pycharm": {}
   },
   "outputs": [
    {
     "name": "stdout",
     "output_type": "stream",
     "text": [
      "Random TX location: [[500 250   0]]\n",
      "Capacity: 4.4886913721313074e-08\n",
      "Episodic score: 1.5 with episode length: 8 \n",
      "[0.3, 0.3, 0.0, 0.3, 0.0, 0.3, 0.0, 0.3]\n",
      "[array([[0.73613826]]), array([[0.92298923]]), array([[0.80657843]]), array([[0.11499593]]), array([[0.57464084]]), array([[0.53258053]]), array([[0.84008955]]), array([[0.45946958]])]\n"
     ]
    }
   ],
   "source": [
    "obs = env.reset()\n",
    "count = 0\n",
    "ep_rwd=0\n",
    "rewards =[]\n",
    "actions =[]\n",
    "while True:\n",
    "    action = np.array([[np.random.uniform(0,1)]])\n",
    "    obs, rwd, done, _ = env.step(action)\n",
    "    ep_rwd += rwd\n",
    "    rewards.append(rwd)\n",
    "    actions.append(action)\n",
    "    count +=1\n",
    "    if done:\n",
    "        break\n",
    "print(\"Random TX location: {0}\".format(env.tx_loc))\n",
    "print(\"Capacity: {0}\".format(env.cap))\n",
    "print(\"Episodic score: {0} with episode length: {1} \".format(ep_rwd, count))\n",
    "print(rewards)\n",
    "print(actions)"
   ]
  },
  {
   "cell_type": "markdown",
   "metadata": {
    "pycharm": {}
   },
   "source": [
    "## Instantiate DDPG agent"
   ]
  },
  {
   "cell_type": "code",
   "execution_count": 7,
   "metadata": {
    "pycharm": {}
   },
   "outputs": [
    {
     "name": "stdout",
     "output_type": "stream",
     "text": [
      "1\n",
      "130\n",
      "<class 'numpy.ndarray'>\n",
      "tensor([[ 1.9416e-06, -1.9416e-06,  1.9416e-06, -1.9416e-06,  1.9416e-06,\n",
      "         -1.9416e-06,  1.9416e-06, -1.9416e-06, -1.9416e-06,  1.9416e-06,\n",
      "         -1.9416e-06,  1.9416e-06, -1.9416e-06,  1.9416e-06, -1.9416e-06,\n",
      "          1.9416e-06,  1.9416e-06, -1.9416e-06,  1.9416e-06, -1.9416e-06,\n",
      "          1.9416e-06, -1.9416e-06,  1.9416e-06, -1.9416e-06, -1.9416e-06,\n",
      "          1.9416e-06, -1.9416e-06,  1.9416e-06, -1.9416e-06,  1.9416e-06,\n",
      "         -1.9416e-06,  1.9416e-06,  1.9416e-06, -1.9416e-06,  1.9416e-06,\n",
      "         -1.9416e-06,  1.9416e-06, -1.9416e-06,  1.9416e-06, -1.9416e-06,\n",
      "         -1.9416e-06,  1.9416e-06, -1.9416e-06,  1.9416e-06, -1.9416e-06,\n",
      "          1.9416e-06, -1.9416e-06,  1.9416e-06,  1.9416e-06, -1.9416e-06,\n",
      "          1.9416e-06, -1.9416e-06,  1.9416e-06, -1.9416e-06,  1.9416e-06,\n",
      "         -1.9416e-06, -1.9416e-06,  1.9416e-06, -1.9416e-06,  1.9416e-06,\n",
      "         -1.9416e-06,  1.9416e-06, -1.9416e-06,  1.9416e-06,  4.2718e-07,\n",
      "         -4.2718e-07,  4.2718e-07, -4.2718e-07,  4.2718e-07, -4.2718e-07,\n",
      "          4.2718e-07, -4.2718e-07, -4.2718e-07,  4.2718e-07, -4.2718e-07,\n",
      "          4.2718e-07, -4.2718e-07,  4.2718e-07, -4.2718e-07,  4.2718e-07,\n",
      "          4.2718e-07, -4.2718e-07,  4.2718e-07, -4.2718e-07,  4.2718e-07,\n",
      "         -4.2718e-07,  4.2718e-07, -4.2718e-07, -4.2718e-07,  4.2718e-07,\n",
      "         -4.2718e-07,  4.2718e-07, -4.2718e-07,  4.2718e-07, -4.2718e-07,\n",
      "          4.2718e-07,  4.2718e-07, -4.2718e-07,  4.2718e-07, -4.2718e-07,\n",
      "          4.2718e-07, -4.2718e-07,  4.2718e-07, -4.2718e-07, -4.2718e-07,\n",
      "          4.2718e-07, -4.2718e-07,  4.2718e-07, -4.2718e-07,  4.2718e-07,\n",
      "         -4.2718e-07,  4.2718e-07,  4.2718e-07, -4.2718e-07,  4.2718e-07,\n",
      "         -4.2718e-07,  4.2718e-07, -4.2718e-07,  4.2718e-07, -4.2718e-07,\n",
      "         -4.2718e-07,  4.2718e-07, -4.2718e-07,  4.2718e-07, -4.2718e-07,\n",
      "          4.2718e-07, -4.2718e-07,  4.2718e-07,  1.4842e-05,  3.9565e-07]],\n",
      "       device='cuda:0')\n"
     ]
    }
   ],
   "source": [
    "#import custom classes\n",
    "from Source.ddpg_rcv_agent import Agent\n",
    "from Source.nn_model_2 import Actor, Critic\n",
    "from Source.ddpg_rcv_agent import Agent, ReplayBuffer, OUNoise\n",
    "from collections import deque\n",
    "\n",
    "#reset the environment\n",
    "obs = env.reset()\n",
    "\n",
    "state_size = obs.shape[1]\n",
    "action_size = env.action_space.shape[0]\n",
    "print(action_size)\n",
    "print(state_size)\n",
    "#instantiate the agent\n",
    "agent = Agent(state_size=state_size, action_size=action_size, seed=0)\n",
    "\n",
    "print(type(obs))\n",
    "obs_tensor = torch.from_numpy(obs).float().to(device)\n",
    "print(obs_tensor)"
   ]
  },
  {
   "cell_type": "code",
   "execution_count": 8,
   "metadata": {
    "pycharm": {}
   },
   "outputs": [],
   "source": [
    "agent.reset()"
   ]
  },
  {
   "cell_type": "code",
   "execution_count": 9,
   "metadata": {
    "pycharm": {}
   },
   "outputs": [
    {
     "name": "stdout",
     "output_type": "stream",
     "text": [
      "[2.8318057]\n",
      "[[0.44657907]]\n"
     ]
    }
   ],
   "source": [
    "obs = env.reset()\n",
    "\n",
    "print(env.action_space.sample())\n",
    "action = agent.act(obs)\n",
    "print(action)"
   ]
  },
  {
   "cell_type": "code",
   "execution_count": null,
   "metadata": {
    "pycharm": {}
   },
   "outputs": [],
   "source": []
  },
  {
   "cell_type": "markdown",
   "metadata": {
    "pycharm": {}
   },
   "source": [
    "## DDPG Training"
   ]
  },
  {
   "cell_type": "code",
   "execution_count": 10,
   "metadata": {
    "pycharm": {},
    "scrolled": false
   },
   "outputs": [
    {
     "name": "stdout",
     "output_type": "stream",
     "text": [
      "Episode 100\tAverage Score: 0.58\n",
      "Episode old_actions: [array([[0.9236951]], dtype=float32), array([[0.9691873]], dtype=float32), array([[1.0316219]], dtype=float32), array([[1.0141673]], dtype=float32), array([[1.0248249]], dtype=float32), array([[1.0976518]], dtype=float32), array([[1.0723082]], dtype=float32), array([[1.1298378]], dtype=float32)]\n",
      "Episode actions: [array([[0.96184754]], dtype=float32), array([[0.98459363]], dtype=float32), array([[1.]], dtype=float32), array([[1.]], dtype=float32), array([[1.]], dtype=float32), array([[1.]], dtype=float32), array([[1.]], dtype=float32), array([[1.]], dtype=float32)]\n",
      "Episode 200\tAverage Score: 1.22\n",
      "Episode old_actions: [array([[-0.9185127]], dtype=float32), array([[-0.8569916]], dtype=float32), array([[-0.80104464]], dtype=float32), array([[-0.7556934]], dtype=float32), array([[-0.69227386]], dtype=float32), array([[-0.68682057]], dtype=float32), array([[-0.71471465]], dtype=float32), array([[-0.6554318]], dtype=float32)]\n",
      "Episode actions: [array([[0.04074365]], dtype=float32), array([[0.07150421]], dtype=float32), array([[0.09947768]], dtype=float32), array([[0.12215331]], dtype=float32), array([[0.15386307]], dtype=float32), array([[0.15658972]], dtype=float32), array([[0.14264268]], dtype=float32), array([[0.1722841]], dtype=float32)]\n",
      "Episode 300\tAverage Score: 1.14\n",
      "Episode old_actions: [array([[-0.9936507]], dtype=float32), array([[-0.964706]], dtype=float32), array([[-0.9035319]], dtype=float32), array([[-0.8527221]], dtype=float32), array([[-0.78974295]], dtype=float32), array([[-0.7397497]], dtype=float32), array([[-0.69929934]], dtype=float32), array([[-0.6472655]], dtype=float32)]\n",
      "Episode actions: [array([[0.00317466]], dtype=float32), array([[0.017647]], dtype=float32), array([[0.04823405]], dtype=float32), array([[0.07363895]], dtype=float32), array([[0.10512853]], dtype=float32), array([[0.13012514]], dtype=float32), array([[0.15035033]], dtype=float32), array([[0.17636725]], dtype=float32)]\n",
      "Episode 400\tAverage Score: 1.16\n",
      "Episode old_actions: [array([[-0.93430686]], dtype=float32), array([[-0.89224195]], dtype=float32), array([[-0.8268588]], dtype=float32), array([[-0.8267513]], dtype=float32), array([[-0.7850009]], dtype=float32), array([[-0.7723525]], dtype=float32), array([[-0.7665802]], dtype=float32), array([[-0.7489776]], dtype=float32)]\n",
      "Episode actions: [array([[0.03284657]], dtype=float32), array([[0.05387902]], dtype=float32), array([[0.08657059]], dtype=float32), array([[0.08662435]], dtype=float32), array([[0.10749954]], dtype=float32), array([[0.11382374]], dtype=float32), array([[0.11670989]], dtype=float32), array([[0.1255112]], dtype=float32)]\n",
      "Episode 500\tAverage Score: 1.22\n",
      "Episode old_actions: [array([[-0.95166916]], dtype=float32), array([[-0.9271858]], dtype=float32), array([[-0.85416496]], dtype=float32), array([[-0.8583774]], dtype=float32), array([[-0.8736156]], dtype=float32), array([[-0.841253]], dtype=float32), array([[-0.8546212]], dtype=float32), array([[-0.8322073]], dtype=float32)]\n",
      "Episode actions: [array([[0.02416542]], dtype=float32), array([[0.03640711]], dtype=float32), array([[0.07291752]], dtype=float32), array([[0.0708113]], dtype=float32), array([[0.06319219]], dtype=float32), array([[0.07937351]], dtype=float32), array([[0.07268941]], dtype=float32), array([[0.08389634]], dtype=float32)]\n",
      "Episode 600\tAverage Score: 1.22\n",
      "Episode old_actions: [array([[-0.9787641]], dtype=float32), array([[-0.89039457]], dtype=float32), array([[-0.900501]], dtype=float32), array([[-0.9088096]], dtype=float32), array([[-0.9166565]], dtype=float32), array([[-0.88829505]], dtype=float32), array([[-0.8771002]], dtype=float32), array([[-0.81735575]], dtype=float32)]\n",
      "Episode actions: [array([[0.01061794]], dtype=float32), array([[0.05480272]], dtype=float32), array([[0.04974949]], dtype=float32), array([[0.0455952]], dtype=float32), array([[0.04167175]], dtype=float32), array([[0.05585247]], dtype=float32), array([[0.06144989]], dtype=float32), array([[0.09132212]], dtype=float32)]\n",
      "Episode 700\tAverage Score: 1.22\n",
      "Episode old_actions: [array([[-0.9489373]], dtype=float32), array([[-0.92108846]], dtype=float32), array([[-0.8859425]], dtype=float32), array([[-0.9010814]], dtype=float32), array([[-0.8363038]], dtype=float32), array([[-0.7864237]], dtype=float32), array([[-0.76859313]], dtype=float32), array([[-0.72973037]], dtype=float32)]\n",
      "Episode actions: [array([[0.02553135]], dtype=float32), array([[0.03945577]], dtype=float32), array([[0.05702874]], dtype=float32), array([[0.04945931]], dtype=float32), array([[0.08184811]], dtype=float32), array([[0.10678816]], dtype=float32), array([[0.11570343]], dtype=float32), array([[0.13513482]], dtype=float32)]\n",
      "Episode 800\tAverage Score: 1.16\n",
      "Episode old_actions: [array([[-0.90315783]], dtype=float32), array([[-0.87321365]], dtype=float32), array([[-0.845999]], dtype=float32), array([[-0.78458726]], dtype=float32), array([[-0.808871]], dtype=float32), array([[-0.7906063]], dtype=float32), array([[-0.8200664]], dtype=float32), array([[-0.7964058]], dtype=float32)]\n",
      "Episode actions: [array([[0.04842108]], dtype=float32), array([[0.06339318]], dtype=float32), array([[0.0770005]], dtype=float32), array([[0.10770637]], dtype=float32), array([[0.09556451]], dtype=float32), array([[0.10469684]], dtype=float32), array([[0.0899668]], dtype=float32), array([[0.1017971]], dtype=float32)]\n"
     ]
    },
    {
     "data": {
      "image/png": "[encoded data removed]",
      "text/plain": [
       "<Figure size 432x288 with 2 Axes>"
      ]
     },
     "metadata": {
      "needs_background": "light"
     },
     "output_type": "display_data"
    }
   ],
   "source": [
    "train_episodes = 800\n",
    "print_every= 100\n",
    "\n",
    "scores_deque = deque(maxlen=print_every)\n",
    "scores = []\n",
    "ep_qvals =[]\n",
    "timestep = 0\n",
    "for i_episode in range(1,train_episodes+1):\n",
    "    \n",
    "    # reset the environment\n",
    "    obs = env.reset()\n",
    "    agent.reset()\n",
    "    ep_rwds = []\n",
    "    ep_actions =[]\n",
    "    ep_old_actions =[]\n",
    "    score = 0\n",
    "    ep_qval = 0\n",
    "    while True:\n",
    "        action = agent.act(obs)\n",
    "        next_obs, reward, done, _ = env.step(action)\n",
    "        agent.step(obs, action, reward, next_obs, done)\n",
    "        obs = next_obs\n",
    "        score+= reward\n",
    "        timestep+=1\n",
    "        \n",
    "        agent.critic_local.eval()\n",
    "        obs_tensor = torch.from_numpy(obs).float().to(device)\n",
    "        action_tensor = torch.from_numpy(action).float().to(device)\n",
    "        #print(agent.critic_local(obs_tensor, action_tensor).cpu().data.item())\n",
    "        ep_qval += agent.critic_local(obs_tensor, action_tensor).cpu().data.item()\n",
    "        agent.critic_local.train()\n",
    "        \n",
    "        ep_rwds.append(reward)\n",
    "        ep_actions.append(action)\n",
    "        ep_old_actions.append(agent.old_action)\n",
    "        if done:\n",
    "            break\n",
    "            \n",
    "    scores_deque.append(score)\n",
    "    scores.append(score)\n",
    "    ep_qvals.append(ep_qval)\n",
    "    #print('\\rEpisode {}\\t, TX loc: {}\\t, Score: {:.2f}\\n'.format(i_episode, env.tx_loc, score), end=\"\")\n",
    "    \n",
    "    #print(ep_rwds)\n",
    "    if i_episode % print_every == 0:\n",
    "        print('\\rEpisode {}\\tAverage Score: {:.2f}'.format(i_episode, np.mean(scores_deque)))\n",
    "        print(\"Episode old_actions: {}\".format(ep_old_actions))\n",
    "        print(\"Episode actions: {}\".format(ep_actions))\n",
    "        \n",
    "#torch.save(agent.actor_local.state_dict(), 'checkpoint_actor.pth')\n",
    "#torch.save(agent.critic_local.state_dict(), 'checkpoint_critic.pth')    \n",
    "agent.save_checkpoint(timestep)\n",
    "\n",
    "fig = plt.figure()\n",
    "ax = fig.add_subplot(121)\n",
    "plt.plot(np.arange(1, len(scores)+1), scores)\n",
    "plt.ylabel('Score')\n",
    "plt.xlabel('Episode #')\n",
    "\n",
    "ax2 = fig.add_subplot(122)\n",
    "plt.plot(scores, ep_qvals)\n",
    "plt.ylabel('Episode Qvals')\n",
    "plt.xlabel('Episode Rewards')\n",
    "plt.show() "
   ]
  },
  {
   "cell_type": "code",
   "execution_count": 11,
   "metadata": {},
   "outputs": [
    {
     "name": "stdout",
     "output_type": "stream",
     "text": [
      "0.21753141097724438\n",
      "24.30461835861206\n"
     ]
    }
   ],
   "source": [
    "print(ep_qvals[0])\n",
    "print(ep_qval)"
   ]
  },
  {
   "cell_type": "markdown",
   "metadata": {
    "pycharm": {}
   },
   "source": [
    "## Testing the DDPG agent"
   ]
  },
  {
   "cell_type": "code",
   "execution_count": 22,
   "metadata": {
    "pycharm": {}
   },
   "outputs": [
    {
     "name": "stdout",
     "output_type": "stream",
     "text": [
      "env rssi value:(-5.408187270380822e-07-1.4450223372694968e-06j)\n",
      "env rssi value:(-5.408187270380822e-07-1.4450223372694968e-06j)\n",
      "env rssi value:(-5.408187270380822e-07-1.4450223372694968e-06j)\n",
      "env rssi value:(-5.408187270380822e-07-1.4450223372694968e-06j)\n",
      "env rssi value:(-5.408187270380822e-07-1.4450223372694968e-06j)\n",
      "env rssi value:(-5.408187270380822e-07-1.4450223372694968e-06j)\n",
      "env rssi value:(-5.408187270380822e-07-1.4450223372694968e-06j)\n",
      "env rssi value:(-5.408187270380822e-07-1.4450223372694968e-06j)\n",
      "TX loc: [[350 400   0]], episode score: 0.3\n",
      "\n",
      "TX_beam dir: [ 0.35355339+0.j         -0.16886826-0.31061795j -0.19223977+0.29672187j\n",
      "  0.35250782+0.02717049j -0.14449795-0.32267684j -0.21447426+0.2810708j\n",
      "  0.3493773 +0.05418027j -0.11927299-0.33282721j]\n",
      "eps rwds: [0.3, 0.0, 0.0, 0.0, 0.0, 0.0, 0.0, 0.0]\n",
      "\n",
      "Episode old actions: [array([[-0.99999994]], dtype=float32), array([[-0.99999994]], dtype=float32), array([[-0.99999994]], dtype=float32), array([[-0.99999994]], dtype=float32), array([[-0.99999994]], dtype=float32), array([[-0.99999994]], dtype=float32), array([[-0.99999994]], dtype=float32), array([[-0.99999994]], dtype=float32)]\n",
      "Applied RX directions: [array([1.8725352e-07], dtype=float32), array([1.8725352e-07], dtype=float32), array([1.8725352e-07], dtype=float32), array([1.8725352e-07], dtype=float32), array([1.8725352e-07], dtype=float32), array([1.8725352e-07], dtype=float32), array([1.8725352e-07], dtype=float32), array([1.8725352e-07], dtype=float32)]\n",
      "3.993558980763065\n",
      "1.8725352e-07\n"
     ]
    },
    {
     "data": {
      "image/png": "[encoded data removed]",
      "text/plain": [
       "<Figure size 432x288 with 2 Axes>"
      ]
     },
     "metadata": {
      "needs_background": "light"
     },
     "output_type": "display_data"
    }
   ],
   "source": [
    "#instantiate the agent\n",
    "agent = Agent(state_size=state_size, action_size=action_size, seed=0)\n",
    "#agent.actor_local.load_state_dict(torch.load('checkpoint_actor.pth'))\n",
    "#agent.critic_local.load_state_dict(torch.load('checkpoint_critic.pth'))\n",
    "\n",
    "agent.load_checkpoint(timestep)\n",
    "\n",
    "score = 0.0\n",
    "eps_rwd =[]\n",
    "obs = env.reset()\n",
    "#agent.reset()\n",
    "agent.actor_local.eval()\n",
    "agent.critic_local.eval()\n",
    "agent.actor_target.eval()\n",
    "agent.critic_target.eval()\n",
    "ep_actions =[]\n",
    "ep_old_actions =[]\n",
    "while True:\n",
    "    #obs_tensor = torch.from_numpy(obs).float().to(device)\n",
    "    \n",
    "    #with torch.no_grad():\n",
    "    #    action =agent.actor_local(obs_tensor).cpu().data.numpy()\n",
    "        #print(\"old_action: {}\", action)\n",
    "    #    best_action = agent.critic_local(obs_tensor)\n",
    "\n",
    "    action =  agent.act(obs,add_noise=False)#.cpu().data.numpy()\n",
    "    #action == np.clip(action, 0, 2*np.pi)\n",
    "    \n",
    "    #action_tensor = agent.actor_local(obs_tensor).to(device)\n",
    "    #print(obs, action)\n",
    "    #q_val = agent.critic_local(obs_tensor, action_tensor).cpu().data.numpy()\n",
    "    obs, rwd, done, _ = env.step(action)\n",
    "    print(\"env rssi value:{}\".format(env.rssi_val))\n",
    "    ep_actions.append(env.action)\n",
    "    ep_old_actions.append(agent.old_action)\n",
    "    score +=rwd\n",
    "    eps_rwd.append(rwd)\n",
    "    if done:\n",
    "        break\n",
    "print(\"TX loc: {0}, episode score: {1}\\n\".format(env.tx_loc, score))\n",
    "print(\"TX_beam dir: {}\".format(env.tx_beam))\n",
    "print(\"eps rwds: {}\\n\".format(eps_rwd))\n",
    "print(\"Episode old actions: {}\".format(ep_old_actions))\n",
    "print(\"Applied RX directions: {}\".format(ep_actions))\n",
    "\n",
    "from Source.misc_fun.utils import plotbeam\n",
    "print(env.channel.az_aod[0])\n",
    "print(ep_actions[-1][0])\n",
    "tx_theta, tx_gr = plotbeam(env.channel.az_aod[0], env.N_tx)\n",
    "rx_theta, rx_gr = plotbeam(ep_actions[-1][0], env.N_rx)\n",
    "ax1 = plt.subplot(121, projection='polar')\n",
    "ax1.plot(tx_theta, tx_gr)\n",
    "\n",
    "ax2 = plt.subplot(122, projection='polar')\n",
    "ax2.plot(rx_theta, rx_gr)\n",
    "\n",
    "plt.show()\n"
   ]
  },
  {
   "cell_type": "code",
   "execution_count": null,
   "metadata": {
    "pycharm": {}
   },
   "outputs": [],
   "source": []
  }
 ],
 "metadata": {
  "kernelspec": {
   "display_name": "Python 3",
   "language": "python",
   "name": "python3"
  },
  "language_info": {
   "codemirror_mode": {
    "name": "ipython",
    "version": 3
   },
   "file_extension": ".py",
   "mimetype": "text/x-python",
   "name": "python",
   "nbconvert_exporter": "python",
   "pygments_lexer": "ipython3",
   "version": "3.7.1"
  }
 },
 "nbformat": 4,
 "nbformat_minor": 1
}

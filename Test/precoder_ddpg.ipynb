{
 "cells": [
  {
   "cell_type": "code",
   "execution_count": 2,
   "metadata": {
    "pycharm": {
     "is_executing": false
    }
   },
   "outputs": [
    {
     "name": "stdout",
     "output_type": "stream",
     "text": [
      "The autoreload extension is already loaded. To reload it, use:\n",
      "  %reload_ext autoreload\n"
     ]
    }
   ],
   "source": [
    "%load_ext autoreload\n",
    "%autoreload 2"
   ]
  },
  {
   "cell_type": "code",
   "execution_count": 3,
   "metadata": {
    "pycharm": {}
   },
   "outputs": [],
   "source": [
    "import gym\n",
    "import gym_combrf\n",
    "\n",
    "import numpy as np\n",
    "import random\n",
    "import math\n",
    "import matplotlib.pyplot as plt\n",
    "import tqdm\n",
    "import os\n",
    "\n",
    "import torch\n",
    "import torch.optim as optim\n",
    "import torch.nn.functional as F\n",
    "\n",
    "\n"
   ]
  },
  {
   "cell_type": "code",
   "execution_count": 4,
   "metadata": {
    "pycharm": {}
   },
   "outputs": [],
   "source": [
    "#initialize gym environment\n",
    "env = gym.make('combrf-v0')"
   ]
  },
  {
   "cell_type": "code",
   "execution_count": 5,
   "metadata": {
    "pycharm": {}
   },
   "outputs": [],
   "source": [
    "#hyper-parameters\n",
    "UPDATE_EVERY = 50 #how often to update the network\n",
    "EPS_START = 1\n",
    "EPS_END = 0.01\n",
    "EPS_DECAY = 0.9983\n",
    "EPS_STEP_LIMIT = 50\n",
    "\n",
    "TRAIN_EPISODES = 20\n",
    "TEST_EPISODES = 1\n",
    "seed = 0\n",
    "\n",
    "#initialize GPU device\n",
    "device = torch.device(\"cuda:0\" if torch.cuda.is_available() else \"cpu\")\n"
   ]
  },
  {
   "cell_type": "markdown",
   "metadata": {
    "pycharm": {}
   },
   "source": [
    "## Examine state and action spaces"
   ]
  },
  {
   "cell_type": "code",
   "execution_count": 6,
   "metadata": {
    "pycharm": {}
   },
   "outputs": [
    {
     "name": "stdout",
     "output_type": "stream",
     "text": [
      "Size of each action:  (1,)\n",
      "Size of each observation:  (130,)\n",
      "Observation looks like:\n",
      "[-2.41468176e-07 -5.69246307e-08  3.10426658e-07 -3.19126140e-07\n",
      "  7.61626635e-08  2.26862710e-07 -3.50984090e-07  1.98319323e-07\n",
      " -5.69246307e-08  3.10426658e-07 -3.19126140e-07  7.61626635e-08\n",
      "  2.26862710e-07 -3.50984090e-07  1.98319323e-07  1.10740114e-07\n",
      "  3.10426658e-07 -3.19126140e-07  7.61626635e-08  2.26862710e-07\n",
      " -3.50984090e-07  1.98319323e-07  1.10740114e-07 -3.32469869e-07\n",
      " -3.19126140e-07  7.61626635e-08  2.26862710e-07 -3.50984090e-07\n",
      "  1.98319323e-07  1.10740114e-07 -3.32469869e-07  2.92013796e-07\n",
      "  7.61626635e-08  2.26862710e-07 -3.50984090e-07  1.98319323e-07\n",
      "  1.10740114e-07 -3.32469869e-07  2.92013796e-07 -2.12755663e-08\n",
      "  2.26862710e-07 -3.50984090e-07  1.98319323e-07  1.10740114e-07\n",
      " -3.32469869e-07  2.92013796e-07 -2.12755663e-08 -2.66240581e-07\n",
      " -3.50984090e-07  1.98319323e-07  1.10740114e-07 -3.32469869e-07\n",
      "  2.92013796e-07 -2.12755663e-08 -2.66240581e-07  3.43799335e-07\n",
      "  1.98319323e-07  1.10740114e-07 -3.32469869e-07  2.92013796e-07\n",
      " -2.12755663e-08 -2.66240581e-07  3.43799335e-07 -1.50237842e-07\n",
      " -2.55352028e-07  3.46801275e-07 -1.64762945e-07 -1.47207488e-07\n",
      "  3.43090056e-07 -2.68411715e-07 -1.79361760e-08  2.90139594e-07\n",
      "  3.46801275e-07 -1.64762945e-07 -1.47207488e-07  3.43090056e-07\n",
      " -2.68411715e-07 -1.79361760e-08  2.90139594e-07 -3.33538851e-07\n",
      " -1.64762945e-07 -1.47207488e-07  3.43090056e-07 -2.68411715e-07\n",
      " -1.79361760e-08  2.90139594e-07 -3.33538851e-07  1.13909281e-07\n",
      " -1.47207488e-07  3.43090056e-07 -2.68411715e-07 -1.79361760e-08\n",
      "  2.90139594e-07 -3.33538851e-07  1.13909281e-07  1.95549178e-07\n",
      "  3.43090056e-07 -2.68411715e-07 -1.79361760e-08  2.90139594e-07\n",
      " -3.33538851e-07  1.13909281e-07  1.95549178e-07 -3.50797503e-07\n",
      " -2.68411715e-07 -1.79361760e-08  2.90139594e-07 -3.33538851e-07\n",
      "  1.13909281e-07  1.95549178e-07 -3.50797503e-07  2.29406825e-07\n",
      " -1.79361760e-08  2.90139594e-07 -3.33538851e-07  1.13909281e-07\n",
      "  1.95549178e-07 -3.50797503e-07  2.29406825e-07  7.28941370e-08\n",
      "  2.90139594e-07 -3.33538851e-07  1.13909281e-07  1.95549178e-07\n",
      " -3.50797503e-07  2.29406825e-07  7.28941370e-08 -3.17710763e-07\n",
      " -1.33170301e-06 -3.05348164e-06]\n"
     ]
    }
   ],
   "source": [
    "#reset the environment\n",
    "obs = env.reset()\n",
    "\n",
    "#size of each action\n",
    "action_size = env.action_space.shape\n",
    "print(\"Size of each action: \", action_size)\n",
    "\n",
    "#size of observation\n",
    "print(\"Size of each observation: \", obs.shape)\n",
    "print(\"Observation looks like:\")\n",
    "print(obs)"
   ]
  },
  {
   "cell_type": "markdown",
   "metadata": {
    "pycharm": {}
   },
   "source": [
    "## Perform random actions in the environment"
   ]
  },
  {
   "cell_type": "code",
   "execution_count": 7,
   "metadata": {
    "pycharm": {}
   },
   "outputs": [
    {
     "name": "stdout",
     "output_type": "stream",
     "text": [
      "Random TX location: [[300 250   0]]\n",
      "Capacity: 4.5921960668329417e-08\n",
      "Episodic score: 1.5 with episode length: 8 \n",
      "[0.3, 0.3, 0.0, 0.3, 0.0, 0.3, 0.0, 0.3]\n",
      "[array([4.88]), array([5.11]), array([6.05]), array([5.62]), array([5.95]), array([0.54]), array([2.93]), array([0.25])]\n"
     ]
    }
   ],
   "source": [
    "obs = env.reset()\n",
    "count = 0\n",
    "ep_rwd=0\n",
    "rewards =[]\n",
    "actions =[]\n",
    "while True:\n",
    "    action = np.array([round(np.random.uniform(0,2*math.pi), 2)])\n",
    "    obs, rwd, done, _ = env.step(action)\n",
    "    ep_rwd += rwd\n",
    "    rewards.append(rwd)\n",
    "    actions.append(action)\n",
    "    count +=1\n",
    "    if done:\n",
    "        break\n",
    "print(\"Random TX location: {0}\".format(env.tx_loc))\n",
    "print(\"Capacity: {0}\".format(env.cap))\n",
    "print(\"Episodic score: {0} with episode length: {1} \".format(ep_rwd, count))\n",
    "print(rewards)\n",
    "print(actions)"
   ]
  },
  {
   "cell_type": "markdown",
   "metadata": {
    "pycharm": {}
   },
   "source": [
    "## Instantiate DDPG agent"
   ]
  },
  {
   "cell_type": "code",
   "execution_count": 8,
   "metadata": {
    "pycharm": {}
   },
   "outputs": [
    {
     "name": "stdout",
     "output_type": "stream",
     "text": [
      "1\n",
      "<class 'numpy.ndarray'>\n",
      "tensor([-2.1451e-07,  1.6627e-07,  2.6941e-07, -7.7324e-08, -2.9494e-07,\n",
      "        -2.0049e-08,  2.8832e-07,  1.1524e-07,  1.6627e-07,  2.6941e-07,\n",
      "        -7.7324e-08, -2.9494e-07, -2.0049e-08,  2.8832e-07,  1.1524e-07,\n",
      "        -2.5027e-07,  2.6941e-07, -7.7324e-08, -2.9494e-07, -2.0049e-08,\n",
      "         2.8832e-07,  1.1524e-07, -2.5027e-07, -1.9786e-07, -7.7324e-08,\n",
      "        -2.9494e-07, -2.0049e-08,  2.8832e-07,  1.1524e-07, -2.5027e-07,\n",
      "        -1.9786e-07,  1.8495e-07, -2.9494e-07, -2.0049e-08,  2.8832e-07,\n",
      "         1.1524e-07, -2.5027e-07, -1.9786e-07,  1.8495e-07,  2.5892e-07,\n",
      "        -2.0049e-08,  2.8832e-07,  1.1524e-07, -2.5027e-07, -1.9786e-07,\n",
      "         1.8495e-07,  2.5892e-07, -9.9464e-08,  2.8832e-07,  1.1524e-07,\n",
      "        -2.5027e-07, -1.9786e-07,  1.8495e-07,  2.5892e-07, -9.9464e-08,\n",
      "        -2.9176e-07,  1.1524e-07, -2.5027e-07, -1.9786e-07,  1.8495e-07,\n",
      "         2.5892e-07, -9.9464e-08, -2.9176e-07,  3.1397e-09, -2.0448e-07,\n",
      "        -2.4533e-07,  1.2349e-07,  2.8610e-07, -2.9036e-08, -2.9568e-07,\n",
      "        -6.8583e-08,  2.7304e-07, -2.4533e-07,  1.2349e-07,  2.8610e-07,\n",
      "        -2.9036e-08, -2.9568e-07, -6.8583e-08,  2.7304e-07,  1.5873e-07,\n",
      "         1.2349e-07,  2.8610e-07, -2.9036e-08, -2.9568e-07, -6.8583e-08,\n",
      "         2.7304e-07,  1.5873e-07, -2.2064e-07,  2.8610e-07, -2.9036e-08,\n",
      "        -2.9568e-07, -6.8583e-08,  2.7304e-07,  1.5873e-07, -2.2064e-07,\n",
      "        -2.3157e-07, -2.9036e-08, -2.9568e-07, -6.8583e-08,  2.7304e-07,\n",
      "         1.5873e-07, -2.2064e-07, -2.3157e-07,  1.4418e-07, -2.9568e-07,\n",
      "        -6.8583e-08,  2.7304e-07,  1.5873e-07, -2.2064e-07, -2.3157e-07,\n",
      "         1.4418e-07,  2.7917e-07, -6.8583e-08,  2.7304e-07,  1.5873e-07,\n",
      "        -2.2064e-07, -2.3157e-07,  1.4418e-07,  2.7917e-07, -5.2016e-08,\n",
      "         2.7304e-07,  1.5873e-07, -2.2064e-07, -2.3157e-07,  1.4418e-07,\n",
      "         2.7917e-07, -5.2016e-08, -2.9635e-07, -5.5001e-07,  1.4329e-06],\n",
      "       device='cuda:0')\n"
     ]
    }
   ],
   "source": [
    "#import custom classes\n",
    "from Source.ddpg_rcv_agent import Agent\n",
    "from Source.nn_model import Actor, Critic\n",
    "from Source.ddpg_rcv_agent import Agent, ReplayBuffer, OUNoise\n",
    "from collections import deque\n",
    "\n",
    "#reset the environment\n",
    "obs = env.reset()\n",
    "\n",
    "state_size = obs.shape[0]\n",
    "action_size = env.action_space.shape[0]\n",
    "print(action_size)\n",
    "#instantiate the agent\n",
    "agent = Agent(state_size=state_size, action_size=action_size, seed=0)\n",
    "\n",
    "print(type(obs))\n",
    "obs_tensor = torch.from_numpy(obs).float().to(device)\n",
    "print(obs_tensor)"
   ]
  },
  {
   "cell_type": "code",
   "execution_count": 9,
   "metadata": {
    "pycharm": {}
   },
   "outputs": [],
   "source": [
    "agent.reset()"
   ]
  },
  {
   "cell_type": "code",
   "execution_count": 10,
   "metadata": {
    "pycharm": {}
   },
   "outputs": [
    {
     "name": "stdout",
     "output_type": "stream",
     "text": [
      "[5.42061]\n",
      "[3.311892]\n"
     ]
    }
   ],
   "source": [
    "obs = env.reset()\n",
    "\n",
    "print(env.action_space.sample())\n",
    "action = agent.act(obs)\n",
    "print(action)"
   ]
  },
  {
   "cell_type": "code",
   "execution_count": null,
   "metadata": {
    "pycharm": {}
   },
   "outputs": [],
   "source": []
  },
  {
   "cell_type": "markdown",
   "metadata": {
    "pycharm": {}
   },
   "source": [
    "## DDPG Training"
   ]
  },
  {
   "cell_type": "code",
   "execution_count": 11,
   "metadata": {
    "pycharm": {},
    "scrolled": false
   },
   "outputs": [
    {
     "name": "stdout",
     "output_type": "stream",
     "text": [
      "Episode 100\tAverage Score: 0.26\n",
      "Episode actions: [array([6.2831855], dtype=float32)]\n",
      "Episode 200\tAverage Score: 0.95\n",
      "Episode actions: [array([0.15409604], dtype=float32), array([0.7302734], dtype=float32), array([2.1670904], dtype=float32), array([2.9402528], dtype=float32), array([3.067545], dtype=float32), array([2.8895082], dtype=float32), array([2.7569952], dtype=float32), array([4.1569533], dtype=float32)]\n",
      "Episode 300\tAverage Score: 1.23\n",
      "Episode actions: [array([0.73613846], dtype=float32), array([1.3423971], dtype=float32), array([1.686867], dtype=float32), array([2.7394114], dtype=float32), array([3.882214], dtype=float32), array([5.1414948], dtype=float32), array([5.635975], dtype=float32), array([4.7929993], dtype=float32)]\n",
      "Episode 400\tAverage Score: 1.19\n",
      "Episode actions: [array([0.68042505], dtype=float32), array([0.83355755], dtype=float32), array([1.4234468], dtype=float32), array([2.1318874], dtype=float32), array([3.1146255], dtype=float32), array([4.2299585], dtype=float32), array([4.124599], dtype=float32), array([5.1766725], dtype=float32)]\n",
      "Episode 500\tAverage Score: 1.21\n",
      "Episode actions: [array([0.60740054], dtype=float32), array([1.698973], dtype=float32), array([2.1622856], dtype=float32), array([2.0871663], dtype=float32), array([2.588635], dtype=float32), array([2.8066366], dtype=float32), array([3.709639], dtype=float32), array([4.9557757], dtype=float32)]\n",
      "Episode 600\tAverage Score: 1.21\n",
      "Episode actions: [array([1.8332852], dtype=float32), array([2.5480824], dtype=float32), array([3.3688493], dtype=float32), array([3.13721], dtype=float32), array([3.140847], dtype=float32), array([4.5226154], dtype=float32), array([5.3878946], dtype=float32), array([5.2633605], dtype=float32)]\n",
      "Episode 700\tAverage Score: 1.22\n",
      "Episode actions: [array([0.17553775], dtype=float32), array([1.6697651], dtype=float32), array([3.1002092], dtype=float32), array([3.0518284], dtype=float32), array([3.8602908], dtype=float32), array([4.8200316], dtype=float32), array([5.809474], dtype=float32), array([6.2831855], dtype=float32)]\n",
      "Episode 800\tAverage Score: 1.22\n",
      "Episode actions: [array([1.0760144], dtype=float32), array([1.1814371], dtype=float32), array([2.7941315], dtype=float32), array([3.2599957], dtype=float32), array([4.218309], dtype=float32), array([4.9559436], dtype=float32), array([5.5261936], dtype=float32), array([6.2831855], dtype=float32)]\n"
     ]
    },
    {
     "data": {
      "image/png": "[encoded data removed]",
      "text/plain": [
       "<Figure size 432x288 with 1 Axes>"
      ]
     },
     "metadata": {
      "needs_background": "light"
     },
     "output_type": "display_data"
    }
   ],
   "source": [
    "train_episodes = 800\n",
    "print_every= 100\n",
    "\n",
    "scores_deque = deque(maxlen=print_every)\n",
    "scores = []\n",
    "\n",
    "for i_episode in range(1,train_episodes+1):\n",
    "    \n",
    "    # reset the environment\n",
    "    obs = env.reset()\n",
    "    agent.reset()\n",
    "    ep_rwds = []\n",
    "    ep_actions =[]\n",
    "    score = 0\n",
    "    while True:\n",
    "        action = agent.act(obs)\n",
    "        next_obs, reward, done, _ = env.step(action)\n",
    "        agent.step(obs, action, reward, next_obs, done)\n",
    "        obs = next_obs\n",
    "        score+= reward\n",
    "        ep_rwds.append(reward)\n",
    "        ep_actions.append(action)\n",
    "        if done:\n",
    "            break\n",
    "            \n",
    "    scores_deque.append(score)\n",
    "    scores.append(score)\n",
    "    #print('\\rEpisode {}\\t, TX loc: {}\\t, Score: {:.2f}\\n'.format(i_episode, env.tx_loc, score), end=\"\")\n",
    "    \n",
    "    #print(ep_rwds)\n",
    "    if i_episode % print_every == 0:\n",
    "        print('\\rEpisode {}\\tAverage Score: {:.2f}'.format(i_episode, np.mean(scores_deque)))\n",
    "        print(\"Episode actions: {}\".format(ep_actions))\n",
    "torch.save(agent.actor_local.state_dict(), 'checkpoint_actor.pth')\n",
    "torch.save(agent.critic_local.state_dict(), 'checkpoint_critic.pth')    \n",
    "fig = plt.figure()\n",
    "ax = fig.add_subplot(111)\n",
    "plt.plot(np.arange(1, len(scores)+1), scores)\n",
    "plt.ylabel('Score')\n",
    "plt.xlabel('Episode #')\n",
    "plt.show() "
   ]
  },
  {
   "cell_type": "markdown",
   "metadata": {
    "pycharm": {}
   },
   "source": [
    "## Testing the DDPG agent"
   ]
  },
  {
   "cell_type": "code",
   "execution_count": 28,
   "metadata": {
    "pycharm": {}
   },
   "outputs": [
    {
     "name": "stdout",
     "output_type": "stream",
     "text": [
      "env rssi value:(1.750187284918997e-06-7.430253840053699e-07j)\n",
      "TX loc: [[200   0   0]], episode score: 0.3\n",
      "\n",
      "TX_beam dir: [ 0.35355339+0.00000000e+00j -0.35355339-4.32978028e-17j\n",
      "  0.35355339+8.65956056e-17j -0.35355339-1.29893408e-16j\n",
      "  0.35355339+1.73191211e-16j -0.35355339-2.16489014e-16j\n",
      "  0.35355339+2.59786817e-16j -0.35355339-3.03084620e-16j]\n",
      "eps rwds: [0.3]\n",
      "\n",
      "Applied RX directions: [array([6.842237e-07], dtype=float32)]\n",
      "9.42477796076938\n",
      "6.842237e-07\n"
     ]
    },
    {
     "data": {
      "image/png": "[encoded data removed]",
      "text/plain": [
       "<Figure size 432x288 with 2 Axes>"
      ]
     },
     "metadata": {
      "needs_background": "light"
     },
     "output_type": "display_data"
    }
   ],
   "source": [
    "agent.actor_local.load_state_dict(torch.load('checkpoint_actor.pth'))\n",
    "agent.critic_local.load_state_dict(torch.load('checkpoint_critic.pth'))\n",
    "\n",
    "score = 0.0\n",
    "eps_rwd =[]\n",
    "obs = env.reset()\n",
    "agent.reset()\n",
    "agent.actor_local.eval()\n",
    "agent.critic_local.eval()\n",
    "ep_actions =[]\n",
    "while True:\n",
    "    #obs_tensor = torch.from_numpy(obs).float().to(device)\n",
    "    \n",
    "    #with torch.no_grad():\n",
    "    #    action =agent.actor_local(obs_tensor).cpu().data.numpy()\n",
    "        #print(\"old_action: {}\", action)\n",
    "    #    best_action = agent.critic_local(obs_tensor)\n",
    "\n",
    "    action =  agent.act(obs,add_noise=False)#.cpu().data.numpy()\n",
    "    #action == np.clip(action, 0, 2*np.pi)\n",
    "    \n",
    "    #action_tensor = agent.actor_local(obs_tensor).to(device)\n",
    "    #print(obs, action)\n",
    "    #q_val = agent.critic_local(obs_tensor, action_tensor).cpu().data.numpy()\n",
    "    obs, rwd, done, _ = env.step(action)\n",
    "    print(\"env rssi value:{}\".format(env.rssi_val))\n",
    "    ep_actions.append(action)\n",
    "    score +=rwd\n",
    "    eps_rwd.append(rwd)\n",
    "    if done:\n",
    "        break\n",
    "print(\"TX loc: {0}, episode score: {1}\\n\".format(env.tx_loc, score))\n",
    "print(\"TX_beam dir: {}\".format(env.tx_beam))\n",
    "print(\"eps rwds: {}\\n\".format(eps_rwd))\n",
    "print(\"Applied RX directions: {}\".format(ep_actions))\n",
    "\n",
    "from Source.misc_fun.utils import plotbeam\n",
    "print(env.channel.az_aod[0])\n",
    "print(ep_actions[-1][0])\n",
    "tx_theta, tx_gr = plotbeam(env.channel.az_aod[0], env.N_tx)\n",
    "rx_theta, rx_gr = plotbeam(ep_actions[-1][0], env.N_rx)\n",
    "ax1 = plt.subplot(121, projection='polar')\n",
    "ax1.plot(tx_theta, tx_gr)\n",
    "\n",
    "ax2 = plt.subplot(122, projection='polar')\n",
    "ax2.plot(rx_theta, rx_gr)\n",
    "\n",
    "plt.show()\n"
   ]
  },
  {
   "cell_type": "code",
   "execution_count": null,
   "metadata": {
    "pycharm": {}
   },
   "outputs": [],
   "source": []
  }
 ],
 "metadata": {
  "kernelspec": {
   "display_name": "Python 3",
   "language": "python",
   "name": "python3"
  },
  "language_info": {
   "codemirror_mode": {
    "name": "ipython",
    "version": 3
   },
   "file_extension": ".py",
   "mimetype": "text/x-python",
   "name": "python",
   "nbconvert_exporter": "python",
   "pygments_lexer": "ipython3",
   "version": "3.7.1"
  }
 },
 "nbformat": 4,
 "nbformat_minor": 1
}

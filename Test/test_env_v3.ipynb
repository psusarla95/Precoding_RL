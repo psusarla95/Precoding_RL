{
 "cells": [
  {
   "cell_type": "code",
   "execution_count": 125,
   "metadata": {
    "pycharm": {
     "is_executing": false
    }
   },
   "outputs": [
    {
     "name": "stdout",
     "output_type": "stream",
     "text": [
      "The autoreload extension is already loaded. To reload it, use:\n",
      "  %reload_ext autoreload\n"
     ]
    }
   ],
   "source": [
    "%load_ext autoreload\n",
    "%autoreload 2"
   ]
  },
  {
   "cell_type": "code",
   "execution_count": 126,
   "metadata": {
    "pycharm": {
     "is_executing": false
    }
   },
   "outputs": [],
   "source": [
    "import gym\n",
    "import gym_combrf\n",
    "import matplotlib.pyplot as plt\n",
    "\n",
    "import numpy as np"
   ]
  },
  {
   "cell_type": "code",
   "execution_count": 2,
   "metadata": {
    "pycharm": {
     "is_executing": false
    }
   },
   "outputs": [],
   "source": []
  },
  {
   "cell_type": "code",
   "execution_count": 128,
   "metadata": {
    "pycharm": {
     "is_executing": true
    },
    "scrolled": true
   },
   "outputs": [
    {
     "name": "stdout",
     "output_type": "stream",
     "text": [
      "[(0.39269908, 8) (0.78539816, 8) (1.17809725, 8) (1.57079633, 8)\n",
      " (1.96349541, 8) (2.35619449, 8) (2.74889357, 8) (3.14159265, 8)\n",
      " (0.78539816, 4) (1.57079633, 4) (2.35619449, 4) (3.14159265, 4)]\n"
     ]
    }
   ],
   "source": [
    "from Source.misc_fun.utils import Generate_Beams, var_plotbeam\n",
    "\n",
    "beamset = Generate_Beams(8,np.array([np.pi/8, np.pi/4]))\n",
    "\n",
    "print(beamset)"
   ]
  },
  {
   "cell_type": "code",
   "execution_count": 127,
   "metadata": {
    "pycharm": {
     "is_executing": true
    }
   },
   "outputs": [],
   "source": [
    "#create a channel variation of vectors, one for each location in environment\n",
    "\n",
    "#create same channel variation over time for all location, as we train MAB separately for every location.\n",
    "#This can then be compared with DQN with same channel variation over time.\n",
    "\n",
    "inp_fptr = open(\"ch_variation_large.txt\")\n",
    "ch_randvals = inp_fptr.read().splitlines()\n",
    "ch_randvals = [np.complex(a.replace('i','j')) for a in ch_randvals]\n"
   ]
  },
  {
   "cell_type": "code",
   "execution_count": null,
   "metadata": {
    "pycharm": {
     "is_executing": true
    }
   },
   "outputs": [],
   "source": []
  },
  {
   "cell_type": "code",
   "execution_count": 182,
   "metadata": {
    "pycharm": {
     "is_executing": true
    }
   },
   "outputs": [
    {
     "name": "stdout",
     "output_type": "stream",
     "text": [
      "init rate: -inf, init tx action: -1, init rx action: -1\n",
      "uma-av-nlos\n",
      "[[20.  20.  41.5]]\n",
      "[array([[20. , 20. , 41.5]])]\n",
      "init rate: -inf, init tx action: -1, init rx action: -1\n",
      "txdir_ndx: 0, rxdir_ndx: 0, rate: 14.336278666383517,rssival:(2.1006490064157652e-06,-7.265528463828244e-07)\n",
      "txdir_ndx: 0, rxdir_ndx: 1, rate: 19.710334083858893,rssival:(1.0425139921386234e-05,9.80925299767363e-06)\n",
      "txdir_ndx: 0, rxdir_ndx: 2, rate: 13.371808583200831,rssival:(-1.2550539184337954e-06,9.78068738009216e-07)\n",
      "txdir_ndx: 0, rxdir_ndx: 3, rate: 20.5149935481115,rssival:(-1.7420802348010567e-05,7.377683692531432e-06)\n",
      "txdir_ndx: 0, rxdir_ndx: 4, rate: 16.601412453069205,rssival:(-3.6986926773573177e-06,-3.1733297628535372e-06)\n",
      "txdir_ndx: 0, rxdir_ndx: 5, rate: 12.69510536439437,rssival:(6.368002188504585e-07,-1.0854767136879014e-06)\n",
      "txdir_ndx: 0, rxdir_ndx: 6, rate: 17.322270020886585,rssival:(-5.569976616377472e-06,-2.8495482693463578e-06)\n",
      "txdir_ndx: 0, rxdir_ndx: 7, rate: 16.101627244149608,rssival:(3.9688952675050156e-07,-4.079085967330237e-06)\n",
      "\n",
      "\n",
      "txdir_ndx: 1, rxdir_ndx: 0, rate: 15.837817961317421,rssival:(-1.7698865327233221e-06,3.294996041408241e-06)\n",
      "txdir_ndx: 1, rxdir_ndx: 1, rate: 20.625478486002173,rssival:(1.1492227633060237e-06,1.9623472628717875e-05)\n",
      "txdir_ndx: 1, rxdir_ndx: 2, rate: 12.80136871741615,rssival:(-9.548231882442542e-07,-8.905972554630762e-07)\n",
      "txdir_ndx: 1, rxdir_ndx: 3, rate: 19.808774180917165,rssival:(-1.4205922114639791e-05,-4.191204566083523e-06)\n",
      "txdir_ndx: 1, rxdir_ndx: 4, rate: 15.347492466621436,rssival:(-3.800453472292478e-07,-3.1327500349231292e-06)\n",
      "txdir_ndx: 1, rxdir_ndx: 5, rate: 13.469768299177394,rssival:(1.0835873879827795e-06,1.2391584738624248e-06)\n",
      "txdir_ndx: 1, rxdir_ndx: 6, rate: 13.711514430947041,rssival:(5.240229075218224e-07,-1.7115565398172854e-06)\n",
      "txdir_ndx: 1, rxdir_ndx: 7, rate: 15.705414285912129,rssival:(1.904364153845613e-06,3.02260434307687e-06)\n",
      "\n",
      "\n",
      "txdir_ndx: 2, rxdir_ndx: 0, rate: 19.37910534858223,rssival:(8.764815217604416e-06,-9.276237533899851e-06)\n",
      "txdir_ndx: 2, rxdir_ndx: 1, rate: 15.047120424856208,rssival:(-9.179831959701767e-07,-2.691475108497108e-06)\n",
      "txdir_ndx: 2, rxdir_ndx: 2, rate: 6.597556990924651,rssival:(4.804686993085584e-08,-1.4347357583936513e-07)\n",
      "txdir_ndx: 2, rxdir_ndx: 3, rate: 18.011440181013484,rssival:(-7.939252120502684e-06,-2.88771699620695e-07)\n",
      "txdir_ndx: 2, rxdir_ndx: 4, rate: 16.070055091642462,rssival:(-2.045487124431452e-06,-3.4998367735822896e-06)\n",
      "txdir_ndx: 2, rxdir_ndx: 5, rate: 15.479249281506359,rssival:(-5.205343822645145e-07,-3.261890814112675e-06)\n",
      "txdir_ndx: 2, rxdir_ndx: 6, rate: 19.4735402631255,rssival:(-1.0338353291426311e-05,-8.185765967814085e-06)\n",
      "txdir_ndx: 2, rxdir_ndx: 7, rate: 19.894569442957668,rssival:(-1.1623503194726175e-06,-1.5213974296157676e-05)\n",
      "\n",
      "\n",
      "txdir_ndx: 3, rxdir_ndx: 0, rate: 23.872334820491815,rssival:(-1.961459074937857e-05,-5.730059826601856e-05)\n",
      "txdir_ndx: 3, rxdir_ndx: 1, rate: 22.111917087162997,rssival:(-3.270466570802922e-05,-3.617760963215614e-06)\n",
      "txdir_ndx: 3, rxdir_ndx: 2, rate: 18.15385504922551,rssival:(-3.2649703797954447e-06,-7.681365022135636e-06)\n",
      "txdir_ndx: 3, rxdir_ndx: 3, rate: 20.000159363085647,rssival:(4.612508049658975e-06,-1.513999914079935e-05)\n",
      "txdir_ndx: 3, rxdir_ndx: 4, rate: 17.38995454591361,rssival:(-6.403694328744729e-06,1.3235167848775465e-07)\n",
      "txdir_ndx: 3, rxdir_ndx: 5, rate: 19.445182293537748,rssival:(-1.269519833390357e-05,-3.0554262736326014e-06)\n",
      "txdir_ndx: 3, rxdir_ndx: 6, rate: 23.28517006102529,rssival:(-4.5357883739960964e-05,1.960423688486428e-05)\n",
      "txdir_ndx: 3, rxdir_ndx: 7, rate: 24.117183324258516,rssival:(-6.070087943875277e-05,-2.5728867740305048e-05)\n",
      "\n",
      "\n",
      "txdir_ndx: 4, rxdir_ndx: 0, rate: 18.320891622804464,rssival:(-7.672767690947418e-06,-4.398095017762101e-06)\n",
      "txdir_ndx: 4, rxdir_ndx: 1, rate: 19.7196466237052,rssival:(5.316970295188242e-06,-1.334023039017447e-05)\n",
      "txdir_ndx: 4, rxdir_ndx: 2, rate: 19.270945556624795,rssival:(-1.205833924680811e-05,2.388091425016051e-06)\n",
      "txdir_ndx: 4, rxdir_ndx: 3, rate: 22.63248208023749,rssival:(-2.1563757289041466e-05,-3.298684698425739e-05)\n",
      "txdir_ndx: 4, rxdir_ndx: 4, rate: 17.9646937226904,rssival:(3.3781127689885565e-06,-7.049196420311575e-06)\n",
      "txdir_ndx: 4, rxdir_ndx: 5, rate: 15.659614914207616,rssival:(1.6871672627913428e-06,-3.0850284266403667e-06)\n",
      "txdir_ndx: 4, rxdir_ndx: 6, rate: 13.135788908494359,rssival:(-1.4646438870283883e-06,-6.690882239386034e-08)\n",
      "txdir_ndx: 4, rxdir_ndx: 7, rate: 16.627478767092324,rssival:(-4.912356768877783e-06,-2.283003595805851e-07)\n",
      "\n",
      "\n",
      "txdir_ndx: 5, rxdir_ndx: 0, rate: 21.41381914689824,rssival:(-1.8065353460449715e-05,1.846596739600268e-05)\n",
      "txdir_ndx: 5, rxdir_ndx: 1, rate: 26.250912130714696,rssival:(-1.2274476442507664e-05,0.00013756554261007344)\n",
      "txdir_ndx: 5, rxdir_ndx: 2, rate: 18.936518417515785,rssival:(-1.7884008671944707e-06,-1.0800185504009463e-05)\n",
      "txdir_ndx: 5, rxdir_ndx: 3, rate: 24.867855185304506,rssival:(-7.756354761760648e-05,-3.6018521988469016e-05)\n",
      "txdir_ndx: 5, rxdir_ndx: 4, rate: 20.32912629541655,rssival:(3.6207149640755693e-07,-1.773468052961114e-05)\n",
      "txdir_ndx: 5, rxdir_ndx: 5, rate: 19.716806133329026,rssival:(4.166712506571257e-06,1.372824753552806e-05)\n",
      "txdir_ndx: 5, rxdir_ndx: 6, rate: 19.23312447604652,rssival:(1.9552869652471098e-06,-1.1973867458095596e-05)\n",
      "txdir_ndx: 5, rxdir_ndx: 7, rate: 21.029210161282467,rssival:(6.87609735295929e-06,2.1538327806662565e-05)\n",
      "\n",
      "\n",
      "txdir_ndx: 6, rxdir_ndx: 0, rate: 21.833914929966667,rssival:(-2.8046810799259785e-05,-1.0310204221867388e-05)\n",
      "txdir_ndx: 6, rxdir_ndx: 1, rate: 22.467557392577955,rssival:(-2.8739100669177764e-05,2.3651961355038234e-05)\n",
      "txdir_ndx: 6, rxdir_ndx: 2, rate: 13.918937621897639,rssival:(1.4263058025832422e-06,-1.2904006968979641e-06)\n",
      "txdir_ndx: 6, rxdir_ndx: 3, rate: 16.513128386741073,rssival:(-3.287792439865835e-06,3.3957261521500904e-06)\n",
      "txdir_ndx: 6, rxdir_ndx: 4, rate: 16.91589710897617,rssival:(-3.895057368489398e-06,3.78995322705338e-06)\n",
      "txdir_ndx: 6, rxdir_ndx: 5, rate: 18.111897368725,rssival:(-6.450186528212124e-06,5.1050616593791484e-06)\n",
      "txdir_ndx: 6, rxdir_ndx: 6, rate: 21.721944096136554,rssival:(-9.10815143758084e-06,2.7263248306680857e-05)\n",
      "txdir_ndx: 6, rxdir_ndx: 7, rate: 22.41428155119671,rssival:(-3.2525846824902475e-05,1.664918258120582e-05)\n",
      "\n",
      "\n",
      "txdir_ndx: 7, rxdir_ndx: 0, rate: 20.382715177656813,rssival:(-1.5033002726625806e-05,1.0028273911506657e-05)\n",
      "txdir_ndx: 7, rxdir_ndx: 1, rate: 22.707135986804435,rssival:(-1.2972410537442722e-06,4.0421887188465974e-05)\n",
      "txdir_ndx: 7, rxdir_ndx: 2, rate: 14.527121896709229,rssival:(-1.4839319828500243e-06,-1.854005944713116e-06)\n",
      "txdir_ndx: 7, rxdir_ndx: 3, rate: 20.517706729090182,rssival:(-1.8158796384109952e-05,-5.370886797930978e-06)\n",
      "txdir_ndx: 7, rxdir_ndx: 4, rate: 13.601142600954596,rssival:(-5.7225000334879675e-08,-1.7218463049729364e-06)\n",
      "txdir_ndx: 7, rxdir_ndx: 5, rate: 16.91432604634934,rssival:(9.158157854277558e-07,5.353910054286078e-06)\n",
      "txdir_ndx: 7, rxdir_ndx: 6, rate: 19.07197510704834,rssival:(6.919883908598085e-06,9.151773372756744e-06)\n",
      "txdir_ndx: 7, rxdir_ndx: 7, rate: 20.677541313874855,rssival:(-2.570361925801065e-06,1.9849268025412736e-05)\n",
      "\n",
      "\n",
      "best_txdir_ndx: 5, best_rxdir_ndx:1, best_rate:26.250912130714696\n",
      "\n"
     ]
    }
   ],
   "source": [
    "env = gym.make('combrf-v7')\n",
    "env.ant_arr = 'ula'\n",
    "env.ch_model = 'uma-los'\n",
    "env.init_ch_model = 'uma-los'\n",
    "env.sc_xyz = np.array([[0,20,21.5], [20,0,21.5],[-20,0,21.5],[0,-20,21.5]])\n",
    "rx_xcov = np.array([20])\n",
    "rx_ycov = np.array([20])\n",
    "rx_zcov = np.array([41.5])\n",
    "beam_param = 'beam-narrow'\n",
    "beam_paramvals = np.array([])\n",
    "env.set_beamparameters(beam_param, beam_paramvals)\n",
    "env.set_coverage(rx_xcov,rx_ycov,rx_zcov)\n",
    "obs = env.reset(0,ch_randvals[0], 0.5)\n",
    "#print(obs)\n",
    "#print(obs.shape)\n",
    "print(env.ch_model)\n",
    "print(env.tx_loc)\n",
    "print(env.tx_locs)\n",
    "#print(env.obs_space.sample())\n",
    "#print(env.rx_xcov)\n",
    "\n",
    "loc_ndx = 0\n",
    "#for txdir_ndx in range(env.N_tx):\n",
    "obs = env.reset(loc_ndx,ch_randvals[0], 0.5)\n",
    "#min_rate, max_rate, min_exh_ndx, max_exh_ndx, _, _ = env.get_minmax_exhrate(loc_ndx, ch_randvals[0])\n",
    "#print(\"max_rate: {}, exh action ndx: {}\".format(max_rate, max_exh_ndx))\n",
    "\n",
    "#print(\"init_obs: \", obs)\n",
    "max_rate = 0.0\n",
    "best_rxdir_ndx = -1\n",
    "best_rxdir_ndx = -1\n",
    "\n",
    "for txdir_ndx in range(env.N_tx):\n",
    "    for rxdir_ndx in range(env.N_rx):\n",
    "        obs,_,_,_ = env.step(txdir_ndx*env.N_rx+rxdir_ndx)\n",
    "        #print(\"obs: \", obs)\n",
    "        rate = env.rate\n",
    "        if (rate > max_rate):\n",
    "            max_rate = rate\n",
    "            best_rxdir_ndx = rxdir_ndx\n",
    "            best_txdir_ndx = txdir_ndx\n",
    "        #if (txdir_ndx == 46) or (txdir_ndx ==45):\n",
    "        print(\"txdir_ndx: {}, rxdir_ndx: {}, rate: {},rssival:({},{})\".format(txdir_ndx, rxdir_ndx, rate,env.rssi_val.real, env.rssi_val.imag))\n",
    "    print(\"\\n\")\n",
    "print(\"best_txdir_ndx: {}, best_rxdir_ndx:{}, best_rate:{}\\n\".format(best_txdir_ndx, best_rxdir_ndx, max_rate))\n",
    "#print(\"txdir_ndx: {}, best rxdir_ndx: {}, best_rate: {}, min_rate:{}\".format(txdir_ndx, max_rxdir_ndx, max_rate, min_rate))"
   ]
  },
  {
   "cell_type": "code",
   "execution_count": 178,
   "metadata": {},
   "outputs": [
    {
     "name": "stdout",
     "output_type": "stream",
     "text": [
      "init rate: -inf, init tx action: -1, init rx action: -1\n",
      "ch coeff0:  1.3366496319292097e-05\n",
      "ch coeff1:  2.7781039029809163e-06\n",
      "ch coeff2:  3.842465534697695e-06\n",
      "ch coeff3:  1.8645114935032962e-06\n",
      "ch coeff4:  2.2179834186419684e-06\n",
      "path loss0:  97.47964833734551\n",
      "path loss1:  111.12503030769585\n",
      "path loss2:  108.30780038499759\n",
      "path loss3:  114.58869870301595\n",
      "path loss4:  113.08083409808535\n"
     ]
    }
   ],
   "source": [
    "from Source.misc_fun import channel_mmW\n",
    "\n",
    "loc_ndx = 0\n",
    "#for txdir_ndx in range(env.N_tx):\n",
    "#obs = env.reset(loc_ndx,ch_randvals[0], 0.5)\n",
    "\n",
    "env = gym.make('combrf-v7')\n",
    "env.ant_arr = 'ula'\n",
    "env.ch_model = 'uma-los'\n",
    "env.init_ch_model = 'uma-los'\n",
    "#env.sc_xyz = np.array([[0,-20,21.5], [-20,0,21.5],[20,0,21.5],[0,20,21.5]])\n",
    "env.sc_xyz = np.array([[0,20,21.5], [20,0,21.5],[-20,0,21.5],[0,-20,21.5]])\n",
    "rx_xcov = np.array([60])\n",
    "rx_ycov = np.array([20])\n",
    "rx_zcov = np.array([41.5])\n",
    "beam_param = 'beam-narrow'\n",
    "beam_paramvals = np.array([])\n",
    "env.set_beamparameters(beam_param, beam_paramvals)\n",
    "env.set_coverage(rx_xcov,rx_ycov,rx_zcov)\n",
    "obs = env.reset(0,ch_randvals[0], 0.5)\n",
    "\n",
    "channel = channel_mmW.Channel(env.freq, env.tx_locs[loc_ndx], env.rx_loc, env.sc_xyz, 'model', env.init_ch_model, 'nrx', env.N_rx,\n",
    "                                   'ntx', env.N_tx, 'nFFT', env.nFFT, 'df', env.df)\n",
    "\n",
    "ch_randval=None\n",
    "channel.generate_paths(ch_randval,loc_ndx)\n",
    "#h = channel.get_h()\n",
    "#print(h)\n",
    "\n",
    "print(\"ch coeff0: \",np.abs(channel.coeff[0]))\n",
    "print(\"ch coeff1: \",np.abs(channel.coeff[1]))\n",
    "print(\"ch coeff2: \",np.abs(channel.coeff[2]))\n",
    "print(\"ch coeff3: \",np.abs(channel.coeff[3]))\n",
    "print(\"ch coeff4: \",np.abs(channel.coeff[4]))\n",
    "\n",
    "print(\"path loss0: \", channel.pathloss[0])\n",
    "print(\"path loss1: \", channel.pathloss[1])\n",
    "print(\"path loss2: \", channel.pathloss[2])\n",
    "print(\"path loss3: \", channel.pathloss[3])\n",
    "print(\"path loss4: \", channel.pathloss[4])\n",
    "#min_rate, max_rate, min_exh_ndx, max_exh_ndx, _, _ = env.get_minmax_exhrate(loc_ndx)\n",
    "#print(\"max_rate: {}, exh action ndx: {}\".format(max_rate, max_exh_ndx))\n"
   ]
  },
  {
   "cell_type": "code",
   "execution_count": 156,
   "metadata": {},
   "outputs": [
    {
     "name": "stdout",
     "output_type": "stream",
     "text": [
      "init rate: -inf, init tx action: -1, init rx action: -1\n",
      "uma-av-los\n",
      "[[60.  20.  41.5]]\n",
      "init rate: -inf, init tx action: -1, init rx action: -1\n",
      "txdir_ndx: 0, rxdir_ndx: 0, rate: 23.29964693138604,rssival:(-1.9106675430730673e-05,4.5839100587568486e-05)\n",
      "txdir_ndx: 0, rxdir_ndx: 1, rate: 18.37948659978521,rssival:(-3.2058127177700226e-06,-8.43679162373573e-06)\n",
      "txdir_ndx: 0, rxdir_ndx: 2, rate: 15.708401264591538,rssival:(-2.2336252970339074e-07,3.569215750399157e-06)\n",
      "txdir_ndx: 0, rxdir_ndx: 3, rate: 16.883721526963946,rssival:(-4.857725474556862e-06,2.2991954548020222e-06)\n",
      "txdir_ndx: 0, rxdir_ndx: 4, rate: 16.13523180936815,rssival:(3.3645685825931095e-06,2.42321648720871e-06)\n",
      "txdir_ndx: 0, rxdir_ndx: 5, rate: 18.998628710405484,rssival:(5.567561132174798e-06,9.701377879435358e-06)\n",
      "txdir_ndx: 0, rxdir_ndx: 6, rate: 21.091917213496643,rssival:(2.2129672006552727e-05,6.645781252367959e-06)\n",
      "txdir_ndx: 0, rxdir_ndx: 7, rate: 22.77967734729146,rssival:(1.7742198562961128e-05,3.748560382456196e-05)\n",
      "\n",
      "\n",
      "txdir_ndx: 1, rxdir_ndx: 0, rate: 21.206356775939344,rssival:(-2.1972752313503824e-05,9.75509360084688e-06)\n",
      "txdir_ndx: 1, rxdir_ndx: 1, rate: 16.286209809848042,rssival:(1.6809506247396856e-06,-4.032792886942965e-06)\n",
      "txdir_ndx: 1, rxdir_ndx: 2, rate: 13.615198683982792,rssival:(-1.2664174977919632e-06,1.1803715950363444e-06)\n",
      "txdir_ndx: 1, rxdir_ndx: 3, rate: 14.790469894665904,rssival:(-2.4728814984083644e-06,-8.084841793886194e-07)\n",
      "txdir_ndx: 1, rxdir_ndx: 4, rate: 14.042006683934805,rssival:(3.7628076294585595e-07,1.9716368817896805e-06)\n",
      "txdir_ndx: 1, rxdir_ndx: 5, rate: 16.905347097396874,rssival:(-1.2715856336246649e-06,5.263372577343356e-06)\n",
      "txdir_ndx: 1, rxdir_ndx: 6, rate: 18.998628710405484,rssival:(5.5675611321747775e-06,9.701377879435377e-06)\n",
      "txdir_ndx: 1, rxdir_ndx: 7, rate: 20.686387389939306,rssival:(-6.23882881108107e-06,1.908248142879696e-05)\n",
      "\n",
      "\n",
      "txdir_ndx: 2, rxdir_ndx: 0, rate: 18.342946327880018,rssival:(-5.925333720282247e-06,6.656567638256167e-06)\n",
      "txdir_ndx: 2, rxdir_ndx: 1, rate: 13.42290893632426,rssival:(-4.9723650498275764e-08,-1.6188260609023626e-06)\n",
      "txdir_ndx: 2, rxdir_ndx: 2, rate: 10.752506031438699,rssival:(-2.469029926141702e-07,5.923485304831876e-07)\n",
      "txdir_ndx: 2, rxdir_ndx: 3, rate: 11.927375245837357,rssival:(-9.586344635130375e-07,1.0553049665558024e-07)\n",
      "txdir_ndx: 2, rxdir_ndx: 4, rate: 11.179129284029841,rssival:(4.288106571861966e-07,6.080693059092838e-07)\n",
      "txdir_ndx: 2, rxdir_ndx: 5, rate: 14.04200668393482,rssival:(3.7628076294586506e-07,1.97163688178969e-06)\n",
      "txdir_ndx: 2, rxdir_ndx: 6, rate: 16.13523180936816,rssival:(3.3645685825931277e-06,2.423216487208715e-06)\n",
      "txdir_ndx: 2, rxdir_ndx: 7, rate: 17.822978565987817,rssival:(8.143470457027534e-07,7.3974933124641785e-06)\n",
      "\n",
      "\n",
      "txdir_ndx: 3, rxdir_ndx: 0, rate: 19.091442402514556,rssival:(-3.840010759066116e-06,-1.0894145940294088e-05)\n",
      "txdir_ndx: 3, rxdir_ndx: 1, rate: 14.171353593218036,rssival:(1.8679463794367003e-06,9.579384877163787e-07)\n",
      "txdir_ndx: 3, rxdir_ndx: 2, rate: 11.50066531893179,rssival:(-5.173945462459269e-07,-6.513125638818396e-07)\n",
      "txdir_ndx: 3, rxdir_ndx: 3, rate: 12.675723137621349,rssival:(4.809413187529763e-07,-1.1538332540875955e-06)\n",
      "txdir_ndx: 3, rxdir_ndx: 4, rate: 11.927375245837345,rssival:(-9.586344635130332e-07,1.055304966555779e-07)\n",
      "txdir_ndx: 3, rxdir_ndx: 5, rate: 14.790469894665899,rssival:(-2.472881498408361e-06,-8.084841793886148e-07)\n",
      "txdir_ndx: 3, rxdir_ndx: 6, rate: 16.883721526963942,rssival:(-4.85772547455686e-06,2.299195454802011e-06)\n",
      "txdir_ndx: 3, rxdir_ndx: 7, rate: 18.57147387849625,rssival:(-8.903783564730645e-06,-3.711279246236352e-06)\n",
      "\n",
      "\n",
      "txdir_ndx: 4, rxdir_ndx: 0, rate: 17.916110376151423,rssival:(-7.58106122272784e-06,-1.2676423670595437e-06)\n",
      "txdir_ndx: 4, rxdir_ndx: 1, rate: 12.996116716470102,rssival:(1.1588782160820883e-06,-7.799223252175629e-07)\n",
      "txdir_ndx: 4, rxdir_ndx: 2, rate: 10.325956471872027,rssival:(-5.458232338453215e-07,9.186596601438391e-08)\n",
      "txdir_ndx: 4, rxdir_ndx: 3, rate: 11.500665318931794,rssival:(-5.173945462459267e-07,-6.513125638818419e-07)\n",
      "txdir_ndx: 4, rxdir_ndx: 4, rate: 10.752506031438685,rssival:(-2.4690299261417196e-07,5.923485304831835e-07)\n",
      "txdir_ndx: 4, rxdir_ndx: 5, rate: 13.61519868398279,rssival:(-1.266417497791962e-06,1.1803715950363446e-06)\n",
      "txdir_ndx: 4, rxdir_ndx: 6, rate: 15.70840126459154,rssival:(-2.2336252970339455e-07,3.5692157503991586e-06)\n",
      "txdir_ndx: 4, rxdir_ndx: 7, rate: 17.396143262484628,rssival:(-5.0259828109907015e-06,3.9925778192175695e-06)\n",
      "\n",
      "\n",
      "txdir_ndx: 5, rxdir_ndx: 0, rate: 20.587213508661076,rssival:(1.8746411456059785e-05,-4.985933915989688e-06)\n",
      "txdir_ndx: 5, rxdir_ndx: 1, rate: 15.667075898435476,rssival:(-1.8510450726789219e-06,3.0002789192145553e-06)\n",
      "txdir_ndx: 5, rxdir_ndx: 2, rate: 12.996116716470087,rssival:(1.1588782160820815e-06,-7.799223252175611e-07)\n",
      "txdir_ndx: 5, rxdir_ndx: 3, rate: 14.171353593218026,rssival:(1.8679463794366945e-06,9.579384877163723e-07)\n",
      "txdir_ndx: 5, rxdir_ndx: 4, rate: 13.422908936324232,rssival:(-4.972365049827322e-08,-1.618826060902347e-06)\n",
      "txdir_ndx: 5, rxdir_ndx: 5, rate: 16.286209809848028,rssival:(1.680950624739665e-06,-4.0327928869429454e-06)\n",
      "txdir_ndx: 5, rxdir_ndx: 6, rate: 18.379486599785192,rssival:(-3.205812717770009e-06,-8.436791623735685e-06)\n",
      "txdir_ndx: 5, rxdir_ndx: 7, rate: 20.067244261328426,rssival:(7.392122676943086e-06,-1.4414379386368375e-05)\n",
      "\n",
      "\n",
      "txdir_ndx: 6, rxdir_ndx: 0, rate: 25.50737704553612,rssival:(-9.376820913137917e-05,-5.0995000164438906e-05)\n",
      "txdir_ndx: 6, rxdir_ndx: 1, rate: 20.587213508661087,rssival:(1.8746411456059873e-05,-4.985933915989714e-06)\n",
      "txdir_ndx: 6, rxdir_ndx: 2, rate: 17.916110376151426,rssival:(-7.5810612227278455e-06,-1.2676423670595316e-06)\n",
      "txdir_ndx: 6, rxdir_ndx: 3, rate: 19.09144240251456,rssival:(-3.840010759066123e-06,-1.08941459402941e-05)\n",
      "txdir_ndx: 6, rxdir_ndx: 4, rate: 18.342946327880004,rssival:(-5.925333720282227e-06,6.656567638256125e-06)\n",
      "txdir_ndx: 6, rxdir_ndx: 5, rate: 21.20635677593934,rssival:(-2.1972752313503776e-05,9.755093600846922e-06)\n",
      "txdir_ndx: 6, rxdir_ndx: 6, rate: 23.29964693138604,rssival:(-1.9106675430730676e-05,4.5839100587568486e-05)\n",
      "txdir_ndx: 6, rxdir_ndx: 7, rate: 24.9874074139354,rssival:(-8.406684174800507e-05,2.9632206008829726e-05)\n",
      "\n",
      "\n",
      "txdir_ndx: 7, rxdir_ndx: 0, rate: 24.987407413935404,rssival:(-8.406684174800512e-05,2.963220600882966e-05)\n",
      "txdir_ndx: 7, rxdir_ndx: 1, rate: 20.06724426132844,rssival:(7.392122676943137e-06,-1.4414379386368442e-05)\n",
      "txdir_ndx: 7, rxdir_ndx: 2, rate: 17.39614326248463,rssival:(-5.025982810990702e-06,3.992577819217573e-06)\n",
      "txdir_ndx: 7, rxdir_ndx: 3, rate: 18.571473878496253,rssival:(-8.903783564730653e-06,-3.7112792462363517e-06)\n",
      "txdir_ndx: 7, rxdir_ndx: 4, rate: 17.822978565987807,rssival:(8.143470457027318e-07,7.397493312464147e-06)\n",
      "txdir_ndx: 7, rxdir_ndx: 5, rate: 20.686387389939306,rssival:(-6.238828811081038e-06,1.908248142879696e-05)\n",
      "txdir_ndx: 7, rxdir_ndx: 6, rate: 22.77967734729146,rssival:(1.7742198562961098e-05,3.7485603824561984e-05)\n",
      "txdir_ndx: 7, rxdir_ndx: 7, rate: 24.467437788030008,rssival:(-2.863882371191953e-05,6.870781500422004e-05)\n",
      "\n",
      "\n",
      "best_txdir_ndx: 6, best_rxdir_ndx:0, best_rate:25.50737704553612\n",
      "\n"
     ]
    }
   ],
   "source": [
    "env = gym.make('combrf-v7')\n",
    "env.ant_arr = 'ula'\n",
    "env.ch_model = 'uma-los'\n",
    "env.init_ch_model = 'uma-los'\n",
    "env.sc_xyz = np.array([])\n",
    "rx_xcov = np.array([60])\n",
    "rx_ycov = np.array([20])\n",
    "rx_zcov = np.array([41.5])\n",
    "beam_param = 'beam-narrow'\n",
    "beam_paramvals = np.array([])\n",
    "env.set_beamparameters(beam_param, beam_paramvals)\n",
    "env.set_coverage(rx_xcov,rx_ycov,rx_zcov)\n",
    "obs = env.reset(0,ch_randvals[0], 0.5)\n",
    "#print(obs)\n",
    "#print(obs.shape)\n",
    "print(env.ch_model)\n",
    "print(env.tx_loc)\n",
    "#print(env.obs_space.sample())\n",
    "#print(env.rx_xcov)\n",
    "\n",
    "loc_ndx = 0\n",
    "#for txdir_ndx in range(env.N_tx):\n",
    "#min_rate, max_rate, min_rxdir_ndx, max_rxdir_ndx, _, _ = env.get_minmax_exhrate(loc_ndx, txdir_ndx, ch_randvals[0])\n",
    "obs = env.reset(loc_ndx,ch_randvals[0], 0.5)\n",
    "#print(\"init_obs: \", obs)\n",
    "max_rate = 0.0\n",
    "best_rxdir_ndx = -1\n",
    "best_rxdir_ndx = -1\n",
    "\n",
    "for txdir_ndx in range(env.N_tx):\n",
    "    for rxdir_ndx in range(env.N_rx):\n",
    "        obs,_,_,_ = env.step(txdir_ndx*env.N_rx+rxdir_ndx)\n",
    "        #print(\"obs: \", obs)\n",
    "        rate = env.rate\n",
    "        if (rate > max_rate):\n",
    "            max_rate = rate\n",
    "            best_rxdir_ndx = rxdir_ndx\n",
    "            best_txdir_ndx = txdir_ndx\n",
    "        #if (txdir_ndx == 46) or (txdir_ndx ==45):\n",
    "        print(\"txdir_ndx: {}, rxdir_ndx: {}, rate: {},rssival:({},{})\".format(txdir_ndx, rxdir_ndx, rate,env.rssi_val.real, env.rssi_val.imag))\n",
    "    print(\"\\n\")\n",
    "print(\"best_txdir_ndx: {}, best_rxdir_ndx:{}, best_rate:{}\\n\".format(best_txdir_ndx, best_rxdir_ndx, max_rate))\n",
    "#print(\"txdir_ndx: {}, best rxdir_ndx: {}, best_rate: {}, min_rate:{}\".format(txdir_ndx, max_rxdir_ndx, max_rate, min_rate))"
   ]
  },
  {
   "cell_type": "code",
   "execution_count": null,
   "metadata": {
    "pycharm": {
     "is_executing": true
    }
   },
   "outputs": [],
   "source": [
    "#Testing the max possible reward\n",
    "from Source.antenna import ula\n",
    "from Source.misc_fun.geometry import cart2sph\n",
    "from Source.misc_fun.conversion import *\n",
    "\n",
    "def compute_rate(r, theta, txbdir_ndx, wRF):\n",
    "    tx_loc = np.array([[r*np.cos(theta), r*np.sin(theta), 22.5]])\n",
    "    sc_xyz = np.array([])\n",
    "\n",
    "    obs = env.test_reset(tx_loc, txbdir_ndx, sc_xyz, np.exp(1j * 2 * np.pi * 0.6))\n",
    "    #print(env.h)\n",
    "    tx = env.tx_loc\n",
    "    rx = env.rx_loc\n",
    "    (az_aoa, el_aoa, temp) = cart2sph(tx[0, 0] - rx[0, 0], tx[0, 1] -rx[0, 1], tx[0, 2] - rx[0, 2])\n",
    "    \n",
    "    #self.tx_beam = ula.var_steervec(self.N_tx, self.tx_bdir, 0)\n",
    "    #self.eff_ch = np.array(self.h[:, :, 0]).dot(self.tx_beam)\n",
    "    #print(\"eff_ch: \", env.eff_ch)\n",
    "    rssi_val = np.sqrt(env.N_rx * env.N_tx) * np.array(np.conj(wRF.T).dot(env.eff_ch)) #+ (np.conj(wRF.T).dot(env.noise))[0]\n",
    "    \n",
    "    #next_obs, rwd, done, _ = env.step(rxbdir_ndx)\n",
    "    #print(rssi_val)\n",
    "    #print((np.conj(wRF.T).dot(env.noise))[0])\n",
    "    Es = db2lin(env.P_tx) #* (1e-3 / self.B)\n",
    "    SNR = Es * np.abs(rssi_val)**2 / (env.N0*env.B)\n",
    "    rate = np.log2(1 + SNR)  # in Gbit/s (self.B / self.nFFT) *\n",
    "    return rssi_val, rate\n",
    "#As the max reward is close to 1, calculation of reward based on reward seems to be good, \n",
    "#especially with random tx_beam and additional noise"
   ]
  },
  {
   "cell_type": "code",
   "execution_count": null,
   "metadata": {
    "pycharm": {
     "is_executing": true
    }
   },
   "outputs": [],
   "source": [
    "#best narrow beam\n",
    "r1 = 1\n",
    "theta1 = 0*np.pi/180\n",
    "txbdir_ndx1 = 0\n",
    "rxbdir_ndx1 = 7\n",
    "_,rate1 = compute_rate(r1, theta1,txbdir_ndx1, rxbdir_ndx1)\n",
    "print(\"txloc: \", np.array([[r1*np.cos(theta1), r1*np.sin(theta1), 0]]))\n",
    "print(\"narrow beam rate1: \", rate1)\n",
    "print(\"rxbeam: \",(env.BeamSet[rxbdir_ndx1][0]*180/np.pi,env.BeamSet[rxbdir_ndx1][1]))\n",
    "print(\"codeword: \", ula.var_steervec(env.N_rx, env.BeamSet[rxbdir_ndx1] , 0))\n",
    "#best wide beam\n",
    "r2 = 1\n",
    "theta2 = 0*np.pi/180\n",
    "txbdir_ndx2 = 0\n",
    "rxbdir_ndx2 = 11\n",
    "_,rate2 = compute_rate(r2, theta2,txbdir_ndx2, rxbdir_ndx2)\n",
    "print(\"txloc: \", np.array([[r2*np.cos(theta2), r2*np.sin(theta2), 0]]))\n",
    "print(\"wide beam rate2: \", rate2)\n",
    "print(\"rxbeam: \",(env.BeamSet[rxbdir_ndx2][0]*180/np.pi,env.BeamSet[rxbdir_ndx2][1]))\n",
    "print(\"codeword: \", ula.var_steervec(env.N_rx, env.BeamSet[rxbdir_ndx2] , 0))\n",
    "\n",
    "theta_1, gr_1 = var_plotbeam(env.BeamSet[rxbdir_ndx1], 8)\n",
    "theta_2, gr_2 = var_plotbeam(env.BeamSet[rxbdir_ndx2],4)\n",
    "ax = plt.subplot(111, projection='polar')\n",
    "##print(theta.shape, gr.shape)\n",
    "ax.plot(theta_1, gr_1, theta_2, gr_2)\n",
    "#plt.pause(0.001)\n",
    "ax.scatter(theta1, r1, c='r')\n",
    "plt.show()"
   ]
  },
  {
   "cell_type": "code",
   "execution_count": null,
   "metadata": {
    "pycharm": {
     "is_executing": true
    }
   },
   "outputs": [],
   "source": [
    "#worst narrow beam\n",
    "r1 = 100\n",
    "theta1 = 45*np.pi/180\n",
    "txbdir_ndx1 = 0\n",
    "rxbdir_ndx1 = 1\n",
    "wRF = ula.var_steervec(env.N_rx, (env.BeamSet[rxbdir_ndx1][0]-0*np.pi/180,env.BeamSet[rxbdir_ndx1][1]), 0)\n",
    "_,rate1 = compute_rate(r1, theta1,txbdir_ndx1, wRF)\n",
    "print(\"txloc: \", np.array([[r1*np.cos(theta1), r1*np.sin(theta1), 0]]))\n",
    "print(\"narrow beam rate1: \", rate1)\n",
    "print(\"rxbeam: \",((env.BeamSet[rxbdir_ndx1][0]-0*np.pi/180)*180/np.pi,env.BeamSet[rxbdir_ndx1][1]))\n",
    "print(\"codeword: \", ula.var_steervec(env.N_rx, env.BeamSet[rxbdir_ndx1] , 0))\n",
    "\n",
    "#best wide beam\n",
    "r2 = 100\n",
    "theta2 = 45*np.pi/180\n",
    "txbdir_ndx2 = 0\n",
    "rxbdir_ndx2 = 8\n",
    "wRF = ula.var_steervec(env.N_rx, env.BeamSet[rxbdir_ndx2], 0)\n",
    "_,rate2 = compute_rate(r2, theta2,txbdir_ndx2, wRF)\n",
    "print(\"txloc: \", np.array([[r2*np.cos(theta2), r2*np.sin(theta2), 0]]))\n",
    "print(\"wide beam rate2: \", rate2)\n",
    "print(\"rxbeam: \",(env.BeamSet[rxbdir_ndx2][0]*180/np.pi,env.BeamSet[rxbdir_ndx2][1]))\n",
    "print(\"codeword: \", ula.var_steervec(env.N_rx, env.BeamSet[rxbdir_ndx2] , 0))\n",
    "\n",
    "theta_1, gr_1 = var_plotbeam(env.BeamSet[rxbdir_ndx1], 8)\n",
    "theta_2, gr_2 = var_plotbeam(env.BeamSet[rxbdir_ndx2],4)\n",
    "ax = plt.subplot(111, projection='polar')\n",
    "##print(theta.shape, gr.shape)\n",
    "ax.plot(theta_1, gr_1, theta_2, gr_2)\n",
    "#plt.pause(0.001)\n",
    "#ax.scatter(theta1, r1, c='r')\n",
    "plt.show()"
   ]
  },
  {
   "cell_type": "code",
   "execution_count": null,
   "metadata": {
    "pycharm": {
     "is_executing": true
    }
   },
   "outputs": [],
   "source": [
    "from Source.misc_fun.utils import Generate_BeamDirs, plotbeam\n",
    "import numpy as np\n",
    "r=1\n",
    "beamset = Generate_BeamDirs(8,np.array([0]))\n",
    "print(beamset)\n",
    "\n",
    "ax = plt.subplot(111, projection='polar')\n",
    "for i in range(len(beamset)):\n",
    "    \n",
    "    theta, gr = plotbeam(beamset[i],8)\n",
    "    ax.plot(theta, gr, color='blue')\n",
    "\n",
    "theta, gr = plotbeam(beamset[1]+11.25*np.pi/180,8)\n",
    "ax.plot(theta, gr, color='green')\n",
    "\n",
    "ax.scatter(beamset[1]+11.25*np.pi/180, r, c='r')\n",
    "#plt.savefig(\"ploar_withrefinement.png\")\n",
    "plt.show()"
   ]
  },
  {
   "cell_type": "code",
   "execution_count": null,
   "metadata": {
    "pycharm": {
     "is_executing": true
    }
   },
   "outputs": [],
   "source": [
    "#worst narrow beam\n",
    "r1 = 1\n",
    "theta1 = 67.5*np.pi/180\n",
    "txbdir_ndx1 = 0\n",
    "rxbdir_ndx1 = 3\n",
    "_,rate1 = compute_rate(r1, theta1,txbdir_ndx1, rxbdir_ndx1)\n",
    "print(\"txloc: \", np.array([[r1*np.cos(theta1), r1*np.sin(theta1), 21.5]]))\n",
    "print(\"narrow beam rate1: \", rate1)\n",
    "print(\"rxbeam: \",(env.BeamSet[rxbdir_ndx1][0]*180/np.pi,env.BeamSet[rxbdir_ndx1][1]))\n",
    "print(\"codeword: \", ula.var_steervec(env.N_rx, env.BeamSet[rxbdir_ndx1] , 0))\n",
    "\n",
    "#worst wide beam\n",
    "r2 = 1\n",
    "theta2 = 67.5*np.pi/180\n",
    "txbdir_ndx2 = 0\n",
    "rxbdir_ndx2 = 9\n",
    "_,rate2 = compute_rate(r2, theta2,txbdir_ndx2, rxbdir_ndx2)\n",
    "print(\"txloc: \", np.array([[r2*np.cos(theta2), r2*np.sin(theta2), 0]]))\n",
    "print(\"wide beam rate2: \", rate2)\n",
    "print(\"rxbeam: \",(env.BeamSet[rxbdir_ndx2][0]*180/np.pi,env.BeamSet[rxbdir_ndx2][1]))\n",
    "print(\"codeword: \", ula.var_steervec(env.N_rx, env.BeamSet[rxbdir_ndx2] , 0))\n",
    "\n",
    "theta_1, gr_1 = var_plotbeam(env.BeamSet[rxbdir_ndx1], 8)\n",
    "theta_2, gr_2 = var_plotbeam(env.BeamSet[rxbdir_ndx2],4)\n",
    "ax = plt.subplot(111, projection='polar')\n",
    "##print(theta.shape, gr.shape)\n",
    "ax.plot(theta_1, gr_1, theta_2, gr_2)\n",
    "#plt.pause(0.001)\n",
    "ax.scatter(theta1, r1, c='r')\n",
    "plt.show()"
   ]
  },
  {
   "cell_type": "code",
   "execution_count": null,
   "metadata": {
    "pycharm": {
     "is_executing": true
    }
   },
   "outputs": [],
   "source": [
    "r2 = 100\n",
    "theta2 = 45*np.pi/180\n",
    "txbdir_ndx2 = 0\n",
    "\n",
    "#rxbdir_ndx2 = 9\n",
    "rss_vals=[]\n",
    "rate_vals=[]\n",
    "widerss_vals=[]\n",
    "widerate_vals =[]\n",
    "for rxbdir_ndx in range(len(env.BeamSet)):\n",
    "    print(env.BeamSet[rxbdir_ndx])\n",
    "    wRF = ula.var_steervec(env.N_rx, env.BeamSet[rxbdir_ndx], 0)\n",
    "    rssi_val,rate = compute_rate(r2, theta2,txbdir_ndx2, wRF)\n",
    "    #print(rssi_val)\n",
    "    if(rxbdir_ndx <=7):\n",
    "    #    if (rxbdir_ndx == 1):\n",
    "    #        print(wRF)\n",
    "    #        print([x*2.78/y for x,y in zip(wRF, env.eff_ch)])\n",
    "        rss_vals.append(np.abs(rssi_val)**2)\n",
    "        rate_vals.append(rate)\n",
    "    else:\n",
    "    #    if (rxbdir_ndx == 8):\n",
    "    #        print(env.BeamSet[rxbdir_ndx])\n",
    "    #        print(rate)\n",
    "    #        print(np.abs(rssi_val)**2)\n",
    "    #        print(wRF)\n",
    "    #        print([x/y for x,y in zip(wRF, env.eff_ch)])\n",
    "        widerss_vals.append(np.abs(rssi_val)**2)\n",
    "        widerate_vals.append(rate)\n",
    "        \n",
    "fig = plt.figure(figsize=(9,6))\n",
    "plt.plot(np.arange(len(rss_vals)), rss_vals, np.arange(0,len(rss_vals),2), widerss_vals)\n",
    "plt.legend([\"narrow beamwidth\", \"wider beamwidth\"])\n",
    "plt.title(\"r: {}, theta: {}, Ntx: {}, Nrx: {}\".format(r2, theta2*180/np.pi, env.N_tx, env.N_rx))\n",
    "plt.show()"
   ]
  },
  {
   "cell_type": "code",
   "execution_count": null,
   "metadata": {
    "pycharm": {
     "is_executing": true
    },
    "scrolled": true
   },
   "outputs": [],
   "source": [
    "fig = plt.figure(figsize=(9,6))\n",
    "plt.plot(np.arange(len(rate_vals)), rate_vals, np.arange(0,len(rate_vals),2), widerate_vals)\n",
    "print(\"best narrow beam rate: {}, best wider beam rate: {}\".format(max(rate_vals), max(widerate_vals)))\n",
    "plt.legend([\"narrow beamwidth\", \"wider beamwidth\"])\n",
    "plt.xticks(np.arange(0, len(rate_vals)), [str(np.round(x[0]*180/np.pi, decimals=2)) for x in env.BeamSet[0:len(rate_vals)]])\n",
    "plt.xlabel('RX beam angle (deg)')\n",
    "plt.ylabel('data rate (bits/s)')\n",
    "plt.title(\"r: {}, theta: {}, Ntx: {}, Nrx: {}\".format(r2, theta2*180/np.pi, env.N_tx, env.N_rx))\n",
    "#plt.savefig(\"140820_wide_narrow_rate_2.pdf\")\n",
    "plt.show()"
   ]
  },
  {
   "cell_type": "code",
   "execution_count": null,
   "metadata": {
    "pycharm": {
     "is_executing": true
    }
   },
   "outputs": [],
   "source": [
    "obs = env.reset()\n",
    "#print(obs)\n",
    "print(\"cap: \", env.get_capacity())\n",
    "print(\"TX loc: \", env.tx_loc)\n",
    "i=0\n",
    "while True:\n",
    "    action = env.action_space.sample()\n",
    "    obs, rwd, done, _ = env.step(action)\n",
    "    #if (i==0):\n",
    "    #    print(obs)\n",
    "    #    i+=1\n",
    "    print(action, rwd, env.rate)\n",
    "    \n",
    "    if done:\n",
    "        break"
   ]
  },
  {
   "cell_type": "code",
   "execution_count": null,
   "metadata": {
    "pycharm": {
     "is_executing": true
    }
   },
   "outputs": [],
   "source": [
    "sc = np.array([[0,100,0], [10,50,0], [40,60,0], [70,80,0]])\n",
    "obs = env.test_reset(np.array([[100,0,0]]), 2, sc)\n",
    "print(env.tx_loc)\n",
    "print(env.tx_bdir*(180/np.pi))\n",
    "print(env.rx_bdir*(180/np.pi))\n",
    "rate, ndx, rssi_val = env.get_exh_rate()\n",
    "print(rssi_val)\n",
    "print(rate)\n",
    "print(env.channel.pathloss)"
   ]
  },
  {
   "cell_type": "code",
   "execution_count": null,
   "metadata": {
    "pycharm": {
     "is_executing": true
    }
   },
   "outputs": [],
   "source": [
    "tx_loc = np.array([[100,0,0]])\n",
    "sc = np.array([[0,100,0]])\n",
    "\n",
    "best_rssi_val = 0\n",
    "best_rate = 0.0\n",
    "best_rx_ndx = 0\n",
    "best_tx_ndx = 0\n",
    "for tx_ndx in range(env.N_tx):\n",
    "    obs = env.test_reset(tx_loc, tx_ndx, sc)\n",
    "    rate, rx_ndx, rssi_val = env.get_exh_rate()\n",
    "    if (rate > best_rate):\n",
    "        best_rate = rate\n",
    "        best_rssi_val = rssi_val\n",
    "        best_rx_ndx = rx_ndx\n",
    "        best_tx_ndx = tx_ndx    \n",
    "\n",
    "print(tx_loc)\n",
    "print(\"TX bdir: \", env.BeamSet[best_tx_ndx]*(180/np.pi))\n",
    "print(\"RX bdir: \", env.BeamSet[best_rx_ndx]*(180/np.pi))\n",
    "print(best_rssi_val)\n",
    "        "
   ]
  },
  {
   "cell_type": "code",
   "execution_count": null,
   "metadata": {
    "pycharm": {
     "is_executing": true
    }
   },
   "outputs": [],
   "source": [
    "#Plot the curves for RSSI vs rx bdir for two different tx_directions\n",
    "\n",
    "tx_loc = np.array([[100,0,0]])\n",
    "sc = np.array([[0,100,0], [10,50,0], [40,60,0], [70,80,0]])\n",
    "\n",
    "obs_1 = env.test_reset(tx_loc, 0, sc)\n",
    "rssi_values1, rate_values1 = env.meas_rate()\n",
    "rssi_values1 = [np.abs(x) ** 2 for x in rssi_values1]\n",
    "yaxis1 = list(reversed(np.sort(rssi_values1)))\n",
    "\n",
    "obs_2 = env.test_reset(tx_loc, 7, sc)\n",
    "rssi_values2, rate_values2 = env.meas_rate()\n",
    "rssi_values2 = [np.abs(x) ** 2 for x in rssi_values2]\n",
    "print(rssi_values2)\n",
    "yaxis2 = list(reversed(np.sort(rssi_values2)))\n",
    "\n",
    "fig = plt.figure()\n",
    "#ax1 = fig.add_subplot(131)\n",
    "xaxis1 = []\n",
    "for val in yaxis1:\n",
    "    ndx = rssi_values1.index(val)\n",
    "    xaxis1.append(ndx)\n",
    "    \n",
    "xaxis2 = []\n",
    "for val in yaxis2:\n",
    "    ndx = rssi_values2.index(val)\n",
    "    xaxis2.append(ndx)\n",
    "\n",
    "print(yaxis1)\n",
    "print(xaxis1)\n",
    "\n",
    "#plt.plot(xaxis1, yaxis1,xaxis2, yaxis2 )\n",
    "plt.plot(np.arange(1, env.N_tx+1), rssi_values1,np.arange(1, env.N_tx+1), rssi_values2 )\n",
    "\n",
    "plt.ylabel('RSSI')\n",
    "plt.xlabel('RXdir')\n",
    "plt.legend(['TX dir0', 'TXdir1'])\n",
    "plt.show()\n"
   ]
  }
 ],
 "metadata": {
  "kernelspec": {
   "display_name": "Python 3",
   "language": "python",
   "name": "python3"
  },
  "language_info": {
   "codemirror_mode": {
    "name": "ipython",
    "version": 3
   },
   "file_extension": ".py",
   "mimetype": "text/x-python",
   "name": "python",
   "nbconvert_exporter": "python",
   "pygments_lexer": "ipython3",
   "version": "3.6.9"
  }
 },
 "nbformat": 4,
 "nbformat_minor": 1
}
